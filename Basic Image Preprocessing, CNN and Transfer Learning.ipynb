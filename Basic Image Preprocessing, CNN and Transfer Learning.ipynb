{
 "cells": [
  {
   "cell_type": "markdown",
   "metadata": {},
   "source": [
    "## Basic Image Preprocessing, CNN and Transfer Learning"
   ]
  },
  {
   "cell_type": "markdown",
   "metadata": {},
   "source": [
    "Get the current working directory"
   ]
  },
  {
   "cell_type": "code",
   "execution_count": 3,
   "metadata": {},
   "outputs": [],
   "source": [
    "import os\n",
    "\n",
    "PATH = os.getcwd()"
   ]
  },
  {
   "cell_type": "markdown",
   "metadata": {},
   "source": [
    "Define the data path"
   ]
  },
  {
   "cell_type": "code",
   "execution_count": 4,
   "metadata": {},
   "outputs": [],
   "source": [
    "# Define data path\n",
    "data_path = PATH + '/data'\n",
    "data_dir_list = os.listdir(data_path)"
   ]
  },
  {
   "cell_type": "code",
   "execution_count": 5,
   "metadata": {},
   "outputs": [
    {
     "name": "stdout",
     "output_type": "stream",
     "text": [
      "['Humans', 'dogs', 'cats', 'horses']\n"
     ]
    }
   ],
   "source": [
    "print(data_dir_list)"
   ]
  },
  {
   "cell_type": "markdown",
   "metadata": {},
   "source": [
    "Required variables declaration and initialization"
   ]
  },
  {
   "cell_type": "code",
   "execution_count": 6,
   "metadata": {},
   "outputs": [],
   "source": [
    "img_rows=224\n",
    "img_cols=224\n",
    "num_channel=3\n",
    "num_epoch=2\n",
    "\n",
    "img_data_list=[]\n",
    "classes_names_list=[]"
   ]
  },
  {
   "cell_type": "markdown",
   "metadata": {},
   "source": [
    "Read the images and store them in the list"
   ]
  },
  {
   "cell_type": "code",
   "execution_count": 7,
   "metadata": {},
   "outputs": [
    {
     "name": "stdout",
     "output_type": "stream",
     "text": [
      "Loading images from Humans folder\n",
      "\n",
      "Loading images from dogs folder\n",
      "\n",
      "Loading images from cats folder\n",
      "\n",
      "Loading images from horses folder\n",
      "\n"
     ]
    }
   ],
   "source": [
    "import cv2\n",
    "\n",
    "for dataset in data_dir_list:\n",
    "    classes_names_list.append(dataset) \n",
    "    print ('Loading images from {} folder\\n'.format(dataset)) \n",
    "    img_list=os.listdir(data_path+'/'+ dataset)\n",
    "    for img in img_list:\n",
    "        input_img=cv2.imread(data_path + '/'+ dataset + '/'+ img )\n",
    "        input_img_resize=cv2.resize(input_img,(img_rows, img_cols))\n",
    "        img_data_list.append(input_img_resize)"
   ]
  },
  {
   "cell_type": "code",
   "execution_count": 8,
   "metadata": {},
   "outputs": [],
   "source": [
    "num_classes = len(classes_names_list)"
   ]
  },
  {
   "cell_type": "markdown",
   "metadata": {},
   "source": [
    "###### Image preprocessiong "
   ]
  },
  {
   "cell_type": "code",
   "execution_count": 9,
   "metadata": {},
   "outputs": [],
   "source": [
    "import numpy as np\n",
    "img_data = np.array(img_data_list)\n",
    "img_data = img_data.astype('float32')\n",
    "img_data /= 255"
   ]
  },
  {
   "cell_type": "code",
   "execution_count": 10,
   "metadata": {},
   "outputs": [
    {
     "name": "stdout",
     "output_type": "stream",
     "text": [
      "(808, 224, 224, 3)\n"
     ]
    }
   ],
   "source": [
    "print (img_data.shape)\n",
    "\n",
    "img_data = img_data.reshape(img_data.shape[0], img_data.shape[1], img_data.shape[2], num_channel)"
   ]
  },
  {
   "cell_type": "code",
   "execution_count": 11,
   "metadata": {},
   "outputs": [],
   "source": [
    "num_of_samples = img_data.shape[0]\n",
    "input_shape = img_data[0].shape"
   ]
  },
  {
   "cell_type": "code",
   "execution_count": 12,
   "metadata": {},
   "outputs": [],
   "source": [
    "classes = np.ones((num_of_samples,), dtype='int64')\n",
    "classes[0:202]=0\n",
    "classes[202:404]=1\n",
    "classes[404:606]=2\n",
    "classes[606:]=3"
   ]
  },
  {
   "cell_type": "code",
   "execution_count": 13,
   "metadata": {},
   "outputs": [
    {
     "name": "stderr",
     "output_type": "stream",
     "text": [
      "/home/yogesh/anaconda3/lib/python3.6/site-packages/h5py/__init__.py:34: FutureWarning: Conversion of the second argument of issubdtype from `float` to `np.floating` is deprecated. In future, it will be treated as `np.float64 == np.dtype(float).type`.\n",
      "  from ._conv import register_converters as _register_converters\n",
      "Using TensorFlow backend.\n"
     ]
    },
    {
     "name": "stdout",
     "output_type": "stream",
     "text": [
      "WARNING:tensorflow:From /home/yogesh/anaconda3/lib/python3.6/site-packages/tensorflow/contrib/learn/python/learn/datasets/base.py:198: retry (from tensorflow.contrib.learn.python.learn.datasets.base) is deprecated and will be removed in a future version.\n",
      "Instructions for updating:\n",
      "Use the retry module or similar alternatives.\n"
     ]
    }
   ],
   "source": [
    "from keras.utils import to_categorical\n",
    "\n",
    "# convert class labels to on-hot encoding\n",
    "classes = to_categorical(classes, num_classes)"
   ]
  },
  {
   "cell_type": "markdown",
   "metadata": {},
   "source": [
    "Shuffle the dataset"
   ]
  },
  {
   "cell_type": "code",
   "execution_count": 14,
   "metadata": {},
   "outputs": [],
   "source": [
    "from sklearn.utils import shuffle\n",
    "\n",
    "x, y = shuffle(img_data, classes, random_state=2)"
   ]
  },
  {
   "cell_type": "markdown",
   "metadata": {},
   "source": [
    "Split the dataset"
   ]
  },
  {
   "cell_type": "code",
   "execution_count": 15,
   "metadata": {},
   "outputs": [],
   "source": [
    "from sklearn.model_selection import train_test_split\n",
    "\n",
    "X_train, X_test, y_train, y_test = train_test_split(x, y, test_size=0.2, random_state=2)"
   ]
  },
  {
   "cell_type": "markdown",
   "metadata": {},
   "source": [
    "Defining the model"
   ]
  },
  {
   "cell_type": "code",
   "execution_count": 16,
   "metadata": {},
   "outputs": [],
   "source": [
    "from keras.models import Sequential\n",
    "from keras.layers import Dense, Dropout, Flatten\n",
    "from keras.layers import Conv2D, MaxPooling2D"
   ]
  },
  {
   "cell_type": "code",
   "execution_count": 17,
   "metadata": {},
   "outputs": [
    {
     "name": "stdout",
     "output_type": "stream",
     "text": [
      "WARNING:tensorflow:From /home/yogesh/anaconda3/lib/python3.6/site-packages/keras/backend/tensorflow_backend.py:1205: calling reduce_prod (from tensorflow.python.ops.math_ops) with keep_dims is deprecated and will be removed in a future version.\n",
      "Instructions for updating:\n",
      "keep_dims is deprecated, use keepdims instead\n"
     ]
    }
   ],
   "source": [
    "model = Sequential()\n",
    "\n",
    "model.add(Conv2D(32, (3, 3), activation='relu', input_shape=input_shape))\n",
    "model.add(Conv2D(32, (3, 3), activation='relu'))\n",
    "model.add(MaxPooling2D(pool_size=(2, 2)))\n",
    "model.add(Dropout(0.5))\n",
    "\n",
    "model.add(Conv2D(64, (3, 3), activation='relu'))\n",
    "model.add(Conv2D(64, (3, 3), activation='relu'))\n",
    "model.add(MaxPooling2D(pool_size=(2, 2)))\n",
    "model.add(Dropout(0.5))\n",
    "\n",
    "model.add(Flatten())\n",
    "model.add(Dense(64, activation='relu'))\n",
    "model.add(Dropout(0.5))\n",
    "model.add(Dense(num_classes, activation='softmax'))"
   ]
  },
  {
   "cell_type": "markdown",
   "metadata": {},
   "source": [
    "Compile the model"
   ]
  },
  {
   "cell_type": "code",
   "execution_count": 18,
   "metadata": {},
   "outputs": [
    {
     "name": "stdout",
     "output_type": "stream",
     "text": [
      "WARNING:tensorflow:From /home/yogesh/anaconda3/lib/python3.6/site-packages/keras/backend/tensorflow_backend.py:2755: calling reduce_sum (from tensorflow.python.ops.math_ops) with keep_dims is deprecated and will be removed in a future version.\n",
      "Instructions for updating:\n",
      "keep_dims is deprecated, use keepdims instead\n",
      "WARNING:tensorflow:From /home/yogesh/anaconda3/lib/python3.6/site-packages/keras/backend/tensorflow_backend.py:1290: calling reduce_mean (from tensorflow.python.ops.math_ops) with keep_dims is deprecated and will be removed in a future version.\n",
      "Instructions for updating:\n",
      "keep_dims is deprecated, use keepdims instead\n"
     ]
    }
   ],
   "source": [
    "model.compile(loss='categorical_crossentropy', optimizer='rmsprop', metrics=[\"accuracy\"])"
   ]
  },
  {
   "cell_type": "markdown",
   "metadata": {},
   "source": [
    "Viewing model_configuration"
   ]
  },
  {
   "cell_type": "code",
   "execution_count": 19,
   "metadata": {},
   "outputs": [
    {
     "name": "stdout",
     "output_type": "stream",
     "text": [
      "_________________________________________________________________\n",
      "Layer (type)                 Output Shape              Param #   \n",
      "=================================================================\n",
      "conv2d_1 (Conv2D)            (None, 222, 222, 32)      896       \n",
      "_________________________________________________________________\n",
      "conv2d_2 (Conv2D)            (None, 220, 220, 32)      9248      \n",
      "_________________________________________________________________\n",
      "max_pooling2d_1 (MaxPooling2 (None, 110, 110, 32)      0         \n",
      "_________________________________________________________________\n",
      "dropout_1 (Dropout)          (None, 110, 110, 32)      0         \n",
      "_________________________________________________________________\n",
      "conv2d_3 (Conv2D)            (None, 108, 108, 64)      18496     \n",
      "_________________________________________________________________\n",
      "conv2d_4 (Conv2D)            (None, 106, 106, 64)      36928     \n",
      "_________________________________________________________________\n",
      "max_pooling2d_2 (MaxPooling2 (None, 53, 53, 64)        0         \n",
      "_________________________________________________________________\n",
      "dropout_2 (Dropout)          (None, 53, 53, 64)        0         \n",
      "_________________________________________________________________\n",
      "flatten_1 (Flatten)          (None, 179776)            0         \n",
      "_________________________________________________________________\n",
      "dense_1 (Dense)              (None, 64)                11505728  \n",
      "_________________________________________________________________\n",
      "dropout_3 (Dropout)          (None, 64)                0         \n",
      "_________________________________________________________________\n",
      "dense_2 (Dense)              (None, 4)                 260       \n",
      "=================================================================\n",
      "Total params: 11,571,556\n",
      "Trainable params: 11,571,556\n",
      "Non-trainable params: 0\n",
      "_________________________________________________________________\n"
     ]
    }
   ],
   "source": [
    "model.summary()"
   ]
  },
  {
   "cell_type": "code",
   "execution_count": 20,
   "metadata": {},
   "outputs": [
    {
     "data": {
      "text/plain": [
       "array([0., 0., 0., 0., 0., 0., 0., 0., 0., 0., 0., 0., 0., 0., 0., 0., 0.,\n",
       "       0., 0., 0., 0., 0., 0., 0., 0., 0., 0., 0., 0., 0., 0., 0.],\n",
       "      dtype=float32)"
      ]
     },
     "execution_count": 20,
     "metadata": {},
     "output_type": "execute_result"
    }
   ],
   "source": [
    "model.layers[1].get_weights()[1]"
   ]
  },
  {
   "cell_type": "code",
   "execution_count": 21,
   "metadata": {},
   "outputs": [
    {
     "data": {
      "text/plain": [
       "[{'class_name': 'Conv2D',\n",
       "  'config': {'activation': 'relu',\n",
       "   'activity_regularizer': None,\n",
       "   'batch_input_shape': (None, 224, 224, 3),\n",
       "   'bias_constraint': None,\n",
       "   'bias_initializer': {'class_name': 'Zeros', 'config': {}},\n",
       "   'bias_regularizer': None,\n",
       "   'data_format': 'channels_last',\n",
       "   'dilation_rate': (1, 1),\n",
       "   'dtype': 'float32',\n",
       "   'filters': 32,\n",
       "   'kernel_constraint': None,\n",
       "   'kernel_initializer': {'class_name': 'VarianceScaling',\n",
       "    'config': {'distribution': 'uniform',\n",
       "     'mode': 'fan_avg',\n",
       "     'scale': 1.0,\n",
       "     'seed': None}},\n",
       "   'kernel_regularizer': None,\n",
       "   'kernel_size': (3, 3),\n",
       "   'name': 'conv2d_1',\n",
       "   'padding': 'valid',\n",
       "   'strides': (1, 1),\n",
       "   'trainable': True,\n",
       "   'use_bias': True}},\n",
       " {'class_name': 'Conv2D',\n",
       "  'config': {'activation': 'relu',\n",
       "   'activity_regularizer': None,\n",
       "   'bias_constraint': None,\n",
       "   'bias_initializer': {'class_name': 'Zeros', 'config': {}},\n",
       "   'bias_regularizer': None,\n",
       "   'data_format': 'channels_last',\n",
       "   'dilation_rate': (1, 1),\n",
       "   'filters': 32,\n",
       "   'kernel_constraint': None,\n",
       "   'kernel_initializer': {'class_name': 'VarianceScaling',\n",
       "    'config': {'distribution': 'uniform',\n",
       "     'mode': 'fan_avg',\n",
       "     'scale': 1.0,\n",
       "     'seed': None}},\n",
       "   'kernel_regularizer': None,\n",
       "   'kernel_size': (3, 3),\n",
       "   'name': 'conv2d_2',\n",
       "   'padding': 'valid',\n",
       "   'strides': (1, 1),\n",
       "   'trainable': True,\n",
       "   'use_bias': True}},\n",
       " {'class_name': 'MaxPooling2D',\n",
       "  'config': {'data_format': 'channels_last',\n",
       "   'name': 'max_pooling2d_1',\n",
       "   'padding': 'valid',\n",
       "   'pool_size': (2, 2),\n",
       "   'strides': (2, 2),\n",
       "   'trainable': True}},\n",
       " {'class_name': 'Dropout',\n",
       "  'config': {'name': 'dropout_1', 'rate': 0.5, 'trainable': True}},\n",
       " {'class_name': 'Conv2D',\n",
       "  'config': {'activation': 'relu',\n",
       "   'activity_regularizer': None,\n",
       "   'bias_constraint': None,\n",
       "   'bias_initializer': {'class_name': 'Zeros', 'config': {}},\n",
       "   'bias_regularizer': None,\n",
       "   'data_format': 'channels_last',\n",
       "   'dilation_rate': (1, 1),\n",
       "   'filters': 64,\n",
       "   'kernel_constraint': None,\n",
       "   'kernel_initializer': {'class_name': 'VarianceScaling',\n",
       "    'config': {'distribution': 'uniform',\n",
       "     'mode': 'fan_avg',\n",
       "     'scale': 1.0,\n",
       "     'seed': None}},\n",
       "   'kernel_regularizer': None,\n",
       "   'kernel_size': (3, 3),\n",
       "   'name': 'conv2d_3',\n",
       "   'padding': 'valid',\n",
       "   'strides': (1, 1),\n",
       "   'trainable': True,\n",
       "   'use_bias': True}},\n",
       " {'class_name': 'Conv2D',\n",
       "  'config': {'activation': 'relu',\n",
       "   'activity_regularizer': None,\n",
       "   'bias_constraint': None,\n",
       "   'bias_initializer': {'class_name': 'Zeros', 'config': {}},\n",
       "   'bias_regularizer': None,\n",
       "   'data_format': 'channels_last',\n",
       "   'dilation_rate': (1, 1),\n",
       "   'filters': 64,\n",
       "   'kernel_constraint': None,\n",
       "   'kernel_initializer': {'class_name': 'VarianceScaling',\n",
       "    'config': {'distribution': 'uniform',\n",
       "     'mode': 'fan_avg',\n",
       "     'scale': 1.0,\n",
       "     'seed': None}},\n",
       "   'kernel_regularizer': None,\n",
       "   'kernel_size': (3, 3),\n",
       "   'name': 'conv2d_4',\n",
       "   'padding': 'valid',\n",
       "   'strides': (1, 1),\n",
       "   'trainable': True,\n",
       "   'use_bias': True}},\n",
       " {'class_name': 'MaxPooling2D',\n",
       "  'config': {'data_format': 'channels_last',\n",
       "   'name': 'max_pooling2d_2',\n",
       "   'padding': 'valid',\n",
       "   'pool_size': (2, 2),\n",
       "   'strides': (2, 2),\n",
       "   'trainable': True}},\n",
       " {'class_name': 'Dropout',\n",
       "  'config': {'name': 'dropout_2', 'rate': 0.5, 'trainable': True}},\n",
       " {'class_name': 'Flatten', 'config': {'name': 'flatten_1', 'trainable': True}},\n",
       " {'class_name': 'Dense',\n",
       "  'config': {'activation': 'relu',\n",
       "   'activity_regularizer': None,\n",
       "   'bias_constraint': None,\n",
       "   'bias_initializer': {'class_name': 'Zeros', 'config': {}},\n",
       "   'bias_regularizer': None,\n",
       "   'kernel_constraint': None,\n",
       "   'kernel_initializer': {'class_name': 'VarianceScaling',\n",
       "    'config': {'distribution': 'uniform',\n",
       "     'mode': 'fan_avg',\n",
       "     'scale': 1.0,\n",
       "     'seed': None}},\n",
       "   'kernel_regularizer': None,\n",
       "   'name': 'dense_1',\n",
       "   'trainable': True,\n",
       "   'units': 64,\n",
       "   'use_bias': True}},\n",
       " {'class_name': 'Dropout',\n",
       "  'config': {'name': 'dropout_3', 'rate': 0.5, 'trainable': True}},\n",
       " {'class_name': 'Dense',\n",
       "  'config': {'activation': 'softmax',\n",
       "   'activity_regularizer': None,\n",
       "   'bias_constraint': None,\n",
       "   'bias_initializer': {'class_name': 'Zeros', 'config': {}},\n",
       "   'bias_regularizer': None,\n",
       "   'kernel_constraint': None,\n",
       "   'kernel_initializer': {'class_name': 'VarianceScaling',\n",
       "    'config': {'distribution': 'uniform',\n",
       "     'mode': 'fan_avg',\n",
       "     'scale': 1.0,\n",
       "     'seed': None}},\n",
       "   'kernel_regularizer': None,\n",
       "   'name': 'dense_2',\n",
       "   'trainable': True,\n",
       "   'units': 4,\n",
       "   'use_bias': True}}]"
      ]
     },
     "execution_count": 21,
     "metadata": {},
     "output_type": "execute_result"
    }
   ],
   "source": [
    "model.get_config()"
   ]
  },
  {
   "cell_type": "code",
   "execution_count": 22,
   "metadata": {
    "scrolled": true
   },
   "outputs": [
    {
     "data": {
      "text/plain": [
       "{'activation': 'relu',\n",
       " 'activity_regularizer': None,\n",
       " 'batch_input_shape': (None, 224, 224, 3),\n",
       " 'bias_constraint': None,\n",
       " 'bias_initializer': {'class_name': 'Zeros', 'config': {}},\n",
       " 'bias_regularizer': None,\n",
       " 'data_format': 'channels_last',\n",
       " 'dilation_rate': (1, 1),\n",
       " 'dtype': 'float32',\n",
       " 'filters': 32,\n",
       " 'kernel_constraint': None,\n",
       " 'kernel_initializer': {'class_name': 'VarianceScaling',\n",
       "  'config': {'distribution': 'uniform',\n",
       "   'mode': 'fan_avg',\n",
       "   'scale': 1.0,\n",
       "   'seed': None}},\n",
       " 'kernel_regularizer': None,\n",
       " 'kernel_size': (3, 3),\n",
       " 'name': 'conv2d_1',\n",
       " 'padding': 'valid',\n",
       " 'strides': (1, 1),\n",
       " 'trainable': True,\n",
       " 'use_bias': True}"
      ]
     },
     "execution_count": 22,
     "metadata": {},
     "output_type": "execute_result"
    }
   ],
   "source": [
    "model.layers[0].get_config()"
   ]
  },
  {
   "cell_type": "code",
   "execution_count": 23,
   "metadata": {},
   "outputs": [
    {
     "data": {
      "text/plain": [
       "(None, 224, 224, 3)"
      ]
     },
     "execution_count": 23,
     "metadata": {},
     "output_type": "execute_result"
    }
   ],
   "source": [
    "model.layers[0].input_shape"
   ]
  },
  {
   "cell_type": "code",
   "execution_count": 24,
   "metadata": {},
   "outputs": [
    {
     "data": {
      "text/plain": [
       "(None, 222, 222, 32)"
      ]
     },
     "execution_count": 24,
     "metadata": {},
     "output_type": "execute_result"
    }
   ],
   "source": [
    "model.layers[0].output_shape"
   ]
  },
  {
   "cell_type": "code",
   "execution_count": 25,
   "metadata": {},
   "outputs": [
    {
     "data": {
      "text/plain": [
       "[array([[[[ 0.03945214, -0.07892564,  0.01051739,  0.11636846,\n",
       "            0.02723001,  0.01414673,  0.10321297, -0.13023351,\n",
       "           -0.08340718,  0.09130009, -0.0866773 , -0.07779272,\n",
       "           -0.10364044,  0.0288492 , -0.02880049, -0.10375497,\n",
       "           -0.09007759,  0.10980056,  0.0813418 , -0.12433853,\n",
       "           -0.05767737,  0.10391589, -0.08611361, -0.10129665,\n",
       "            0.10460362,  0.07335152,  0.10418056, -0.0008291 ,\n",
       "           -0.11818038,  0.10983758, -0.07592501, -0.10735293],\n",
       "          [ 0.11049823,  0.0239237 ,  0.05504836,  0.07134505,\n",
       "            0.04668747,  0.01604337, -0.10452241, -0.01338176,\n",
       "            0.01933366, -0.0856971 , -0.00940448,  0.11973087,\n",
       "           -0.09462555, -0.0944702 , -0.02179252,  0.0875461 ,\n",
       "           -0.07609825,  0.0518734 , -0.01782826, -0.1139599 ,\n",
       "            0.05473679,  0.11863779,  0.09188713,  0.0623903 ,\n",
       "           -0.02952177,  0.11748646, -0.13757706, -0.07899509,\n",
       "           -0.01067145, -0.13790333,  0.01881206, -0.09499915],\n",
       "          [-0.01549238,  0.08446814, -0.08510119,  0.05960773,\n",
       "           -0.01455436, -0.02744245, -0.05141836, -0.11500812,\n",
       "            0.03677697,  0.11723034, -0.03693064,  0.02590895,\n",
       "           -0.05483761, -0.05360266,  0.12041156,  0.08206525,\n",
       "            0.01240179, -0.11352737, -0.10012649, -0.05878594,\n",
       "            0.08892468, -0.12406977, -0.01778144,  0.03121734,\n",
       "           -0.10593167, -0.12429328,  0.02860034, -0.09884204,\n",
       "           -0.12464165, -0.10170069,  0.06231616,  0.0537122 ]],\n",
       " \n",
       "         [[-0.11523977,  0.09358571,  0.12532507, -0.03532274,\n",
       "            0.0908203 , -0.0834163 , -0.06199926,  0.03762187,\n",
       "            0.13331874, -0.03694002, -0.10294564,  0.10536185,\n",
       "            0.08791167,  0.11299999,  0.11035013, -0.01413196,\n",
       "           -0.03920111,  0.01353931,  0.00577043, -0.06680775,\n",
       "           -0.08521481, -0.10787   ,  0.09241869,  0.05668743,\n",
       "           -0.01269619, -0.03097801,  0.00882769, -0.13690105,\n",
       "           -0.11065374, -0.01452304,  0.04341336,  0.07708792],\n",
       "          [-0.125411  ,  0.0228399 ,  0.06664556, -0.0025854 ,\n",
       "            0.03610785, -0.1366335 ,  0.06399524, -0.06932682,\n",
       "           -0.00144511, -0.07424041,  0.0304129 , -0.00870077,\n",
       "            0.05325004,  0.10459937, -0.0782036 , -0.12293524,\n",
       "            0.10403782, -0.02857529, -0.07473911, -0.0260559 ,\n",
       "            0.06185587,  0.09693445,  0.00214019, -0.0181966 ,\n",
       "            0.13699852,  0.05543546, -0.09571308,  0.06735989,\n",
       "            0.0020559 , -0.00027485,  0.06313834, -0.08288258],\n",
       "          [-0.10856353, -0.08793861, -0.03643045, -0.0661611 ,\n",
       "            0.05404332,  0.05354294, -0.00191619, -0.04857667,\n",
       "            0.10778572,  0.04922324,  0.02490582, -0.00309694,\n",
       "           -0.01485774, -0.05426388,  0.07606518,  0.08967441,\n",
       "           -0.04624871,  0.02406259, -0.12599486, -0.0710048 ,\n",
       "           -0.02033713,  0.12574054, -0.07455455, -0.09875244,\n",
       "           -0.01065829, -0.12321111, -0.0571708 , -0.13359688,\n",
       "           -0.1315862 ,  0.058054  ,  0.06628585, -0.08488471]],\n",
       " \n",
       "         [[-0.10005666, -0.08211803, -0.07711054,  0.04912621,\n",
       "           -0.12538096, -0.04426225, -0.05063076, -0.04437646,\n",
       "           -0.08698108,  0.05395004, -0.12082412,  0.02872084,\n",
       "            0.05299799, -0.01114801,  0.03210083,  0.12885289,\n",
       "            0.08107725,  0.01983494,  0.11778431,  0.12579797,\n",
       "           -0.13680276, -0.03453987, -0.13466415, -0.10899876,\n",
       "            0.00691967,  0.0965011 , -0.0871383 , -0.00139964,\n",
       "           -0.11199495,  0.07442796,  0.04114717, -0.06868389],\n",
       "          [ 0.10436411, -0.08175851,  0.12238429,  0.10505709,\n",
       "           -0.02017991, -0.04948665,  0.01181908, -0.12213384,\n",
       "            0.13368829,  0.09452742, -0.13099526, -0.0877376 ,\n",
       "           -0.13053958,  0.01165922,  0.00625174, -0.03569608,\n",
       "            0.13311346, -0.04427241,  0.0230529 ,  0.06202933,\n",
       "            0.01381311, -0.08359642,  0.04279965, -0.06943557,\n",
       "            0.07365407,  0.05424489, -0.03868894,  0.01307195,\n",
       "           -0.06451339,  0.1369463 ,  0.04802182,  0.06312287],\n",
       "          [ 0.04213504, -0.0582685 , -0.1283106 , -0.0872943 ,\n",
       "           -0.11611921,  0.07528067,  0.13601793, -0.00136404,\n",
       "            0.04397999,  0.07740632,  0.07165697, -0.02958525,\n",
       "            0.03824554,  0.05058143, -0.08306059, -0.13493703,\n",
       "            0.09004317, -0.09779267,  0.07590276,  0.11242448,\n",
       "            0.07176773,  0.01985918,  0.04549569, -0.03647681,\n",
       "           -0.08190034, -0.05150178, -0.06030144,  0.02931911,\n",
       "            0.10073546,  0.02074075,  0.00159796,  0.04362164]]],\n",
       " \n",
       " \n",
       "        [[[-0.11000203,  0.05287783,  0.0361063 ,  0.13403688,\n",
       "           -0.09723464, -0.11862927, -0.01315952,  0.06598115,\n",
       "           -0.05724089, -0.0661869 ,  0.07588312, -0.03284431,\n",
       "            0.06220224, -0.12079984,  0.10540232,  0.08323696,\n",
       "            0.12476669,  0.11342891,  0.00034234,  0.1040851 ,\n",
       "           -0.03364341,  0.0423587 , -0.11119079, -0.12764107,\n",
       "            0.04338737, -0.0459348 , -0.08480242, -0.062923  ,\n",
       "            0.03847368,  0.12546779, -0.0081481 , -0.07275942],\n",
       "          [-0.08346911, -0.11733525, -0.06900313,  0.13187958,\n",
       "           -0.02958446,  0.03119759, -0.09765635,  0.105538  ,\n",
       "           -0.03660768,  0.07304767, -0.10007752, -0.12261119,\n",
       "           -0.11618924, -0.10513882, -0.07306126, -0.11004603,\n",
       "           -0.11329894,  0.0997877 ,  0.10411182,  0.01721232,\n",
       "           -0.03805421, -0.02440239, -0.05774703,  0.01332842,\n",
       "           -0.04128116,  0.04776631, -0.01827241,  0.11113031,\n",
       "            0.08271226, -0.02461302,  0.04829684,  0.0540982 ],\n",
       "          [ 0.12531923, -0.07538408,  0.13645895,  0.04216008,\n",
       "            0.06767538, -0.03487694, -0.05078801,  0.06613004,\n",
       "            0.02166678, -0.03834436, -0.00263648,  0.00850536,\n",
       "           -0.12095502, -0.08408311,  0.11660431, -0.13688484,\n",
       "           -0.00907895,  0.05754723,  0.02337503,  0.01285042,\n",
       "            0.00026453, -0.01674842, -0.03603589, -0.07684052,\n",
       "            0.04395856, -0.08812864,  0.07525161, -0.12893853,\n",
       "            0.06600939, -0.02439022,  0.03468663,  0.09939653]],\n",
       " \n",
       "         [[ 0.12571783, -0.06347429,  0.01771951, -0.0933354 ,\n",
       "            0.09564812, -0.05568379, -0.01601119,  0.07238835,\n",
       "           -0.02631598,  0.12078051,  0.07677902, -0.04663442,\n",
       "            0.09393583, -0.0817341 , -0.12701179,  0.02889645,\n",
       "           -0.12351792,  0.07423362, -0.13769156, -0.07155149,\n",
       "           -0.0167141 , -0.06622297,  0.12129341,  0.03427514,\n",
       "            0.03796892, -0.11137801, -0.0616024 ,  0.13137205,\n",
       "           -0.0428755 ,  0.01879632, -0.02896608, -0.00491312],\n",
       "          [ 0.01627801,  0.0748834 , -0.11175273,  0.08247851,\n",
       "            0.05029446, -0.0250674 ,  0.1276175 , -0.00373   ,\n",
       "            0.13307695, -0.08332472,  0.00706393, -0.11757674,\n",
       "           -0.09316115,  0.09247507, -0.09655094, -0.0120092 ,\n",
       "            0.12096523, -0.11473452, -0.04534679, -0.11829061,\n",
       "            0.04535264,  0.01249011, -0.02268526, -0.10699492,\n",
       "           -0.0151296 , -0.01807663,  0.00615838, -0.11720774,\n",
       "           -0.03518441,  0.02935337,  0.12610628, -0.04036874],\n",
       "          [-0.01869334, -0.00167282, -0.06732189, -0.0064837 ,\n",
       "            0.0325042 ,  0.04495719, -0.10240307, -0.12896226,\n",
       "            0.04331291,  0.02350919, -0.01543275, -0.06257746,\n",
       "            0.07649037, -0.03709977, -0.06455716,  0.0047618 ,\n",
       "            0.02932681,  0.05362119, -0.01886806,  0.0809786 ,\n",
       "            0.02269532,  0.07100326, -0.02504319, -0.00562464,\n",
       "           -0.00525033, -0.01249057,  0.05977038, -0.06963047,\n",
       "           -0.04947635,  0.03710069, -0.1112776 ,  0.02976684]],\n",
       " \n",
       "         [[ 0.01591234,  0.0254208 ,  0.02070428,  0.03692682,\n",
       "            0.10464542,  0.04464383,  0.07114939, -0.00684537,\n",
       "           -0.03733353,  0.04638849, -0.02400303, -0.02988287,\n",
       "            0.00249304,  0.08493677, -0.1073678 , -0.0397236 ,\n",
       "            0.07400618,  0.03160511, -0.08223337,  0.12838082,\n",
       "           -0.08491041, -0.09910949,  0.0083939 ,  0.07437992,\n",
       "            0.05486248, -0.03761496, -0.01582264, -0.07876641,\n",
       "            0.1115586 ,  0.10588405, -0.04342642,  0.11743115],\n",
       "          [-0.04470471,  0.00839637,  0.07746568,  0.13534288,\n",
       "           -0.00123772,  0.02332509,  0.03197119, -0.07823467,\n",
       "            0.04504722, -0.09481847, -0.04844791,  0.01604897,\n",
       "            0.09359565,  0.119792  ,  0.03284787,  0.11833088,\n",
       "            0.08098358, -0.00442624,  0.09036037, -0.12829971,\n",
       "           -0.05725697,  0.10615328, -0.04833067, -0.06639114,\n",
       "            0.0887275 , -0.06321325,  0.11639874, -0.068586  ,\n",
       "            0.03947727,  0.04850605,  0.0450924 , -0.08992531],\n",
       "          [-0.11147262, -0.01614409,  0.12825035, -0.13319719,\n",
       "           -0.13013531,  0.00913709, -0.09982751,  0.04433706,\n",
       "           -0.03400839, -0.08133657,  0.06972651, -0.04591051,\n",
       "            0.07294388,  0.053489  ,  0.03344926,  0.0289382 ,\n",
       "            0.04258333,  0.06452885, -0.00032645, -0.06214378,\n",
       "           -0.04682442,  0.09851615,  0.03714854, -0.11542197,\n",
       "            0.09120515,  0.11263041, -0.06794208,  0.06522638,\n",
       "           -0.05105898,  0.08254918, -0.11523891, -0.02086555]]],\n",
       " \n",
       " \n",
       "        [[[-0.02241781, -0.12072004, -0.10806598, -0.01432521,\n",
       "           -0.08358533,  0.09672478, -0.05649513,  0.1145616 ,\n",
       "           -0.1329426 ,  0.12706257,  0.11352713,  0.01468848,\n",
       "           -0.04649596,  0.11214967, -0.02266815, -0.03587607,\n",
       "           -0.00186475,  0.03361945, -0.09702385,  0.01495109,\n",
       "            0.13166733,  0.06194296, -0.08335118, -0.08635375,\n",
       "           -0.07979093,  0.12799583,  0.07081014, -0.00631569,\n",
       "           -0.10113482, -0.09498592, -0.10118267, -0.04543211],\n",
       "          [-0.100963  , -0.04563685, -0.13481794, -0.00505705,\n",
       "           -0.01718257, -0.0581847 , -0.11567928, -0.00058848,\n",
       "           -0.03791065,  0.09515679, -0.07535009, -0.12185523,\n",
       "            0.12538023,  0.1075848 ,  0.01769091, -0.13770653,\n",
       "            0.09612486,  0.00517277,  0.02766973,  0.06180216,\n",
       "            0.00558972, -0.00865921, -0.05831194,  0.00899175,\n",
       "            0.11247049, -0.08361978, -0.09696699,  0.11207853,\n",
       "           -0.08102079,  0.00388817, -0.00287753, -0.04103664],\n",
       "          [ 0.08269794, -0.03396916, -0.12322295, -0.13246778,\n",
       "           -0.13519764,  0.06601383, -0.03961752, -0.06395148,\n",
       "            0.08087328, -0.07472418, -0.06370535, -0.02771158,\n",
       "           -0.13734676,  0.039949  , -0.05669917,  0.10271853,\n",
       "           -0.01197791, -0.03938837,  0.02936894,  0.03076321,\n",
       "            0.08401589,  0.01692756,  0.04877153,  0.00335982,\n",
       "           -0.02159123,  0.09180543, -0.1090036 ,  0.0116273 ,\n",
       "            0.1294385 ,  0.08147672, -0.12569727, -0.04330244]],\n",
       " \n",
       "         [[-0.03349652,  0.0506046 ,  0.10923453,  0.04672906,\n",
       "            0.06799522, -0.0638216 ,  0.11058277,  0.0624368 ,\n",
       "           -0.00125365, -0.10365754, -0.05055698,  0.03332084,\n",
       "           -0.09893888, -0.01992496, -0.0763272 ,  0.08464885,\n",
       "           -0.01642362, -0.05287329, -0.12558632, -0.04250785,\n",
       "           -0.06595348,  0.02243206,  0.10174985,  0.12740658,\n",
       "            0.06816557,  0.00342184, -0.085592  ,  0.06285515,\n",
       "           -0.11402202,  0.07260957,  0.07147264, -0.12113366],\n",
       "          [ 0.07269207,  0.04972038,  0.03051099, -0.00217527,\n",
       "           -0.12643214, -0.03147092,  0.09506239, -0.08412886,\n",
       "            0.01046365, -0.09040309, -0.00493445,  0.05329786,\n",
       "           -0.13132322, -0.11617038, -0.0807666 ,  0.10055415,\n",
       "            0.05878505, -0.08380421,  0.0979978 ,  0.0182659 ,\n",
       "            0.1244608 ,  0.04867515,  0.01257233,  0.01088579,\n",
       "           -0.12885924, -0.10212088,  0.04384159,  0.01084009,\n",
       "            0.12831075, -0.09239917, -0.0933622 , -0.02037494],\n",
       "          [ 0.06108069,  0.04639596, -0.06705263, -0.12526816,\n",
       "            0.08875906,  0.05506745, -0.13677043,  0.12259401,\n",
       "            0.10302337, -0.04723787, -0.03097449, -0.06622004,\n",
       "            0.09516101,  0.12904184,  0.01723301,  0.0532636 ,\n",
       "           -0.03041202,  0.02670327,  0.04139645,  0.07615329,\n",
       "           -0.12232044,  0.02796122, -0.02395368, -0.07694776,\n",
       "            0.12500368, -0.00553831, -0.10952271,  0.13391371,\n",
       "            0.03747903,  0.13307558, -0.07448288,  0.1141267 ]],\n",
       " \n",
       "         [[-0.01091449,  0.13729556, -0.00761512, -0.00667611,\n",
       "            0.05071446,  0.10817745, -0.12029435,  0.0802049 ,\n",
       "            0.03529891, -0.07818688, -0.00089966, -0.01927749,\n",
       "            0.11406375, -0.13472414, -0.11164001,  0.04049918,\n",
       "            0.09721135,  0.02929372,  0.03694488, -0.05082983,\n",
       "           -0.01140828, -0.13275164, -0.1338649 , -0.06146025,\n",
       "           -0.09496979, -0.05349078, -0.04955641,  0.00242667,\n",
       "           -0.03527388, -0.11788884, -0.00281672,  0.12600382],\n",
       "          [ 0.06608947,  0.11624037, -0.10522822,  0.06902106,\n",
       "            0.06955169,  0.06300391,  0.05362622,  0.12482835,\n",
       "            0.09904733, -0.03829626,  0.01986261, -0.09954055,\n",
       "           -0.07589506,  0.05616513,  0.08133529, -0.03122105,\n",
       "           -0.05429366,  0.08676286, -0.10949296,  0.03238282,\n",
       "           -0.10650016,  0.1328062 ,  0.03857851,  0.05680907,\n",
       "           -0.12009314, -0.0630486 ,  0.02849028, -0.05438296,\n",
       "            0.11888929,  0.07868078,  0.01654543, -0.03718302],\n",
       "          [-0.05280771,  0.05225013, -0.05138934, -0.11272725,\n",
       "           -0.06537379,  0.02007054,  0.071694  , -0.00743693,\n",
       "            0.08796297, -0.10792896,  0.11646937, -0.00673608,\n",
       "           -0.10810694, -0.1181378 ,  0.01860277,  0.0666637 ,\n",
       "           -0.10201312,  0.00672013, -0.05043787,  0.03268215,\n",
       "            0.06217392,  0.03714965,  0.00986047, -0.01029213,\n",
       "            0.04266612,  0.13756542,  0.07489242, -0.02797978,\n",
       "            0.08049056, -0.01333642, -0.13282512,  0.05005397]]]],\n",
       "       dtype=float32),\n",
       " array([0., 0., 0., 0., 0., 0., 0., 0., 0., 0., 0., 0., 0., 0., 0., 0., 0.,\n",
       "        0., 0., 0., 0., 0., 0., 0., 0., 0., 0., 0., 0., 0., 0., 0.],\n",
       "       dtype=float32)]"
      ]
     },
     "execution_count": 25,
     "metadata": {},
     "output_type": "execute_result"
    }
   ],
   "source": [
    "model.layers[0].get_weights()"
   ]
  },
  {
   "cell_type": "code",
   "execution_count": 26,
   "metadata": {},
   "outputs": [
    {
     "name": "stdout",
     "output_type": "stream",
     "text": [
      "(2,)\n",
      "(3, 3, 3, 32)\n",
      "(32,)\n"
     ]
    }
   ],
   "source": [
    "print(np.shape(model.layers[0].get_weights()))\n",
    "print(np.shape(model.layers[0].get_weights()[0]))\n",
    "print(np.shape(model.layers[0].get_weights()[1]))"
   ]
  },
  {
   "cell_type": "code",
   "execution_count": 27,
   "metadata": {},
   "outputs": [
    {
     "data": {
      "text/plain": [
       "True"
      ]
     },
     "execution_count": 27,
     "metadata": {},
     "output_type": "execute_result"
    }
   ],
   "source": [
    "model.layers[0].trainable"
   ]
  },
  {
   "cell_type": "markdown",
   "metadata": {},
   "source": [
    "#### Training/fit the model "
   ]
  },
  {
   "cell_type": "code",
   "execution_count": 28,
   "metadata": {},
   "outputs": [
    {
     "name": "stdout",
     "output_type": "stream",
     "text": [
      "Train on 646 samples, validate on 162 samples\n",
      "Epoch 1/2\n",
      "646/646 [==============================] - 100s - loss: 1.6481 - acc: 0.2539 - val_loss: 1.4039 - val_acc: 0.2469\n",
      "Epoch 2/2\n",
      "646/646 [==============================] - 97s - loss: 1.3917 - acc: 0.2910 - val_loss: 1.2995 - val_acc: 0.3765\n"
     ]
    }
   ],
   "source": [
    "hist = model.fit(X_train, y_train, batch_size=16, epochs=num_epoch, verbose=1, validation_data=(X_test, y_test))"
   ]
  },
  {
   "cell_type": "markdown",
   "metadata": {},
   "source": [
    "##### Evaluating the model"
   ]
  },
  {
   "cell_type": "code",
   "execution_count": 29,
   "metadata": {},
   "outputs": [
    {
     "name": "stdout",
     "output_type": "stream",
     "text": [
      "162/162 [==============================] - 7s     \n",
      "Test Loss: 1.2995230474589783\n",
      "Test Accuracy: 0.3765432098765432\n"
     ]
    }
   ],
   "source": [
    "score = model.evaluate(X_test, y_test, batch_size=16)\n",
    "print('Test Loss:', score[0])\n",
    "print('Test Accuracy:', score[1])"
   ]
  },
  {
   "cell_type": "code",
   "execution_count": 30,
   "metadata": {},
   "outputs": [
    {
     "name": "stdout",
     "output_type": "stream",
     "text": [
      "(1, 224, 224, 3)\n"
     ]
    }
   ],
   "source": [
    "test_image = X_test[0:1]\n",
    "print (test_image.shape)"
   ]
  },
  {
   "cell_type": "code",
   "execution_count": 31,
   "metadata": {},
   "outputs": [
    {
     "name": "stdout",
     "output_type": "stream",
     "text": [
      "[[0.2331537  0.2536217  0.24537747 0.26784712]]\n",
      "1/1 [==============================] - 0s\n",
      "[3]\n",
      "[[0. 0. 1. 0.]]\n"
     ]
    }
   ],
   "source": [
    "print(model.predict(test_image))\n",
    "print(model.predict_classes(test_image))\n",
    "print(y_test[0:1])"
   ]
  },
  {
   "cell_type": "markdown",
   "metadata": {},
   "source": [
    "##### Printing the confusion matrix"
   ]
  },
  {
   "cell_type": "code",
   "execution_count": 32,
   "metadata": {},
   "outputs": [
    {
     "name": "stdout",
     "output_type": "stream",
     "text": [
      "[[0.2331537  0.2536217  0.24537745 0.26784712]\n",
      " [0.20532821 0.2548991  0.23188284 0.3078899 ]\n",
      " [0.22795032 0.2513079  0.2402279  0.28051382]\n",
      " [0.15763423 0.22665913 0.21252245 0.40318418]\n",
      " [0.05415497 0.16666207 0.11741827 0.6617647 ]\n",
      " [0.20328061 0.2502302  0.23193586 0.31455338]\n",
      " [0.22768117 0.25040764 0.24503109 0.27688015]\n",
      " [0.19602336 0.24534641 0.22525537 0.3333749 ]\n",
      " [0.25094998 0.25078276 0.2515188  0.24674846]\n",
      " [0.0579782  0.16873285 0.10451636 0.6687725 ]\n",
      " [0.24234584 0.25273886 0.2506263  0.25428897]\n",
      " [0.15073735 0.24696931 0.19714963 0.40514365]\n",
      " [0.24833934 0.25056022 0.25175077 0.2493497 ]\n",
      " [0.15701985 0.23554577 0.19939213 0.4080422 ]\n",
      " [0.25233942 0.25004372 0.2563575  0.24125938]\n",
      " [0.24568534 0.25196114 0.25089428 0.25145927]\n",
      " [0.19113874 0.2616466  0.22243468 0.32478002]\n",
      " [0.1843046  0.24541928 0.21612705 0.35414907]\n",
      " [0.25054348 0.24919462 0.2539646  0.24629724]\n",
      " [0.2525434  0.24994789 0.2553108  0.24219798]\n",
      " [0.15877096 0.23449908 0.20227596 0.404454  ]\n",
      " [0.23528734 0.24925463 0.24564265 0.26981542]\n",
      " [0.23206115 0.25417298 0.24233547 0.27143046]\n",
      " [0.2022677  0.25047946 0.23412548 0.31312737]\n",
      " [0.25244334 0.2503804  0.25415704 0.24301924]\n",
      " [0.04168253 0.15994906 0.09329764 0.7050708 ]\n",
      " [0.13522226 0.23769653 0.18175687 0.44532433]\n",
      " [0.1247244  0.21856044 0.17647837 0.48023683]\n",
      " [0.2486142  0.25143453 0.25035673 0.2495945 ]\n",
      " [0.15951891 0.247914   0.1985312  0.39403588]\n",
      " [0.24987665 0.24960089 0.2533141  0.24720837]\n",
      " [0.24380398 0.2512059  0.25079173 0.25419837]\n",
      " [0.20030022 0.24947096 0.2384204  0.31180847]\n",
      " [0.25039232 0.25032526 0.25352728 0.24575512]\n",
      " [0.24178985 0.25330946 0.24869683 0.2562039 ]\n",
      " [0.06805007 0.19846466 0.12740362 0.60608166]\n",
      " [0.25096926 0.2500692  0.25415406 0.24480751]\n",
      " [0.25181827 0.25137752 0.2547022  0.24210192]\n",
      " [0.20217189 0.24668817 0.22948292 0.32165706]\n",
      " [0.24093421 0.25047186 0.24790126 0.26069266]\n",
      " [0.212418   0.25191963 0.23373467 0.30192772]\n",
      " [0.04310699 0.15939537 0.09566089 0.7018367 ]\n",
      " [0.23206021 0.25266123 0.24378963 0.271489  ]\n",
      " [0.24434936 0.25224847 0.25090322 0.2524989 ]\n",
      " [0.20412585 0.307647   0.32573584 0.16249137]\n",
      " [0.13069296 0.23282212 0.18391773 0.45256725]\n",
      " [0.21057346 0.2569073  0.29180193 0.24071726]\n",
      " [0.21489613 0.24709208 0.23481518 0.3031966 ]\n",
      " [0.24483494 0.250479   0.24996187 0.25472414]\n",
      " [0.18289793 0.24721485 0.22008532 0.34980187]\n",
      " [0.25257346 0.24974431 0.25509965 0.2425825 ]\n",
      " [0.0851763  0.06962559 0.09875692 0.74644125]\n",
      " [0.14218669 0.23355253 0.19410329 0.4301574 ]\n",
      " [0.2515412  0.24878147 0.255441   0.24423632]\n",
      " [0.23999497 0.25015995 0.2529088  0.25693628]\n",
      " [0.22361365 0.2500913  0.24253024 0.28376487]\n",
      " [0.2647129  0.24789545 0.25868237 0.22870931]\n",
      " [0.24798904 0.24786572 0.25264677 0.25149846]\n",
      " [0.1586603  0.24518871 0.20678166 0.38936925]\n",
      " [0.18192525 0.2450758  0.21891642 0.35408252]\n",
      " [0.14341308 0.23822676 0.19314812 0.4252121 ]\n",
      " [0.25251627 0.24991022 0.25551128 0.2420622 ]\n",
      " [0.23837769 0.25438395 0.24741988 0.25981846]\n",
      " [0.10604411 0.22404513 0.1632981  0.5066127 ]\n",
      " [0.22586069 0.24974103 0.24301499 0.28138322]\n",
      " [0.22940415 0.2537288  0.24276368 0.2741034 ]\n",
      " [0.21393281 0.24813566 0.2321872  0.3057443 ]\n",
      " [0.25079083 0.24922203 0.25368032 0.24630684]\n",
      " [0.06987695 0.17556883 0.12770578 0.62684846]\n",
      " [0.24411646 0.2506365  0.24952528 0.25572178]\n",
      " [0.19276327 0.25353923 0.22961292 0.32408458]\n",
      " [0.18550333 0.24438329 0.21847823 0.3516352 ]\n",
      " [0.25252432 0.24990074 0.2555378  0.24203709]\n",
      " [0.24496552 0.25041473 0.24967808 0.2549417 ]\n",
      " [0.14702733 0.23913397 0.19269657 0.42114216]\n",
      " [0.22367992 0.26132065 0.24204284 0.27295655]\n",
      " [0.16012599 0.23018794 0.20892538 0.40076068]\n",
      " [0.18220422 0.19222662 0.19927582 0.42629337]\n",
      " [0.24589564 0.2532682  0.25011504 0.25072116]\n",
      " [0.15040597 0.2307016  0.19825928 0.42063317]\n",
      " [0.25100568 0.2509715  0.25317818 0.24484463]\n",
      " [0.18970215 0.24609575 0.22288181 0.34132028]\n",
      " [0.21024412 0.2482775  0.23739043 0.304088  ]\n",
      " [0.25231844 0.25007832 0.25496072 0.24264249]\n",
      " [0.23452905 0.2518011  0.24870464 0.26496515]\n",
      " [0.22922806 0.25055465 0.24356124 0.27665615]\n",
      " [0.21523269 0.25396764 0.23594716 0.2948525 ]\n",
      " [0.10604411 0.22404513 0.1632981  0.5066127 ]\n",
      " [0.17933413 0.23789755 0.2211921  0.36157626]\n",
      " [0.25194734 0.24770151 0.25632966 0.24402145]\n",
      " [0.24177103 0.24874625 0.25019988 0.25928277]\n",
      " [0.14053473 0.22813976 0.19375557 0.43756995]\n",
      " [0.2527175  0.25016382 0.2539938  0.24312486]\n",
      " [0.22065122 0.25106236 0.23881215 0.2894743 ]\n",
      " [0.25126097 0.25080773 0.25414932 0.24378206]\n",
      " [0.2483974  0.24990752 0.25107136 0.25062367]\n",
      " [0.20741074 0.26303247 0.23064291 0.29891384]\n",
      " [0.25121692 0.2486189  0.2577594  0.24240486]\n",
      " [0.24751583 0.24937634 0.25144902 0.25165883]\n",
      " [0.16162317 0.23523946 0.20700322 0.3961342 ]\n",
      " [0.15979919 0.22739127 0.2136046  0.3992049 ]\n",
      " [0.00683642 0.06478973 0.02730733 0.90106654]\n",
      " [0.25075358 0.25236672 0.25301218 0.24386747]\n",
      " [0.21233301 0.25042972 0.23540744 0.30182981]\n",
      " [0.25163075 0.25026283 0.25568298 0.24242346]\n",
      " [0.10473928 0.20078242 0.16471148 0.52976686]\n",
      " [0.2461965  0.25380558 0.2516804  0.2483176 ]\n",
      " [0.22406505 0.2504476  0.24286759 0.28261974]\n",
      " [0.10330001 0.2196756  0.17507441 0.50194997]\n",
      " [0.2485006  0.24965607 0.25215384 0.24968947]\n",
      " [0.23822145 0.2509884  0.24717861 0.26361153]\n",
      " [0.10789001 0.22229305 0.16616306 0.5036539 ]\n",
      " [0.20972016 0.25303814 0.23066999 0.30657175]\n",
      " [0.21963793 0.24674827 0.23576269 0.29785115]\n",
      " [0.23223247 0.25090438 0.24452913 0.27233407]\n",
      " [0.21657984 0.25078312 0.23912482 0.29351225]\n",
      " [0.23036714 0.2502256  0.24550195 0.27390534]\n",
      " [0.24946856 0.25089967 0.25278562 0.24684618]\n",
      " [0.18100992 0.24543805 0.21887782 0.35467413]\n",
      " [0.09877464 0.2068547  0.16978772 0.52458304]\n",
      " [0.25147495 0.2495182  0.25521013 0.24379675]\n",
      " [0.25035515 0.25224257 0.25365856 0.24374375]\n",
      " [0.24746075 0.24907838 0.25228128 0.25117967]\n",
      " [0.23589751 0.25099814 0.24507187 0.2680325 ]\n",
      " [0.2492956  0.24844143 0.25309703 0.24916591]\n",
      " [0.1763461  0.24479842 0.21592055 0.362935  ]\n",
      " [0.2250954  0.2516968  0.24154362 0.28166416]\n",
      " [0.15065192 0.24767031 0.20958322 0.39209452]\n",
      " [0.24823275 0.25378826 0.25094354 0.24703538]\n",
      " [0.24521323 0.25099808 0.25073048 0.25305822]\n",
      " [0.25068235 0.2500955  0.25308466 0.24613756]\n",
      " [0.2506947  0.24909517 0.25502664 0.24518353]\n",
      " [0.17723325 0.25956562 0.22306246 0.34013864]\n",
      " [0.10706378 0.21993406 0.16908178 0.5039204 ]\n",
      " [0.00951046 0.08129697 0.03316027 0.87603235]\n",
      " [0.25464728 0.24411532 0.24938485 0.2518525 ]\n",
      " [0.24830452 0.24703646 0.24770501 0.25695395]\n",
      " [0.24834336 0.25000903 0.25215608 0.2494915 ]\n",
      " [0.15397947 0.24831419 0.20158267 0.3961237 ]\n",
      " [0.22885278 0.24739558 0.24410556 0.2796461 ]\n",
      " [0.0738474  0.19040348 0.12640254 0.60934657]\n",
      " [0.04810096 0.16368338 0.09813547 0.6900802 ]\n",
      " [0.17659399 0.25042927 0.21643876 0.35653797]\n",
      " [0.08345349 0.18977864 0.13527198 0.5914959 ]\n",
      " [0.22197594 0.24706733 0.23855425 0.29240242]\n",
      " [0.25244334 0.2503804  0.25415704 0.24301924]\n",
      " [0.22069675 0.24861577 0.24072963 0.28995785]\n",
      " [0.16151467 0.24313617 0.2073075  0.38804168]\n",
      " [0.19742262 0.24412867 0.22252584 0.33592293]\n",
      " [0.17148024 0.24332711 0.21296135 0.37223136]\n",
      " [0.23278773 0.2508572  0.2485608  0.26779428]\n",
      " [0.22700655 0.25291833 0.24010256 0.27997255]\n",
      " [0.25464728 0.24411532 0.24938485 0.2518525 ]\n",
      " [0.0579782  0.16873285 0.10451636 0.6687725 ]\n",
      " [0.11877214 0.21933994 0.18029901 0.48158887]\n",
      " [0.23287754 0.25084043 0.24509433 0.27118772]\n",
      " [0.13229814 0.22353095 0.1824425  0.46172842]\n",
      " [0.23866417 0.2501373  0.24954486 0.26165363]\n",
      " [0.21264663 0.26184082 0.2340174  0.2914951 ]\n",
      " [0.24313283 0.25316846 0.2521224  0.25157642]\n",
      " [0.20503843 0.24784638 0.23385487 0.31326032]\n",
      " [0.22885524 0.24373582 0.23886737 0.28854156]]\n"
     ]
    }
   ],
   "source": [
    "from sklearn.metrics import confusion_matrix\n",
    "\n",
    "Y_pred = model.predict(X_test)\n",
    "print(Y_pred)"
   ]
  },
  {
   "cell_type": "code",
   "execution_count": 33,
   "metadata": {},
   "outputs": [
    {
     "name": "stdout",
     "output_type": "stream",
     "text": [
      "[3 3 3 3 3 3 3 3 2 3 3 3 2 3 2 1 3 3 2 2 3 3 3 3 2 3 3 3 1 3 2 3 3 2 3 3 2\n",
      " 2 3 3 3 3 3 3 2 3 2 3 3 3 2 3 3 2 3 3 0 2 3 3 3 2 3 3 3 3 3 2 3 3 3 3 2 3\n",
      " 3 3 3 3 1 3 2 3 3 2 3 3 3 3 3 2 3 3 2 3 2 2 3 2 3 3 3 3 2 3 2 3 1 3 3 2 3\n",
      " 3 3 3 3 3 3 2 3 3 2 2 2 3 2 3 3 3 1 3 2 2 3 3 3 0 3 2 3 3 3 3 3 3 3 2 3 3\n",
      " 3 3 3 3 0 3 3 3 3 3 3 1 3 3]\n"
     ]
    }
   ],
   "source": [
    "y_pred = np.argmax(Y_pred, axis=1)\n",
    "print(y_pred)"
   ]
  },
  {
   "cell_type": "code",
   "execution_count": 34,
   "metadata": {},
   "outputs": [
    {
     "name": "stdout",
     "output_type": "stream",
     "text": [
      "[[ 3  3  7 28]\n",
      " [ 0  1  9 30]\n",
      " [ 0  2 15 16]\n",
      " [ 0  0  6 42]]\n"
     ]
    }
   ],
   "source": [
    "print(confusion_matrix(np.argmax(y_test,axis=1), y_pred))"
   ]
  },
  {
   "cell_type": "markdown",
   "metadata": {},
   "source": [
    "###### Saving and loading model and weights"
   ]
  },
  {
   "cell_type": "code",
   "execution_count": 35,
   "metadata": {},
   "outputs": [],
   "source": [
    "from keras.models import model_from_json, load_model"
   ]
  },
  {
   "cell_type": "code",
   "execution_count": 36,
   "metadata": {},
   "outputs": [],
   "source": [
    "# serialize model to JSON\n",
    "model_json = model.to_json()\n",
    "\n",
    "with open(\"model.json\", \"w\") as json_file:\n",
    "    json_file.write(model_json)\n",
    "\n",
    "# serialize weights to HDF5\n",
    "model.save_weights(\"model.h5\")"
   ]
  },
  {
   "cell_type": "code",
   "execution_count": 37,
   "metadata": {},
   "outputs": [],
   "source": [
    "# load json and create model\n",
    "json_file = open('model.json', 'r')\n",
    "loaded_model_json = json_file.read()\n",
    "json_file.close()\n",
    "loaded_model = model_from_json(loaded_model_json)\n",
    "\n",
    "# load weights into new model\n",
    "loaded_model.load_weights(\"model.h5\")"
   ]
  },
  {
   "cell_type": "code",
   "execution_count": 38,
   "metadata": {},
   "outputs": [],
   "source": [
    "model.save('model.hdf5')\n",
    "loaded_model=load_model('model.hdf5')"
   ]
  },
  {
   "cell_type": "markdown",
   "metadata": {},
   "source": [
    "###### Transfer Learning - 1"
   ]
  },
  {
   "cell_type": "code",
   "execution_count": 39,
   "metadata": {},
   "outputs": [],
   "source": [
    "from keras.layers import Input, Dense"
   ]
  },
  {
   "cell_type": "code",
   "execution_count": 40,
   "metadata": {},
   "outputs": [],
   "source": [
    "# Custom_vgg_model_1\n",
    "#Training the classifier alone\n",
    "image_input = Input(shape=(224, 224, 3))"
   ]
  },
  {
   "cell_type": "code",
   "execution_count": 41,
   "metadata": {},
   "outputs": [
    {
     "name": "stdout",
     "output_type": "stream",
     "text": [
      "Downloading data from https://github.com/fchollet/deep-learning-models/releases/download/v0.1/vgg16_weights_tf_dim_ordering_tf_kernels.h5\n",
      "553074688/553467096 [============================>.] - ETA: 0s"
     ]
    }
   ],
   "source": [
    "from keras.applications.vgg16 import VGG16\n",
    "\n",
    "model = VGG16(input_tensor=image_input, include_top=True, weights='imagenet')"
   ]
  },
  {
   "cell_type": "markdown",
   "metadata": {},
   "source": [
    "\n",
    "include_top: whether to include the 3 fully-connected layers at the top of the network.\n",
    "\n",
    "weights: one of None (random initialization) or 'imagenet' (pre-training on ImageNet).\n",
    "\n",
    "input_tensor: optional Keras tensor (i.e. output of layers.Input()) to use as image input for the model.\n",
    "\n",
    "classes: optional number of classes to classify images into, only to be specified if include_top is True, and if no weights argument is specified.\n"
   ]
  },
  {
   "cell_type": "code",
   "execution_count": 42,
   "metadata": {
    "scrolled": true
   },
   "outputs": [
    {
     "name": "stdout",
     "output_type": "stream",
     "text": [
      "_________________________________________________________________\n",
      "Layer (type)                 Output Shape              Param #   \n",
      "=================================================================\n",
      "input_1 (InputLayer)         (None, 224, 224, 3)       0         \n",
      "_________________________________________________________________\n",
      "block1_conv1 (Conv2D)        (None, 224, 224, 64)      1792      \n",
      "_________________________________________________________________\n",
      "block1_conv2 (Conv2D)        (None, 224, 224, 64)      36928     \n",
      "_________________________________________________________________\n",
      "block1_pool (MaxPooling2D)   (None, 112, 112, 64)      0         \n",
      "_________________________________________________________________\n",
      "block2_conv1 (Conv2D)        (None, 112, 112, 128)     73856     \n",
      "_________________________________________________________________\n",
      "block2_conv2 (Conv2D)        (None, 112, 112, 128)     147584    \n",
      "_________________________________________________________________\n",
      "block2_pool (MaxPooling2D)   (None, 56, 56, 128)       0         \n",
      "_________________________________________________________________\n",
      "block3_conv1 (Conv2D)        (None, 56, 56, 256)       295168    \n",
      "_________________________________________________________________\n",
      "block3_conv2 (Conv2D)        (None, 56, 56, 256)       590080    \n",
      "_________________________________________________________________\n",
      "block3_conv3 (Conv2D)        (None, 56, 56, 256)       590080    \n",
      "_________________________________________________________________\n",
      "block3_pool (MaxPooling2D)   (None, 28, 28, 256)       0         \n",
      "_________________________________________________________________\n",
      "block4_conv1 (Conv2D)        (None, 28, 28, 512)       1180160   \n",
      "_________________________________________________________________\n",
      "block4_conv2 (Conv2D)        (None, 28, 28, 512)       2359808   \n",
      "_________________________________________________________________\n",
      "block4_conv3 (Conv2D)        (None, 28, 28, 512)       2359808   \n",
      "_________________________________________________________________\n",
      "block4_pool (MaxPooling2D)   (None, 14, 14, 512)       0         \n",
      "_________________________________________________________________\n",
      "block5_conv1 (Conv2D)        (None, 14, 14, 512)       2359808   \n",
      "_________________________________________________________________\n",
      "block5_conv2 (Conv2D)        (None, 14, 14, 512)       2359808   \n",
      "_________________________________________________________________\n",
      "block5_conv3 (Conv2D)        (None, 14, 14, 512)       2359808   \n",
      "_________________________________________________________________\n",
      "block5_pool (MaxPooling2D)   (None, 7, 7, 512)         0         \n",
      "_________________________________________________________________\n",
      "flatten (Flatten)            (None, 25088)             0         \n",
      "_________________________________________________________________\n",
      "fc1 (Dense)                  (None, 4096)              102764544 \n",
      "_________________________________________________________________\n",
      "fc2 (Dense)                  (None, 4096)              16781312  \n",
      "_________________________________________________________________\n",
      "predictions (Dense)          (None, 1000)              4097000   \n",
      "=================================================================\n",
      "Total params: 138,357,544\n",
      "Trainable params: 138,357,544\n",
      "Non-trainable params: 0\n",
      "_________________________________________________________________\n"
     ]
    }
   ],
   "source": [
    "model.summary()"
   ]
  },
  {
   "cell_type": "code",
   "execution_count": 43,
   "metadata": {},
   "outputs": [],
   "source": [
    "last_layer = model.get_layer('fc2').output\n",
    "out = Dense(num_classes, activation='softmax', name='output')(last_layer)"
   ]
  },
  {
   "cell_type": "code",
   "execution_count": 44,
   "metadata": {
    "scrolled": true
   },
   "outputs": [
    {
     "name": "stdout",
     "output_type": "stream",
     "text": [
      "_________________________________________________________________\n",
      "Layer (type)                 Output Shape              Param #   \n",
      "=================================================================\n",
      "input_1 (InputLayer)         (None, 224, 224, 3)       0         \n",
      "_________________________________________________________________\n",
      "block1_conv1 (Conv2D)        (None, 224, 224, 64)      1792      \n",
      "_________________________________________________________________\n",
      "block1_conv2 (Conv2D)        (None, 224, 224, 64)      36928     \n",
      "_________________________________________________________________\n",
      "block1_pool (MaxPooling2D)   (None, 112, 112, 64)      0         \n",
      "_________________________________________________________________\n",
      "block2_conv1 (Conv2D)        (None, 112, 112, 128)     73856     \n",
      "_________________________________________________________________\n",
      "block2_conv2 (Conv2D)        (None, 112, 112, 128)     147584    \n",
      "_________________________________________________________________\n",
      "block2_pool (MaxPooling2D)   (None, 56, 56, 128)       0         \n",
      "_________________________________________________________________\n",
      "block3_conv1 (Conv2D)        (None, 56, 56, 256)       295168    \n",
      "_________________________________________________________________\n",
      "block3_conv2 (Conv2D)        (None, 56, 56, 256)       590080    \n",
      "_________________________________________________________________\n",
      "block3_conv3 (Conv2D)        (None, 56, 56, 256)       590080    \n",
      "_________________________________________________________________\n",
      "block3_pool (MaxPooling2D)   (None, 28, 28, 256)       0         \n",
      "_________________________________________________________________\n",
      "block4_conv1 (Conv2D)        (None, 28, 28, 512)       1180160   \n",
      "_________________________________________________________________\n",
      "block4_conv2 (Conv2D)        (None, 28, 28, 512)       2359808   \n",
      "_________________________________________________________________\n",
      "block4_conv3 (Conv2D)        (None, 28, 28, 512)       2359808   \n",
      "_________________________________________________________________\n",
      "block4_pool (MaxPooling2D)   (None, 14, 14, 512)       0         \n",
      "_________________________________________________________________\n",
      "block5_conv1 (Conv2D)        (None, 14, 14, 512)       2359808   \n",
      "_________________________________________________________________\n",
      "block5_conv2 (Conv2D)        (None, 14, 14, 512)       2359808   \n",
      "_________________________________________________________________\n",
      "block5_conv3 (Conv2D)        (None, 14, 14, 512)       2359808   \n",
      "_________________________________________________________________\n",
      "block5_pool (MaxPooling2D)   (None, 7, 7, 512)         0         \n",
      "_________________________________________________________________\n",
      "flatten (Flatten)            (None, 25088)             0         \n",
      "_________________________________________________________________\n",
      "fc1 (Dense)                  (None, 4096)              102764544 \n",
      "_________________________________________________________________\n",
      "fc2 (Dense)                  (None, 4096)              16781312  \n",
      "_________________________________________________________________\n",
      "output (Dense)               (None, 4)                 16388     \n",
      "=================================================================\n",
      "Total params: 134,276,932\n",
      "Trainable params: 134,276,932\n",
      "Non-trainable params: 0\n",
      "_________________________________________________________________\n"
     ]
    }
   ],
   "source": [
    "from keras.models import Model\n",
    "\n",
    "custom_vgg_model = Model(image_input, out)\n",
    "custom_vgg_model.summary()"
   ]
  },
  {
   "cell_type": "code",
   "execution_count": 45,
   "metadata": {},
   "outputs": [],
   "source": [
    "for layer in custom_vgg_model.layers[:-1]:\n",
    "    layer.trainable = False"
   ]
  },
  {
   "cell_type": "code",
   "execution_count": 46,
   "metadata": {},
   "outputs": [],
   "source": [
    "custom_vgg_model.compile(loss='categorical_crossentropy', optimizer='rmsprop', metrics=['accuracy'])"
   ]
  },
  {
   "cell_type": "code",
   "execution_count": 47,
   "metadata": {
    "scrolled": false
   },
   "outputs": [
    {
     "name": "stdout",
     "output_type": "stream",
     "text": [
      "Train on 646 samples, validate on 162 samples\n",
      "Epoch 1/2\n",
      "646/646 [==============================] - 237s - loss: 1.7545 - acc: 0.4272 - val_loss: 1.8277 - val_acc: 0.3333\n",
      "Epoch 2/2\n",
      "646/646 [==============================] - 236s - loss: 1.0197 - acc: 0.6238 - val_loss: 0.9011 - val_acc: 0.5988\n"
     ]
    }
   ],
   "source": [
    "hist = custom_vgg_model.fit(X_train, y_train, batch_size=32, epochs=num_epoch, verbose=1, validation_data=(X_test, y_test))"
   ]
  },
  {
   "cell_type": "code",
   "execution_count": 48,
   "metadata": {},
   "outputs": [
    {
     "name": "stdout",
     "output_type": "stream",
     "text": [
      "162/162 [==============================] - 46s    \n",
      "[INFO] loss=0.9011, accuracy: 59.8765%\n"
     ]
    }
   ],
   "source": [
    "(loss, accuracy) = custom_vgg_model.evaluate(X_test, y_test, batch_size=10, verbose=1)\n",
    "\n",
    "print(\"[INFO] loss={:.4f}, accuracy: {:.4f}%\".format(loss, accuracy * 100))"
   ]
  },
  {
   "cell_type": "markdown",
   "metadata": {},
   "source": [
    "###### Transfer Learning - 2"
   ]
  },
  {
   "cell_type": "code",
   "execution_count": 49,
   "metadata": {
    "scrolled": true
   },
   "outputs": [
    {
     "name": "stdout",
     "output_type": "stream",
     "text": [
      "_________________________________________________________________\n",
      "Layer (type)                 Output Shape              Param #   \n",
      "=================================================================\n",
      "input_1 (InputLayer)         (None, 224, 224, 3)       0         \n",
      "_________________________________________________________________\n",
      "block1_conv1 (Conv2D)        (None, 224, 224, 64)      1792      \n",
      "_________________________________________________________________\n",
      "block1_conv2 (Conv2D)        (None, 224, 224, 64)      36928     \n",
      "_________________________________________________________________\n",
      "block1_pool (MaxPooling2D)   (None, 112, 112, 64)      0         \n",
      "_________________________________________________________________\n",
      "block2_conv1 (Conv2D)        (None, 112, 112, 128)     73856     \n",
      "_________________________________________________________________\n",
      "block2_conv2 (Conv2D)        (None, 112, 112, 128)     147584    \n",
      "_________________________________________________________________\n",
      "block2_pool (MaxPooling2D)   (None, 56, 56, 128)       0         \n",
      "_________________________________________________________________\n",
      "block3_conv1 (Conv2D)        (None, 56, 56, 256)       295168    \n",
      "_________________________________________________________________\n",
      "block3_conv2 (Conv2D)        (None, 56, 56, 256)       590080    \n",
      "_________________________________________________________________\n",
      "block3_conv3 (Conv2D)        (None, 56, 56, 256)       590080    \n",
      "_________________________________________________________________\n",
      "block3_pool (MaxPooling2D)   (None, 28, 28, 256)       0         \n",
      "_________________________________________________________________\n",
      "block4_conv1 (Conv2D)        (None, 28, 28, 512)       1180160   \n",
      "_________________________________________________________________\n",
      "block4_conv2 (Conv2D)        (None, 28, 28, 512)       2359808   \n",
      "_________________________________________________________________\n",
      "block4_conv3 (Conv2D)        (None, 28, 28, 512)       2359808   \n",
      "_________________________________________________________________\n",
      "block4_pool (MaxPooling2D)   (None, 14, 14, 512)       0         \n",
      "_________________________________________________________________\n",
      "block5_conv1 (Conv2D)        (None, 14, 14, 512)       2359808   \n",
      "_________________________________________________________________\n",
      "block5_conv2 (Conv2D)        (None, 14, 14, 512)       2359808   \n",
      "_________________________________________________________________\n",
      "block5_conv3 (Conv2D)        (None, 14, 14, 512)       2359808   \n",
      "_________________________________________________________________\n",
      "block5_pool (MaxPooling2D)   (None, 7, 7, 512)         0         \n",
      "_________________________________________________________________\n",
      "flatten (Flatten)            (None, 25088)             0         \n",
      "_________________________________________________________________\n",
      "fc1 (Dense)                  (None, 4096)              102764544 \n",
      "_________________________________________________________________\n",
      "fc2 (Dense)                  (None, 4096)              16781312  \n",
      "_________________________________________________________________\n",
      "predictions (Dense)          (None, 1000)              4097000   \n",
      "=================================================================\n",
      "Total params: 138,357,544\n",
      "Trainable params: 138,357,544\n",
      "Non-trainable params: 0\n",
      "_________________________________________________________________\n"
     ]
    }
   ],
   "source": [
    "# Training the feature extraction also\n",
    "model = VGG16(input_tensor=image_input, include_top=True, weights='imagenet')\n",
    "\n",
    "model.summary()"
   ]
  },
  {
   "cell_type": "code",
   "execution_count": 50,
   "metadata": {},
   "outputs": [],
   "source": [
    "last_layer = model.get_layer('block5_pool').output\n",
    "x = Flatten(name='flatten')(last_layer)\n",
    "x = Dense(128, activation='relu', name='fc1')(x)\n",
    "x = Dense(128, activation='relu', name='fc2')(x)\n",
    "out = Dense(num_classes, activation='softmax', name='output')(x)\n",
    "custom_vgg_model2 = Model(image_input, out)"
   ]
  },
  {
   "cell_type": "code",
   "execution_count": 51,
   "metadata": {
    "scrolled": true
   },
   "outputs": [
    {
     "name": "stdout",
     "output_type": "stream",
     "text": [
      "_________________________________________________________________\n",
      "Layer (type)                 Output Shape              Param #   \n",
      "=================================================================\n",
      "input_1 (InputLayer)         (None, 224, 224, 3)       0         \n",
      "_________________________________________________________________\n",
      "block1_conv1 (Conv2D)        (None, 224, 224, 64)      1792      \n",
      "_________________________________________________________________\n",
      "block1_conv2 (Conv2D)        (None, 224, 224, 64)      36928     \n",
      "_________________________________________________________________\n",
      "block1_pool (MaxPooling2D)   (None, 112, 112, 64)      0         \n",
      "_________________________________________________________________\n",
      "block2_conv1 (Conv2D)        (None, 112, 112, 128)     73856     \n",
      "_________________________________________________________________\n",
      "block2_conv2 (Conv2D)        (None, 112, 112, 128)     147584    \n",
      "_________________________________________________________________\n",
      "block2_pool (MaxPooling2D)   (None, 56, 56, 128)       0         \n",
      "_________________________________________________________________\n",
      "block3_conv1 (Conv2D)        (None, 56, 56, 256)       295168    \n",
      "_________________________________________________________________\n",
      "block3_conv2 (Conv2D)        (None, 56, 56, 256)       590080    \n",
      "_________________________________________________________________\n",
      "block3_conv3 (Conv2D)        (None, 56, 56, 256)       590080    \n",
      "_________________________________________________________________\n",
      "block3_pool (MaxPooling2D)   (None, 28, 28, 256)       0         \n",
      "_________________________________________________________________\n",
      "block4_conv1 (Conv2D)        (None, 28, 28, 512)       1180160   \n",
      "_________________________________________________________________\n",
      "block4_conv2 (Conv2D)        (None, 28, 28, 512)       2359808   \n",
      "_________________________________________________________________\n",
      "block4_conv3 (Conv2D)        (None, 28, 28, 512)       2359808   \n",
      "_________________________________________________________________\n",
      "block4_pool (MaxPooling2D)   (None, 14, 14, 512)       0         \n",
      "_________________________________________________________________\n",
      "block5_conv1 (Conv2D)        (None, 14, 14, 512)       2359808   \n",
      "_________________________________________________________________\n",
      "block5_conv2 (Conv2D)        (None, 14, 14, 512)       2359808   \n",
      "_________________________________________________________________\n",
      "block5_conv3 (Conv2D)        (None, 14, 14, 512)       2359808   \n",
      "_________________________________________________________________\n",
      "block5_pool (MaxPooling2D)   (None, 7, 7, 512)         0         \n",
      "_________________________________________________________________\n",
      "flatten (Flatten)            (None, 25088)             0         \n",
      "_________________________________________________________________\n",
      "fc1 (Dense)                  (None, 128)               3211392   \n",
      "_________________________________________________________________\n",
      "fc2 (Dense)                  (None, 128)               16512     \n",
      "_________________________________________________________________\n",
      "output (Dense)               (None, 4)                 516       \n",
      "=================================================================\n",
      "Total params: 17,943,108\n",
      "Trainable params: 17,943,108\n",
      "Non-trainable params: 0\n",
      "_________________________________________________________________\n"
     ]
    }
   ],
   "source": [
    "custom_vgg_model2.summary()"
   ]
  },
  {
   "cell_type": "code",
   "execution_count": 52,
   "metadata": {},
   "outputs": [],
   "source": [
    "# freeze all the layers except the dense layers\n",
    "for layer in custom_vgg_model2.layers[:-3]:\n",
    "    layer.trainable = False"
   ]
  },
  {
   "cell_type": "code",
   "execution_count": 53,
   "metadata": {
    "scrolled": true
   },
   "outputs": [
    {
     "name": "stdout",
     "output_type": "stream",
     "text": [
      "_________________________________________________________________\n",
      "Layer (type)                 Output Shape              Param #   \n",
      "=================================================================\n",
      "input_1 (InputLayer)         (None, 224, 224, 3)       0         \n",
      "_________________________________________________________________\n",
      "block1_conv1 (Conv2D)        (None, 224, 224, 64)      1792      \n",
      "_________________________________________________________________\n",
      "block1_conv2 (Conv2D)        (None, 224, 224, 64)      36928     \n",
      "_________________________________________________________________\n",
      "block1_pool (MaxPooling2D)   (None, 112, 112, 64)      0         \n",
      "_________________________________________________________________\n",
      "block2_conv1 (Conv2D)        (None, 112, 112, 128)     73856     \n",
      "_________________________________________________________________\n",
      "block2_conv2 (Conv2D)        (None, 112, 112, 128)     147584    \n",
      "_________________________________________________________________\n",
      "block2_pool (MaxPooling2D)   (None, 56, 56, 128)       0         \n",
      "_________________________________________________________________\n",
      "block3_conv1 (Conv2D)        (None, 56, 56, 256)       295168    \n",
      "_________________________________________________________________\n",
      "block3_conv2 (Conv2D)        (None, 56, 56, 256)       590080    \n",
      "_________________________________________________________________\n",
      "block3_conv3 (Conv2D)        (None, 56, 56, 256)       590080    \n",
      "_________________________________________________________________\n",
      "block3_pool (MaxPooling2D)   (None, 28, 28, 256)       0         \n",
      "_________________________________________________________________\n",
      "block4_conv1 (Conv2D)        (None, 28, 28, 512)       1180160   \n",
      "_________________________________________________________________\n",
      "block4_conv2 (Conv2D)        (None, 28, 28, 512)       2359808   \n",
      "_________________________________________________________________\n",
      "block4_conv3 (Conv2D)        (None, 28, 28, 512)       2359808   \n",
      "_________________________________________________________________\n",
      "block4_pool (MaxPooling2D)   (None, 14, 14, 512)       0         \n",
      "_________________________________________________________________\n",
      "block5_conv1 (Conv2D)        (None, 14, 14, 512)       2359808   \n",
      "_________________________________________________________________\n",
      "block5_conv2 (Conv2D)        (None, 14, 14, 512)       2359808   \n",
      "_________________________________________________________________\n",
      "block5_conv3 (Conv2D)        (None, 14, 14, 512)       2359808   \n",
      "_________________________________________________________________\n",
      "block5_pool (MaxPooling2D)   (None, 7, 7, 512)         0         \n",
      "_________________________________________________________________\n",
      "flatten (Flatten)            (None, 25088)             0         \n",
      "_________________________________________________________________\n",
      "fc1 (Dense)                  (None, 128)               3211392   \n",
      "_________________________________________________________________\n",
      "fc2 (Dense)                  (None, 128)               16512     \n",
      "_________________________________________________________________\n",
      "output (Dense)               (None, 4)                 516       \n",
      "=================================================================\n",
      "Total params: 17,943,108\n",
      "Trainable params: 3,228,420\n",
      "Non-trainable params: 14,714,688\n",
      "_________________________________________________________________\n"
     ]
    }
   ],
   "source": [
    "custom_vgg_model2.summary()"
   ]
  },
  {
   "cell_type": "code",
   "execution_count": 54,
   "metadata": {},
   "outputs": [],
   "source": [
    "custom_vgg_model2.compile(loss='categorical_crossentropy', optimizer='adadelta', metrics=['accuracy'])"
   ]
  },
  {
   "cell_type": "code",
   "execution_count": 55,
   "metadata": {
    "scrolled": true
   },
   "outputs": [
    {
     "name": "stdout",
     "output_type": "stream",
     "text": [
      "Train on 646 samples, validate on 162 samples\n",
      "Epoch 1/2\n",
      "646/646 [==============================] - 232s - loss: 1.2115 - acc: 0.5248 - val_loss: 0.7870 - val_acc: 0.6605\n",
      "Epoch 2/2\n",
      "646/646 [==============================] - 240s - loss: 0.4948 - acc: 0.8142 - val_loss: 0.4437 - val_acc: 0.8086\n"
     ]
    }
   ],
   "source": [
    "hist = custom_vgg_model2.fit(X_train, y_train, batch_size=32, epochs=num_epoch, verbose=1, validation_data=(X_test, y_test))"
   ]
  },
  {
   "cell_type": "code",
   "execution_count": 56,
   "metadata": {},
   "outputs": [
    {
     "name": "stdout",
     "output_type": "stream",
     "text": [
      "162/162 [==============================] - 47s    \n",
      "[INFO] loss=0.4437, accuracy: 80.8642%\n"
     ]
    }
   ],
   "source": [
    "(loss, accuracy) = custom_vgg_model2.evaluate(X_test, y_test, batch_size=10, verbose=1)\n",
    "\n",
    "print(\"[INFO] loss={:.4f}, accuracy: {:.4f}%\".format(loss,accuracy * 100))"
   ]
  }
 ],
 "metadata": {
  "kernelspec": {
   "display_name": "Python 3",
   "language": "python",
   "name": "python3"
  },
  "language_info": {
   "codemirror_mode": {
    "name": "ipython",
    "version": 3
   },
   "file_extension": ".py",
   "mimetype": "text/x-python",
   "name": "python",
   "nbconvert_exporter": "python",
   "pygments_lexer": "ipython3",
   "version": "3.6.4"
  }
 },
 "nbformat": 4,
 "nbformat_minor": 2
}
