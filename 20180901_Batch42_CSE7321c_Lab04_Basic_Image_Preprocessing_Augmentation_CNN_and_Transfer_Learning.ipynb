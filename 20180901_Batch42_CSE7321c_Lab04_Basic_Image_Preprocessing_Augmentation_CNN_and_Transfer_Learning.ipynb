{
 "cells": [
  {
   "cell_type": "markdown",
   "metadata": {},
   "source": [
    "# Basic Image Preprocessing, Data Augmentation, CNN and Transfer Learning"
   ]
  },
  {
   "cell_type": "markdown",
   "metadata": {},
   "source": [
    "#### Get the current working directory"
   ]
  },
  {
   "cell_type": "code",
   "execution_count": 1,
   "metadata": {},
   "outputs": [],
   "source": [
    "import os\n",
    "PATH = os.getcwd()"
   ]
  },
  {
   "cell_type": "raw",
   "metadata": {},
   "source": [
    "PATH = os.path.join(PATH, \"Day03\")\n",
    "os.chdir(PATH)"
   ]
  },
  {
   "cell_type": "markdown",
   "metadata": {},
   "source": [
    "#### Define the data path"
   ]
  },
  {
   "cell_type": "code",
   "execution_count": 2,
   "metadata": {},
   "outputs": [],
   "source": [
    "DATA_PATH = os.path.join(PATH, 'data')\n",
    "data_dir_list = os.listdir(DATA_PATH)"
   ]
  },
  {
   "cell_type": "markdown",
   "metadata": {},
   "source": [
    "#### Get the list of folders inside data path"
   ]
  },
  {
   "cell_type": "code",
   "execution_count": 3,
   "metadata": {},
   "outputs": [
    {
     "name": "stdout",
     "output_type": "stream",
     "text": [
      "['Cats', 'Dogs', 'Horses', 'Humans']\n"
     ]
    }
   ],
   "source": [
    "print(data_dir_list)"
   ]
  },
  {
   "cell_type": "markdown",
   "metadata": {},
   "source": [
    "#### Required variables declaration and initialization"
   ]
  },
  {
   "cell_type": "code",
   "execution_count": 4,
   "metadata": {},
   "outputs": [],
   "source": [
    "img_rows=224\n",
    "img_cols=224\n",
    "num_channel=3\n",
    "\n",
    "num_epoch=100\n",
    "batch_size=32\n",
    "\n",
    "img_data_list=[]\n",
    "classes_names_list=[]"
   ]
  },
  {
   "cell_type": "markdown",
   "metadata": {},
   "source": [
    "#### Read the images and store them in the list"
   ]
  },
  {
   "cell_type": "code",
   "execution_count": 5,
   "metadata": {},
   "outputs": [
    {
     "name": "stdout",
     "output_type": "stream",
     "text": [
      "Loading images from Cats folder\n",
      "\n",
      "Loading images from Dogs folder\n",
      "\n",
      "Loading images from Horses folder\n",
      "\n",
      "Loading images from Humans folder\n",
      "\n"
     ]
    }
   ],
   "source": [
    "import cv2\n",
    "\n",
    "for dataset in data_dir_list:\n",
    "    classes_names_list.append(dataset) \n",
    "    print ('Loading images from {} folder\\n'.format(dataset)) \n",
    "    img_list=os.listdir(DATA_PATH+'/'+ dataset)\n",
    "    for img in img_list:\n",
    "        input_img=cv2.imread(DATA_PATH + '/'+ dataset + '/'+ img )\n",
    "        input_img_resize=cv2.resize(input_img,(img_rows, img_cols))\n",
    "        img_data_list.append(input_img_resize)"
   ]
  },
  {
   "cell_type": "markdown",
   "metadata": {},
   "source": [
    "#### Get the number of classes"
   ]
  },
  {
   "cell_type": "code",
   "execution_count": 6,
   "metadata": {},
   "outputs": [
    {
     "name": "stdout",
     "output_type": "stream",
     "text": [
      "4\n"
     ]
    }
   ],
   "source": [
    "num_classes = len(classes_names_list)\n",
    "print(num_classes)"
   ]
  },
  {
   "cell_type": "markdown",
   "metadata": {},
   "source": [
    "####  Image preprocessiong"
   ]
  },
  {
   "cell_type": "code",
   "execution_count": 7,
   "metadata": {},
   "outputs": [],
   "source": [
    "import numpy as np\n",
    "\n",
    "img_data = np.array(img_data_list)\n",
    "img_data = img_data.astype('float32')\n",
    "img_data /= 255"
   ]
  },
  {
   "cell_type": "code",
   "execution_count": 8,
   "metadata": {},
   "outputs": [
    {
     "name": "stdout",
     "output_type": "stream",
     "text": [
      "(808, 224, 224, 3)\n"
     ]
    }
   ],
   "source": [
    "print (img_data.shape)\n",
    "\n",
    "#img_data = img_data.reshape(img_data.shape[0], img_data.shape[1], img_data.shape[2], num_channel)\n",
    "\n",
    "#print (img_data.shape)"
   ]
  },
  {
   "cell_type": "code",
   "execution_count": 9,
   "metadata": {},
   "outputs": [],
   "source": [
    "num_of_samples = img_data.shape[0]\n",
    "input_shape = img_data[0].shape"
   ]
  },
  {
   "cell_type": "code",
   "execution_count": 10,
   "metadata": {},
   "outputs": [],
   "source": [
    "classes = np.ones((num_of_samples,), dtype='int64')\n",
    "\n",
    "classes[0:202]=0\n",
    "classes[202:404]=1\n",
    "classes[404:606]=2\n",
    "classes[606:]=3"
   ]
  },
  {
   "cell_type": "markdown",
   "metadata": {},
   "source": [
    "Convert class labels to numberic using on-hot encoding"
   ]
  },
  {
   "cell_type": "code",
   "execution_count": 11,
   "metadata": {},
   "outputs": [
    {
     "name": "stderr",
     "output_type": "stream",
     "text": [
      "C:\\ProgramData\\Anaconda3\\lib\\site-packages\\h5py\\__init__.py:36: FutureWarning: Conversion of the second argument of issubdtype from `float` to `np.floating` is deprecated. In future, it will be treated as `np.float64 == np.dtype(float).type`.\n",
      "  from ._conv import register_converters as _register_converters\n",
      "Using TensorFlow backend.\n"
     ]
    }
   ],
   "source": [
    "from keras.utils import to_categorical\n",
    "\n",
    "classes = to_categorical(classes, num_classes)"
   ]
  },
  {
   "cell_type": "markdown",
   "metadata": {},
   "source": [
    "#### Shuffle the dataset"
   ]
  },
  {
   "cell_type": "code",
   "execution_count": 12,
   "metadata": {},
   "outputs": [],
   "source": [
    "from sklearn.utils import shuffle\n",
    "\n",
    "X, Y = shuffle(img_data, classes, random_state=2)"
   ]
  },
  {
   "cell_type": "markdown",
   "metadata": {},
   "source": [
    "#### Split the dataset"
   ]
  },
  {
   "cell_type": "code",
   "execution_count": 13,
   "metadata": {},
   "outputs": [],
   "source": [
    "from sklearn.model_selection import train_test_split\n",
    "\n",
    "X_train, X_test, y_train, y_test = train_test_split(X, Y, test_size=0.2, random_state=2)"
   ]
  },
  {
   "cell_type": "code",
   "execution_count": 14,
   "metadata": {},
   "outputs": [
    {
     "data": {
      "text/plain": [
       "(162, 4)"
      ]
     },
     "execution_count": 14,
     "metadata": {},
     "output_type": "execute_result"
    }
   ],
   "source": [
    "y_test.shape"
   ]
  },
  {
   "cell_type": "markdown",
   "metadata": {},
   "source": [
    "####  Defining the model"
   ]
  },
  {
   "cell_type": "code",
   "execution_count": 15,
   "metadata": {},
   "outputs": [],
   "source": [
    "from keras.models import Sequential\n",
    "from keras.layers import Dense, Dropout, Flatten\n",
    "from keras.layers import Conv2D, MaxPooling2D"
   ]
  },
  {
   "cell_type": "code",
   "execution_count": 16,
   "metadata": {},
   "outputs": [],
   "source": [
    "model = Sequential()\n",
    "\n",
    "model.add(Conv2D(32, (3, 3), activation='relu', input_shape=input_shape))\n",
    "model.add(Conv2D(32, (3, 3), activation='relu'))\n",
    "model.add(MaxPooling2D(pool_size=(2, 2)))\n",
    "model.add(Dropout(0.5))\n",
    "\n",
    "model.add(Conv2D(64, (3, 3), activation='relu'))\n",
    "model.add(Conv2D(64, (3, 3), activation='relu'))\n",
    "model.add(MaxPooling2D(pool_size=(2, 2)))\n",
    "model.add(Dropout(0.5))\n",
    "\n",
    "model.add(Flatten())\n",
    "model.add(Dense(64, activation='relu'))\n",
    "model.add(Dropout(0.5))\n",
    "model.add(Dense(num_classes, activation='softmax'))"
   ]
  },
  {
   "cell_type": "markdown",
   "metadata": {},
   "source": [
    "####  Compile the model"
   ]
  },
  {
   "cell_type": "code",
   "execution_count": 17,
   "metadata": {},
   "outputs": [],
   "source": [
    "model.compile(loss='categorical_crossentropy', optimizer='rmsprop', metrics=[\"accuracy\"])"
   ]
  },
  {
   "cell_type": "markdown",
   "metadata": {},
   "source": [
    "#### Model Summary"
   ]
  },
  {
   "cell_type": "code",
   "execution_count": 18,
   "metadata": {},
   "outputs": [
    {
     "name": "stdout",
     "output_type": "stream",
     "text": [
      "_________________________________________________________________\n",
      "Layer (type)                 Output Shape              Param #   \n",
      "=================================================================\n",
      "conv2d_1 (Conv2D)            (None, 222, 222, 32)      896       \n",
      "_________________________________________________________________\n",
      "conv2d_2 (Conv2D)            (None, 220, 220, 32)      9248      \n",
      "_________________________________________________________________\n",
      "max_pooling2d_1 (MaxPooling2 (None, 110, 110, 32)      0         \n",
      "_________________________________________________________________\n",
      "dropout_1 (Dropout)          (None, 110, 110, 32)      0         \n",
      "_________________________________________________________________\n",
      "conv2d_3 (Conv2D)            (None, 108, 108, 64)      18496     \n",
      "_________________________________________________________________\n",
      "conv2d_4 (Conv2D)            (None, 106, 106, 64)      36928     \n",
      "_________________________________________________________________\n",
      "max_pooling2d_2 (MaxPooling2 (None, 53, 53, 64)        0         \n",
      "_________________________________________________________________\n",
      "dropout_2 (Dropout)          (None, 53, 53, 64)        0         \n",
      "_________________________________________________________________\n",
      "flatten_1 (Flatten)          (None, 179776)            0         \n",
      "_________________________________________________________________\n",
      "dense_1 (Dense)              (None, 64)                11505728  \n",
      "_________________________________________________________________\n",
      "dropout_3 (Dropout)          (None, 64)                0         \n",
      "_________________________________________________________________\n",
      "dense_2 (Dense)              (None, 4)                 260       \n",
      "=================================================================\n",
      "Total params: 11,571,556\n",
      "Trainable params: 11,571,556\n",
      "Non-trainable params: 0\n",
      "_________________________________________________________________\n"
     ]
    }
   ],
   "source": [
    "model.summary()"
   ]
  },
  {
   "cell_type": "code",
   "execution_count": 19,
   "metadata": {},
   "outputs": [
    {
     "data": {
      "text/plain": [
       "[{'class_name': 'Conv2D',\n",
       "  'config': {'name': 'conv2d_1',\n",
       "   'trainable': True,\n",
       "   'batch_input_shape': (None, 224, 224, 3),\n",
       "   'dtype': 'float32',\n",
       "   'filters': 32,\n",
       "   'kernel_size': (3, 3),\n",
       "   'strides': (1, 1),\n",
       "   'padding': 'valid',\n",
       "   'data_format': 'channels_last',\n",
       "   'dilation_rate': (1, 1),\n",
       "   'activation': 'relu',\n",
       "   'use_bias': True,\n",
       "   'kernel_initializer': {'class_name': 'VarianceScaling',\n",
       "    'config': {'scale': 1.0,\n",
       "     'mode': 'fan_avg',\n",
       "     'distribution': 'uniform',\n",
       "     'seed': None}},\n",
       "   'bias_initializer': {'class_name': 'Zeros', 'config': {}},\n",
       "   'kernel_regularizer': None,\n",
       "   'bias_regularizer': None,\n",
       "   'activity_regularizer': None,\n",
       "   'kernel_constraint': None,\n",
       "   'bias_constraint': None}},\n",
       " {'class_name': 'Conv2D',\n",
       "  'config': {'name': 'conv2d_2',\n",
       "   'trainable': True,\n",
       "   'filters': 32,\n",
       "   'kernel_size': (3, 3),\n",
       "   'strides': (1, 1),\n",
       "   'padding': 'valid',\n",
       "   'data_format': 'channels_last',\n",
       "   'dilation_rate': (1, 1),\n",
       "   'activation': 'relu',\n",
       "   'use_bias': True,\n",
       "   'kernel_initializer': {'class_name': 'VarianceScaling',\n",
       "    'config': {'scale': 1.0,\n",
       "     'mode': 'fan_avg',\n",
       "     'distribution': 'uniform',\n",
       "     'seed': None}},\n",
       "   'bias_initializer': {'class_name': 'Zeros', 'config': {}},\n",
       "   'kernel_regularizer': None,\n",
       "   'bias_regularizer': None,\n",
       "   'activity_regularizer': None,\n",
       "   'kernel_constraint': None,\n",
       "   'bias_constraint': None}},\n",
       " {'class_name': 'MaxPooling2D',\n",
       "  'config': {'name': 'max_pooling2d_1',\n",
       "   'trainable': True,\n",
       "   'pool_size': (2, 2),\n",
       "   'padding': 'valid',\n",
       "   'strides': (2, 2),\n",
       "   'data_format': 'channels_last'}},\n",
       " {'class_name': 'Dropout',\n",
       "  'config': {'name': 'dropout_1',\n",
       "   'trainable': True,\n",
       "   'rate': 0.5,\n",
       "   'noise_shape': None,\n",
       "   'seed': None}},\n",
       " {'class_name': 'Conv2D',\n",
       "  'config': {'name': 'conv2d_3',\n",
       "   'trainable': True,\n",
       "   'filters': 64,\n",
       "   'kernel_size': (3, 3),\n",
       "   'strides': (1, 1),\n",
       "   'padding': 'valid',\n",
       "   'data_format': 'channels_last',\n",
       "   'dilation_rate': (1, 1),\n",
       "   'activation': 'relu',\n",
       "   'use_bias': True,\n",
       "   'kernel_initializer': {'class_name': 'VarianceScaling',\n",
       "    'config': {'scale': 1.0,\n",
       "     'mode': 'fan_avg',\n",
       "     'distribution': 'uniform',\n",
       "     'seed': None}},\n",
       "   'bias_initializer': {'class_name': 'Zeros', 'config': {}},\n",
       "   'kernel_regularizer': None,\n",
       "   'bias_regularizer': None,\n",
       "   'activity_regularizer': None,\n",
       "   'kernel_constraint': None,\n",
       "   'bias_constraint': None}},\n",
       " {'class_name': 'Conv2D',\n",
       "  'config': {'name': 'conv2d_4',\n",
       "   'trainable': True,\n",
       "   'filters': 64,\n",
       "   'kernel_size': (3, 3),\n",
       "   'strides': (1, 1),\n",
       "   'padding': 'valid',\n",
       "   'data_format': 'channels_last',\n",
       "   'dilation_rate': (1, 1),\n",
       "   'activation': 'relu',\n",
       "   'use_bias': True,\n",
       "   'kernel_initializer': {'class_name': 'VarianceScaling',\n",
       "    'config': {'scale': 1.0,\n",
       "     'mode': 'fan_avg',\n",
       "     'distribution': 'uniform',\n",
       "     'seed': None}},\n",
       "   'bias_initializer': {'class_name': 'Zeros', 'config': {}},\n",
       "   'kernel_regularizer': None,\n",
       "   'bias_regularizer': None,\n",
       "   'activity_regularizer': None,\n",
       "   'kernel_constraint': None,\n",
       "   'bias_constraint': None}},\n",
       " {'class_name': 'MaxPooling2D',\n",
       "  'config': {'name': 'max_pooling2d_2',\n",
       "   'trainable': True,\n",
       "   'pool_size': (2, 2),\n",
       "   'padding': 'valid',\n",
       "   'strides': (2, 2),\n",
       "   'data_format': 'channels_last'}},\n",
       " {'class_name': 'Dropout',\n",
       "  'config': {'name': 'dropout_2',\n",
       "   'trainable': True,\n",
       "   'rate': 0.5,\n",
       "   'noise_shape': None,\n",
       "   'seed': None}},\n",
       " {'class_name': 'Flatten',\n",
       "  'config': {'name': 'flatten_1',\n",
       "   'trainable': True,\n",
       "   'data_format': 'channels_last'}},\n",
       " {'class_name': 'Dense',\n",
       "  'config': {'name': 'dense_1',\n",
       "   'trainable': True,\n",
       "   'units': 64,\n",
       "   'activation': 'relu',\n",
       "   'use_bias': True,\n",
       "   'kernel_initializer': {'class_name': 'VarianceScaling',\n",
       "    'config': {'scale': 1.0,\n",
       "     'mode': 'fan_avg',\n",
       "     'distribution': 'uniform',\n",
       "     'seed': None}},\n",
       "   'bias_initializer': {'class_name': 'Zeros', 'config': {}},\n",
       "   'kernel_regularizer': None,\n",
       "   'bias_regularizer': None,\n",
       "   'activity_regularizer': None,\n",
       "   'kernel_constraint': None,\n",
       "   'bias_constraint': None}},\n",
       " {'class_name': 'Dropout',\n",
       "  'config': {'name': 'dropout_3',\n",
       "   'trainable': True,\n",
       "   'rate': 0.5,\n",
       "   'noise_shape': None,\n",
       "   'seed': None}},\n",
       " {'class_name': 'Dense',\n",
       "  'config': {'name': 'dense_2',\n",
       "   'trainable': True,\n",
       "   'units': 4,\n",
       "   'activation': 'softmax',\n",
       "   'use_bias': True,\n",
       "   'kernel_initializer': {'class_name': 'VarianceScaling',\n",
       "    'config': {'scale': 1.0,\n",
       "     'mode': 'fan_avg',\n",
       "     'distribution': 'uniform',\n",
       "     'seed': None}},\n",
       "   'bias_initializer': {'class_name': 'Zeros', 'config': {}},\n",
       "   'kernel_regularizer': None,\n",
       "   'bias_regularizer': None,\n",
       "   'activity_regularizer': None,\n",
       "   'kernel_constraint': None,\n",
       "   'bias_constraint': None}}]"
      ]
     },
     "execution_count": 19,
     "metadata": {},
     "output_type": "execute_result"
    }
   ],
   "source": [
    "model.get_config()"
   ]
  },
  {
   "cell_type": "code",
   "execution_count": 20,
   "metadata": {},
   "outputs": [
    {
     "data": {
      "text/plain": [
       "{'name': 'conv2d_1',\n",
       " 'trainable': True,\n",
       " 'batch_input_shape': (None, 224, 224, 3),\n",
       " 'dtype': 'float32',\n",
       " 'filters': 32,\n",
       " 'kernel_size': (3, 3),\n",
       " 'strides': (1, 1),\n",
       " 'padding': 'valid',\n",
       " 'data_format': 'channels_last',\n",
       " 'dilation_rate': (1, 1),\n",
       " 'activation': 'relu',\n",
       " 'use_bias': True,\n",
       " 'kernel_initializer': {'class_name': 'VarianceScaling',\n",
       "  'config': {'scale': 1.0,\n",
       "   'mode': 'fan_avg',\n",
       "   'distribution': 'uniform',\n",
       "   'seed': None}},\n",
       " 'bias_initializer': {'class_name': 'Zeros', 'config': {}},\n",
       " 'kernel_regularizer': None,\n",
       " 'bias_regularizer': None,\n",
       " 'activity_regularizer': None,\n",
       " 'kernel_constraint': None,\n",
       " 'bias_constraint': None}"
      ]
     },
     "execution_count": 20,
     "metadata": {},
     "output_type": "execute_result"
    }
   ],
   "source": [
    "model.layers[0].get_config()"
   ]
  },
  {
   "cell_type": "code",
   "execution_count": 21,
   "metadata": {},
   "outputs": [
    {
     "data": {
      "text/plain": [
       "[<keras.layers.convolutional.Conv2D at 0x21f1f8e92b0>,\n",
       " <keras.layers.convolutional.Conv2D at 0x21f1f8e93c8>,\n",
       " <keras.layers.pooling.MaxPooling2D at 0x21f1f606eb8>,\n",
       " <keras.layers.core.Dropout at 0x21f1f8e9860>,\n",
       " <keras.layers.convolutional.Conv2D at 0x21f1f623ba8>,\n",
       " <keras.layers.convolutional.Conv2D at 0x21f1f8e9f28>,\n",
       " <keras.layers.pooling.MaxPooling2D at 0x21f1f8759b0>,\n",
       " <keras.layers.core.Dropout at 0x21f1f6233c8>,\n",
       " <keras.layers.core.Flatten at 0x21f1f7842e8>,\n",
       " <keras.layers.core.Dense at 0x21f1f7846a0>,\n",
       " <keras.layers.core.Dropout at 0x21f1f7923c8>,\n",
       " <keras.layers.core.Dense at 0x21f1f94bf60>]"
      ]
     },
     "execution_count": 21,
     "metadata": {},
     "output_type": "execute_result"
    }
   ],
   "source": [
    "model.layers"
   ]
  },
  {
   "cell_type": "code",
   "execution_count": 22,
   "metadata": {},
   "outputs": [
    {
     "data": {
      "text/plain": [
       "[<tf.Variable 'conv2d_1/kernel:0' shape=(3, 3, 3, 32) dtype=float32_ref>,\n",
       " <tf.Variable 'conv2d_1/bias:0' shape=(32,) dtype=float32_ref>,\n",
       " <tf.Variable 'conv2d_2/kernel:0' shape=(3, 3, 32, 32) dtype=float32_ref>,\n",
       " <tf.Variable 'conv2d_2/bias:0' shape=(32,) dtype=float32_ref>,\n",
       " <tf.Variable 'conv2d_3/kernel:0' shape=(3, 3, 32, 64) dtype=float32_ref>,\n",
       " <tf.Variable 'conv2d_3/bias:0' shape=(64,) dtype=float32_ref>,\n",
       " <tf.Variable 'conv2d_4/kernel:0' shape=(3, 3, 64, 64) dtype=float32_ref>,\n",
       " <tf.Variable 'conv2d_4/bias:0' shape=(64,) dtype=float32_ref>,\n",
       " <tf.Variable 'dense_1/kernel:0' shape=(179776, 64) dtype=float32_ref>,\n",
       " <tf.Variable 'dense_1/bias:0' shape=(64,) dtype=float32_ref>,\n",
       " <tf.Variable 'dense_2/kernel:0' shape=(64, 4) dtype=float32_ref>,\n",
       " <tf.Variable 'dense_2/bias:0' shape=(4,) dtype=float32_ref>]"
      ]
     },
     "execution_count": 22,
     "metadata": {},
     "output_type": "execute_result"
    }
   ],
   "source": [
    "model.weights"
   ]
  },
  {
   "cell_type": "code",
   "execution_count": 23,
   "metadata": {},
   "outputs": [
    {
     "data": {
      "text/plain": [
       "[array([[[[-1.24698542e-01,  6.04135096e-02,  6.19565547e-02,\n",
       "           -9.12919641e-03, -1.32090688e-01,  5.70187420e-02,\n",
       "           -4.65183333e-02,  6.41807914e-02,  1.20189980e-01,\n",
       "            6.17111772e-02,  1.34086460e-02,  1.10468715e-01,\n",
       "           -6.62215501e-02,  5.66564947e-02, -9.54229981e-02,\n",
       "            1.58452243e-02, -9.17211920e-02,  2.11912394e-02,\n",
       "            1.35507718e-01,  1.10507742e-01,  3.91681343e-02,\n",
       "            8.73439908e-02, -8.29268992e-03,  5.46224713e-02,\n",
       "           -1.27434820e-01,  1.17509559e-01,  1.19733050e-01,\n",
       "           -8.35070461e-02,  1.01938620e-01,  8.13000500e-02,\n",
       "            2.90349126e-03, -4.98487651e-02],\n",
       "          [-5.68491817e-02, -1.00977376e-01, -1.26592740e-01,\n",
       "           -1.76356733e-03,  9.21525061e-03, -1.03681758e-01,\n",
       "           -3.75581309e-02,  4.57062125e-02, -6.07430488e-02,\n",
       "           -5.98984137e-02, -8.59619528e-02,  1.13856539e-01,\n",
       "            8.08101892e-03,  9.18925703e-02,  1.29650816e-01,\n",
       "            1.34659454e-01, -2.31726766e-02,  1.11280918e-01,\n",
       "           -5.52199781e-03, -8.71737376e-02,  1.31111309e-01,\n",
       "            1.26484349e-01, -1.11092776e-02,  6.77695274e-02,\n",
       "            1.12628192e-02,  4.27591503e-02,  8.63140672e-02,\n",
       "            7.42720962e-02,  1.22969672e-01,  1.07570171e-01,\n",
       "            5.74308485e-02,  4.49833274e-03],\n",
       "          [-1.32455245e-01,  6.97727799e-02, -1.71931982e-02,\n",
       "           -5.23917899e-02, -2.65651345e-02, -8.06125030e-02,\n",
       "            4.01453525e-02,  7.69718736e-02, -1.65762007e-02,\n",
       "           -5.25560826e-02,  9.48351473e-02,  3.98661494e-02,\n",
       "            6.66205585e-03, -5.20299003e-02,  1.30241290e-01,\n",
       "           -1.20234400e-01, -1.32585123e-01,  7.00189322e-02,\n",
       "           -2.44390890e-02, -9.01750252e-02, -1.35147750e-01,\n",
       "            5.15869707e-02,  1.05176821e-01, -1.00452013e-01,\n",
       "           -1.25683188e-01, -6.45461679e-02, -7.61545822e-02,\n",
       "            7.99831748e-03,  1.34720251e-01,  1.13666072e-01,\n",
       "            2.19435096e-02, -9.09464806e-02]],\n",
       " \n",
       "         [[-1.08338296e-01, -1.20721720e-01,  3.82588059e-02,\n",
       "           -8.51558149e-03,  9.86567140e-03,  7.61188120e-02,\n",
       "            6.26728833e-02,  7.61066377e-02, -2.15560570e-02,\n",
       "           -6.99298978e-02,  9.35048014e-02, -1.23110846e-01,\n",
       "            1.15627810e-01, -8.83179456e-02, -2.72272825e-02,\n",
       "           -1.37863889e-01,  7.78376609e-02,  4.30610180e-02,\n",
       "           -6.13150373e-02, -3.45075577e-02, -9.08081159e-02,\n",
       "           -1.29876986e-01, -6.14452735e-02, -2.61542574e-02,\n",
       "            1.08668074e-01,  1.13158301e-01,  4.78422940e-02,\n",
       "           -5.03876507e-02,  6.62496239e-02,  9.87863094e-02,\n",
       "           -1.21868722e-01, -2.19768137e-02],\n",
       "          [ 7.18720406e-02,  2.14660615e-02, -1.01113275e-01,\n",
       "            7.75417835e-02, -2.01010406e-02, -7.48951808e-02,\n",
       "           -1.16970792e-01, -2.12623179e-02, -1.25154406e-02,\n",
       "           -4.87256572e-02,  1.27702400e-01,  1.00714922e-01,\n",
       "           -9.15223211e-02, -5.43383434e-02, -9.36973691e-02,\n",
       "           -1.05870500e-01,  1.18364200e-01, -1.31960094e-01,\n",
       "            9.76646394e-02, -1.04478985e-01,  3.23155969e-02,\n",
       "            8.46378654e-02, -1.37397170e-01,  1.09379202e-01,\n",
       "            7.65187442e-02,  1.20296627e-02, -1.79561004e-02,\n",
       "            5.85120916e-03, -5.56292385e-02,  1.01283878e-01,\n",
       "            2.33449638e-02,  7.44453967e-02],\n",
       "          [-1.17222451e-01, -3.16469371e-02,  1.16526783e-02,\n",
       "            4.31619734e-02, -1.56411454e-02, -1.06704600e-01,\n",
       "           -6.38812780e-03, -1.16728552e-01,  1.14685744e-02,\n",
       "           -7.72177055e-02,  2.66368389e-02,  1.01512536e-01,\n",
       "           -9.56952497e-02,  4.32007313e-02,  8.69484395e-02,\n",
       "            1.09234795e-01, -8.04649889e-02, -1.02011174e-01,\n",
       "           -9.29232761e-02,  7.84206390e-03,  1.89050436e-02,\n",
       "           -7.78454542e-03, -2.53905654e-02, -4.64535430e-02,\n",
       "            5.47084957e-02,  1.23875186e-01, -9.12625939e-02,\n",
       "           -1.03373244e-01,  3.78710628e-02,  5.85345477e-02,\n",
       "           -3.27703729e-02, -1.35292038e-02]],\n",
       " \n",
       "         [[ 1.25572085e-04, -9.12868828e-02,  7.03822821e-02,\n",
       "           -8.71797651e-02,  1.36298165e-01,  1.05314001e-01,\n",
       "            1.06073096e-01,  1.14078715e-01,  4.89697158e-02,\n",
       "            1.34426549e-01,  1.31722286e-01,  1.30197406e-02,\n",
       "            2.42528319e-03,  8.32601339e-02,  1.05380073e-01,\n",
       "            3.46122980e-02, -1.11215338e-01, -1.63409933e-02,\n",
       "            1.23343065e-01, -5.73403537e-02, -6.54584169e-03,\n",
       "            8.80163312e-02, -1.10057048e-01,  2.90498585e-02,\n",
       "            9.51782763e-02, -2.57606432e-02, -1.28182411e-01,\n",
       "            3.02081406e-02,  2.00126618e-02, -8.49423558e-02,\n",
       "           -6.33488521e-02, -1.24951184e-01],\n",
       "          [-1.23130828e-02,  2.27167159e-02, -1.22371703e-01,\n",
       "           -8.81610811e-02,  8.15141052e-02,  1.18616685e-01,\n",
       "           -2.29353011e-02,  1.11423790e-01, -4.36438620e-02,\n",
       "           -4.30727005e-02,  1.20040625e-02, -7.19373897e-02,\n",
       "            4.53377068e-02, -5.96666634e-02, -8.62317681e-02,\n",
       "            1.04456007e-01,  1.33526489e-01,  9.58173871e-02,\n",
       "            9.26309526e-02,  8.55934471e-02, -7.63051212e-03,\n",
       "            8.03727955e-02,  4.07187641e-03, -5.96181974e-02,\n",
       "           -1.21928051e-01,  7.08104074e-02,  5.66987395e-02,\n",
       "            5.42133451e-02, -1.23084985e-01, -1.00450933e-01,\n",
       "            1.11442149e-01,  3.49183679e-02],\n",
       "          [ 4.07796502e-02,  1.26633361e-01, -1.26854569e-01,\n",
       "            4.55185771e-03,  5.27057946e-02,  1.17599800e-01,\n",
       "           -1.67780742e-02, -1.82754397e-02,  1.24166772e-01,\n",
       "           -1.31938800e-01, -9.20961797e-03,  5.18192798e-02,\n",
       "           -1.95114166e-02, -1.21828146e-01,  1.19435623e-01,\n",
       "            3.95965874e-02,  7.26285875e-02,  9.83933210e-02,\n",
       "            1.25519052e-01, -5.29500246e-02,  1.22802719e-01,\n",
       "           -3.35307717e-02,  9.00399834e-02,  1.55672431e-03,\n",
       "           -1.09892488e-02, -4.10041958e-02, -1.01931095e-02,\n",
       "           -5.52668571e-02,  1.33864090e-01,  1.27252921e-01,\n",
       "           -9.85925570e-02,  1.16661355e-01]]],\n",
       " \n",
       " \n",
       "        [[[-1.47499442e-02, -6.41349554e-02, -3.79727036e-02,\n",
       "           -7.27682710e-02, -1.53192356e-02,  5.30077964e-02,\n",
       "           -8.98142159e-03, -1.08453296e-01,  1.33343980e-01,\n",
       "           -2.24961340e-03, -5.01730815e-02,  1.28240541e-01,\n",
       "            4.56279665e-02,  3.90644222e-02,  5.62827885e-02,\n",
       "            2.36799121e-02, -1.44554451e-02,  1.35205731e-01,\n",
       "            1.12252548e-01,  2.27370858e-02, -1.25242859e-01,\n",
       "            9.32544619e-02, -3.39269787e-02, -1.17329754e-01,\n",
       "           -3.92883420e-02, -4.68230024e-02,  6.12610579e-03,\n",
       "            4.94247228e-02, -1.01759754e-01, -1.07828438e-01,\n",
       "            1.00972205e-01,  8.73178244e-02],\n",
       "          [ 4.74693775e-02,  1.24442592e-01,  1.01177990e-02,\n",
       "           -7.63076246e-02, -6.11482784e-02, -1.21078938e-01,\n",
       "           -3.48831937e-02, -5.24278209e-02, -6.00984767e-02,\n",
       "           -1.25054598e-01, -5.54614514e-02, -2.08021700e-03,\n",
       "           -1.12859920e-01,  1.08990431e-01, -1.28530353e-01,\n",
       "           -5.35237864e-02, -4.92805988e-02,  1.12725899e-01,\n",
       "            3.97965312e-03, -3.73989046e-02,  4.05236483e-02,\n",
       "           -1.24214478e-01,  5.54967970e-02,  9.01904553e-02,\n",
       "            4.15725261e-02,  4.37629372e-02,  1.20460495e-01,\n",
       "           -2.58831158e-02, -8.68204683e-02, -1.23061590e-01,\n",
       "           -1.24144487e-01, -1.30950406e-01],\n",
       "          [ 3.16023827e-04, -5.82306609e-02,  5.52481711e-02,\n",
       "           -1.29262850e-01, -6.82248995e-02,  5.70003837e-02,\n",
       "            1.06588900e-01,  7.25365877e-02, -4.02172804e-02,\n",
       "           -8.95413756e-02, -9.01048407e-02, -9.11699235e-03,\n",
       "           -1.13936499e-01, -4.03218195e-02, -8.60115066e-02,\n",
       "            6.40825331e-02, -3.41343135e-02,  1.21001527e-01,\n",
       "            6.16311878e-02,  2.81943828e-02, -5.49128652e-02,\n",
       "           -1.10692479e-01, -4.95028719e-02, -3.22617963e-02,\n",
       "            1.04467630e-01, -4.70628068e-02, -4.26934361e-02,\n",
       "            1.79274380e-02,  1.25407532e-01, -3.96228805e-02,\n",
       "            3.01668346e-02,  1.48660988e-02]],\n",
       " \n",
       "         [[-3.47608924e-02,  1.00339204e-02, -7.88182318e-02,\n",
       "            1.26828894e-01, -1.09579012e-01,  7.10894167e-03,\n",
       "           -6.45102337e-02, -5.59674352e-02,  2.24758536e-02,\n",
       "            3.96121293e-02,  4.78440970e-02, -1.01915129e-01,\n",
       "           -6.46680593e-04, -7.10159540e-04,  4.57972884e-02,\n",
       "           -6.09195530e-02, -4.92214039e-02, -1.36078760e-01,\n",
       "           -6.22944534e-02, -1.58482790e-02,  1.06427208e-01,\n",
       "           -5.85631654e-02, -1.29791334e-01, -3.77494097e-03,\n",
       "           -1.32193819e-01,  1.35913655e-01,  9.90371406e-02,\n",
       "           -9.50753242e-02,  9.72224921e-02, -1.22289605e-01,\n",
       "            6.48345053e-02, -7.50486478e-02],\n",
       "          [-1.23340458e-01,  1.72803253e-02, -1.33653536e-01,\n",
       "           -9.46930349e-02,  9.58697796e-02, -7.75211230e-02,\n",
       "            8.64392668e-02,  1.03743091e-01,  1.24822333e-01,\n",
       "            7.45389909e-02,  9.34114605e-02,  1.14442065e-01,\n",
       "            2.43951529e-02, -3.97840813e-02, -6.79112524e-02,\n",
       "           -6.29734397e-02,  6.83872402e-03,  4.35969383e-02,\n",
       "            2.70628929e-02,  2.02472061e-02, -7.97014013e-02,\n",
       "            7.34302551e-02, -1.14049762e-01,  1.07812509e-01,\n",
       "           -1.34652108e-01,  3.69225740e-02,  8.66214931e-03,\n",
       "           -4.86157909e-02, -7.56670311e-02, -5.10838851e-02,\n",
       "           -1.72075629e-03, -5.20343110e-02],\n",
       "          [-8.29260498e-02, -2.39254534e-03,  5.40970862e-02,\n",
       "           -4.97776642e-02,  3.45008075e-03, -5.86092696e-02,\n",
       "            9.11338478e-02,  3.73428762e-02,  1.32789016e-02,\n",
       "            1.03113160e-01,  5.81662357e-03, -9.28220004e-02,\n",
       "            6.38466030e-02,  3.61693799e-02,  1.24019906e-01,\n",
       "           -1.44228041e-02, -4.38531339e-02,  8.66224170e-02,\n",
       "            2.38137990e-02,  2.13333517e-02, -5.93086928e-02,\n",
       "            1.15940347e-01,  9.23748314e-03,  1.16652891e-01,\n",
       "            1.33351848e-01, -1.37128457e-01, -6.10622317e-02,\n",
       "            1.09324977e-01, -8.46876204e-03,  8.45208466e-02,\n",
       "            1.31701067e-01,  2.68392712e-02]],\n",
       " \n",
       "         [[-2.45633349e-02, -1.34573564e-01, -1.26897052e-01,\n",
       "           -9.69504714e-02,  9.47302133e-02, -1.33127451e-01,\n",
       "            9.40053463e-02,  1.77302063e-02, -7.12700486e-02,\n",
       "            4.03287858e-02, -3.81965935e-03, -3.27749550e-03,\n",
       "           -6.18305281e-02, -3.76315489e-02,  1.01365551e-01,\n",
       "            6.55686855e-02,  1.10050112e-01, -1.21501766e-01,\n",
       "            9.10925418e-02,  1.04419559e-01, -8.54714364e-02,\n",
       "            9.98611748e-02, -5.23337424e-02,  5.86859733e-02,\n",
       "           -7.78124928e-02, -1.85451657e-02,  1.20878294e-01,\n",
       "           -1.03166930e-01, -7.04115629e-02, -2.75084227e-02,\n",
       "            1.03461459e-01,  8.84509087e-03],\n",
       "          [-9.12096500e-02, -6.13005236e-02,  3.17391008e-02,\n",
       "            1.21074691e-01,  1.19241431e-01, -4.52112183e-02,\n",
       "            1.29284009e-01, -8.19912180e-02,  6.20435476e-02,\n",
       "           -1.14280000e-01,  1.27314553e-01, -8.43681023e-02,\n",
       "            1.09408557e-01, -1.04931355e-01, -2.30724514e-02,\n",
       "           -4.22193110e-02, -7.10037798e-02, -1.35967836e-01,\n",
       "            7.06525594e-02, -5.27576953e-02,  1.03150010e-01,\n",
       "           -1.07584149e-02,  7.29897916e-02, -4.58359867e-02,\n",
       "           -4.65041399e-03, -2.01172605e-02,  4.60407883e-02,\n",
       "           -5.67409918e-02,  1.13729432e-01, -2.54592076e-02,\n",
       "            1.29392162e-01, -4.14599925e-02],\n",
       "          [ 7.54545629e-02, -7.27148354e-03,  6.28890395e-02,\n",
       "            1.28027692e-01, -6.48365170e-02, -1.35414675e-01,\n",
       "           -5.74936569e-02,  1.10175580e-01, -1.14583671e-02,\n",
       "           -9.81364623e-02, -1.24572679e-01, -9.06441510e-02,\n",
       "            8.92002881e-02, -9.75398272e-02,  1.18114799e-02,\n",
       "           -1.31608233e-01,  1.32502541e-01,  7.01124519e-02,\n",
       "           -4.23625112e-02, -1.05752796e-01,  1.15457639e-01,\n",
       "            7.70429820e-02,  6.32422119e-02, -9.26187038e-02,\n",
       "            1.40168518e-02, -1.04908027e-01,  7.16308802e-02,\n",
       "           -8.51001069e-02, -5.34236878e-02,  4.79316711e-02,\n",
       "            5.78390360e-02,  1.27375677e-01]]],\n",
       " \n",
       " \n",
       "        [[[ 1.08949602e-01,  9.80344564e-02, -2.30477676e-02,\n",
       "           -6.16336241e-02,  5.82383573e-02, -4.73529100e-04,\n",
       "           -5.34583032e-02,  9.47095156e-02,  6.16973639e-02,\n",
       "           -4.60607558e-02, -7.80007094e-02,  1.29224285e-01,\n",
       "           -1.22554488e-01,  5.68231642e-02,  1.28229544e-01,\n",
       "           -7.77704418e-02, -8.66595954e-02,  1.31005183e-01,\n",
       "            9.86646563e-02, -8.51163268e-03, -6.33900538e-02,\n",
       "           -8.25825483e-02,  1.32846341e-01, -6.56461790e-02,\n",
       "           -1.33774132e-01, -3.21511999e-02,  1.24931172e-01,\n",
       "            1.10988364e-01, -7.57804513e-02,  4.68502492e-02,\n",
       "            1.97785646e-02, -6.40622675e-02],\n",
       "          [-2.85239294e-02, -1.38600022e-02, -5.51569834e-02,\n",
       "            8.73942375e-02, -7.85724670e-02, -3.68545279e-02,\n",
       "            1.00848317e-01, -4.64064926e-02,  8.20433348e-02,\n",
       "           -1.12257890e-01, -7.50594437e-02,  4.56445366e-02,\n",
       "           -9.19974595e-02, -1.03976555e-01, -4.79838848e-02,\n",
       "           -8.85361433e-03,  7.96311200e-02,  7.51422644e-02,\n",
       "            2.10770667e-02,  8.91298056e-04,  8.65488350e-02,\n",
       "           -3.80797759e-02,  7.34905303e-02, -6.82231560e-02,\n",
       "           -1.03700757e-02,  6.88143969e-02,  7.58979172e-02,\n",
       "            7.26755857e-02, -6.57218248e-02,  8.78247321e-02,\n",
       "           -1.02261260e-01, -1.00942463e-01],\n",
       "          [-1.11844443e-01,  1.00935355e-01,  1.34599879e-01,\n",
       "            1.95457637e-02, -1.22925922e-01, -8.05098414e-02,\n",
       "           -4.39376384e-02,  1.06503814e-01, -3.00328881e-02,\n",
       "           -5.99112809e-02, -1.07930735e-01,  1.17585197e-01,\n",
       "            1.29249826e-01,  5.73148280e-02, -1.92004293e-02,\n",
       "            1.33612350e-01, -9.23688635e-02, -1.16273314e-01,\n",
       "           -5.99733070e-02, -8.23108852e-02, -1.79742277e-02,\n",
       "           -5.17988428e-02,  1.07911557e-01,  1.14709184e-01,\n",
       "            2.48047560e-02, -5.00881225e-02,  6.94991350e-02,\n",
       "           -9.49374139e-02, -2.35376880e-02, -6.77624568e-02,\n",
       "           -1.26582384e-03,  4.86226678e-02]],\n",
       " \n",
       "         [[-2.68207118e-02, -2.59326398e-03, -8.27007443e-02,\n",
       "            5.90234399e-02, -2.03216299e-02, -1.30817607e-01,\n",
       "            1.11814559e-01, -7.11143017e-04, -1.10197127e-01,\n",
       "            7.54946768e-02, -3.09726521e-02, -9.26864296e-02,\n",
       "            1.28540948e-01,  1.65275335e-02,  1.36939883e-02,\n",
       "           -6.99545145e-02,  1.18555620e-01,  1.36250868e-01,\n",
       "            2.83164084e-02,  1.36501625e-01, -9.90799144e-02,\n",
       "           -9.17084292e-02, -1.19847804e-02,  8.25116038e-03,\n",
       "           -2.78531313e-02, -9.65658128e-02,  1.24676272e-01,\n",
       "           -1.44652501e-02, -6.47894666e-02, -3.57761011e-02,\n",
       "           -4.16042507e-02, -8.20392221e-02],\n",
       "          [ 6.98594451e-02,  6.75089806e-02, -6.84187412e-02,\n",
       "           -4.73122001e-02,  1.01742148e-01, -3.44171673e-02,\n",
       "           -1.09710298e-01, -5.48806190e-02,  4.07548398e-02,\n",
       "            3.24150324e-02, -1.32066235e-01, -1.24009185e-01,\n",
       "           -9.09121335e-02, -9.82031301e-02,  6.03462458e-02,\n",
       "            4.40142751e-02, -7.12113827e-02,  1.61190480e-02,\n",
       "           -9.93015319e-02, -1.34691104e-01, -1.25230148e-01,\n",
       "           -1.15186527e-01,  7.60925561e-02,  9.19918120e-02,\n",
       "            8.93937945e-02, -1.61284655e-02,  4.14562821e-02,\n",
       "           -1.37703210e-01, -1.33577526e-01, -1.30190492e-01,\n",
       "            4.79846746e-02, -6.16857409e-02],\n",
       "          [ 1.02783293e-02, -6.80399090e-02, -4.94836271e-03,\n",
       "           -7.99544379e-02,  1.01862088e-01, -1.09937109e-01,\n",
       "           -8.53672922e-02, -5.68485260e-03, -2.21906602e-03,\n",
       "           -5.11979386e-02, -4.54038084e-02,  5.61495125e-03,\n",
       "           -1.03605554e-01, -1.80332288e-02, -9.19991136e-02,\n",
       "            2.37507224e-02, -2.63255537e-02, -5.64830825e-02,\n",
       "           -1.18661478e-01,  1.10409468e-01, -8.44606012e-02,\n",
       "            2.46129632e-02, -2.01246142e-03, -2.49435008e-03,\n",
       "            1.01883247e-01, -1.23769343e-01, -1.89761147e-02,\n",
       "            9.53161567e-02, -9.34349820e-02, -1.36460587e-01,\n",
       "           -4.63636220e-03,  1.20582923e-01]],\n",
       " \n",
       "         [[-5.91300428e-03,  5.51183522e-03, -5.11575267e-02,\n",
       "            3.12586576e-02, -1.56137347e-02, -1.35995939e-01,\n",
       "            7.80784935e-02,  1.23033673e-02, -5.69576398e-02,\n",
       "           -2.71873176e-03,  1.23548105e-01, -9.30232406e-02,\n",
       "            8.10582936e-03,  1.05395421e-01,  5.86246401e-02,\n",
       "           -6.69616833e-02, -2.85082012e-02, -6.96086511e-02,\n",
       "           -3.75700444e-02,  1.70648992e-02,  5.89688122e-02,\n",
       "            8.53944719e-02,  4.39797491e-02,  7.88091570e-02,\n",
       "           -7.69782588e-02,  2.65212059e-02, -6.79161176e-02,\n",
       "           -1.17429227e-01,  8.83409083e-02, -6.57413676e-02,\n",
       "           -5.20079583e-02, -3.02819908e-03],\n",
       "          [-9.78409126e-02,  8.26111436e-02,  3.73616219e-02,\n",
       "           -1.21816203e-01, -1.12184316e-01,  1.33522555e-01,\n",
       "            9.19024944e-02,  8.18945169e-02,  6.17484301e-02,\n",
       "            1.17570713e-01,  4.25463170e-02,  5.23507595e-02,\n",
       "           -1.14580423e-01, -3.97850052e-02, -1.19402893e-01,\n",
       "            1.31597057e-01, -6.44023716e-02,  4.55518514e-02,\n",
       "            2.71610469e-02,  1.00389853e-01,  1.14180997e-01,\n",
       "           -5.66208288e-02,  6.21984899e-03, -1.31386235e-01,\n",
       "           -4.43764254e-02, -1.25036448e-01, -1.26618147e-03,\n",
       "            9.45652276e-02, -3.53023708e-02, -7.12169111e-02,\n",
       "           -7.74257034e-02, -1.34948567e-02],\n",
       "          [ 1.23702839e-01, -1.38014257e-02, -4.85546216e-02,\n",
       "           -3.91094387e-02, -1.28798887e-01, -1.25632212e-01,\n",
       "            6.40357137e-02, -6.09908551e-02,  9.36557353e-02,\n",
       "           -6.33738935e-02, -1.02380864e-01,  8.07325691e-02,\n",
       "           -6.31948262e-02,  5.00782430e-02,  1.29294381e-01,\n",
       "            4.94035333e-02,  8.11028481e-02, -7.43795261e-02,\n",
       "           -3.77319381e-02, -1.29505649e-01,  1.06460407e-01,\n",
       "           -9.36701149e-02, -9.78033692e-02, -1.29443228e-01,\n",
       "            2.46674120e-02,  5.80597520e-02,  8.01922381e-02,\n",
       "            9.17041898e-02, -8.76284838e-02, -1.29130766e-01,\n",
       "            1.30542219e-02,  5.16933799e-02]]]], dtype=float32),\n",
       " array([0., 0., 0., 0., 0., 0., 0., 0., 0., 0., 0., 0., 0., 0., 0., 0., 0.,\n",
       "        0., 0., 0., 0., 0., 0., 0., 0., 0., 0., 0., 0., 0., 0., 0.],\n",
       "       dtype=float32)]"
      ]
     },
     "execution_count": 23,
     "metadata": {},
     "output_type": "execute_result"
    }
   ],
   "source": [
    "model.layers[0].get_weights()"
   ]
  },
  {
   "cell_type": "code",
   "execution_count": 24,
   "metadata": {},
   "outputs": [
    {
     "name": "stdout",
     "output_type": "stream",
     "text": [
      "<class 'list'>\n",
      "2\n",
      "<class 'numpy.ndarray'>\n",
      "(3, 3, 3, 32)\n",
      "<class 'numpy.ndarray'>\n",
      "(32,)\n"
     ]
    }
   ],
   "source": [
    "print(type(model.layers[0].get_weights()))\n",
    "\n",
    "print(len(model.layers[0].get_weights()))\n",
    "\n",
    "print(type(model.layers[0].get_weights()[0]))\n",
    "\n",
    "print(model.layers[0].get_weights()[0].shape)\n",
    "\n",
    "print(type(model.layers[0].get_weights()[1]))\n",
    "\n",
    "print(model.layers[0].get_weights()[1].shape)"
   ]
  },
  {
   "cell_type": "code",
   "execution_count": 25,
   "metadata": {
    "scrolled": true
   },
   "outputs": [
    {
     "data": {
      "text/plain": [
       "(None, 224, 224, 3)"
      ]
     },
     "execution_count": 25,
     "metadata": {},
     "output_type": "execute_result"
    }
   ],
   "source": [
    "model.layers[0].input_shape"
   ]
  },
  {
   "cell_type": "code",
   "execution_count": 26,
   "metadata": {},
   "outputs": [
    {
     "data": {
      "text/plain": [
       "(None, 222, 222, 32)"
      ]
     },
     "execution_count": 26,
     "metadata": {},
     "output_type": "execute_result"
    }
   ],
   "source": [
    "model.layers[0].output_shape"
   ]
  },
  {
   "cell_type": "code",
   "execution_count": 27,
   "metadata": {},
   "outputs": [
    {
     "data": {
      "text/plain": [
       "True"
      ]
     },
     "execution_count": 27,
     "metadata": {},
     "output_type": "execute_result"
    }
   ],
   "source": [
    "model.layers[0].trainable"
   ]
  },
  {
   "cell_type": "markdown",
   "metadata": {},
   "source": [
    "#### Training/fit the model "
   ]
  },
  {
   "cell_type": "code",
   "execution_count": 28,
   "metadata": {},
   "outputs": [
    {
     "name": "stdout",
     "output_type": "stream",
     "text": [
      "Train on 646 samples, validate on 162 samples\n",
      "Epoch 1/100\n",
      "646/646 [==============================] - 178s 276ms/step - loss: 1.8958 - acc: 0.2198 - val_loss: 1.3859 - val_acc: 0.2963\n",
      "Epoch 2/100\n",
      "646/646 [==============================] - 181s 280ms/step - loss: 1.3618 - acc: 0.3297 - val_loss: 1.3632 - val_acc: 0.2469\n",
      "Epoch 3/100\n",
      "646/646 [==============================] - 192s 298ms/step - loss: 1.3303 - acc: 0.4102 - val_loss: 1.3237 - val_acc: 0.4012\n",
      "Epoch 4/100\n",
      "646/646 [==============================] - 199s 308ms/step - loss: 1.2557 - acc: 0.4272 - val_loss: 1.3346 - val_acc: 0.3272\n",
      "Epoch 5/100\n",
      "646/646 [==============================] - 196s 303ms/step - loss: 1.2090 - acc: 0.4628 - val_loss: 1.2654 - val_acc: 0.4012\n",
      "Epoch 6/100\n",
      "646/646 [==============================] - 196s 303ms/step - loss: 1.0966 - acc: 0.5294 - val_loss: 1.1001 - val_acc: 0.4938\n",
      "Epoch 7/100\n",
      "646/646 [==============================] - 196s 303ms/step - loss: 0.9363 - acc: 0.6285 - val_loss: 1.0892 - val_acc: 0.5123\n",
      "Epoch 8/100\n",
      "646/646 [==============================] - 194s 301ms/step - loss: 0.7857 - acc: 0.6765 - val_loss: 1.1164 - val_acc: 0.5123\n",
      "Epoch 9/100\n",
      "646/646 [==============================] - 196s 304ms/step - loss: 0.7250 - acc: 0.7152 - val_loss: 1.7718 - val_acc: 0.4012\n",
      "Epoch 10/100\n",
      "646/646 [==============================] - 196s 303ms/step - loss: 0.6127 - acc: 0.7693 - val_loss: 1.2000 - val_acc: 0.5432\n",
      "Epoch 11/100\n",
      "646/646 [==============================] - 209s 324ms/step - loss: 0.4925 - acc: 0.7972 - val_loss: 1.3827 - val_acc: 0.5370\n",
      "Epoch 12/100\n",
      "646/646 [==============================] - 207s 321ms/step - loss: 0.3577 - acc: 0.8653 - val_loss: 1.8181 - val_acc: 0.5000\n",
      "Epoch 13/100\n",
      "646/646 [==============================] - 205s 317ms/step - loss: 0.3721 - acc: 0.8669 - val_loss: 1.6013 - val_acc: 0.5556\n",
      "Epoch 14/100\n",
      "646/646 [==============================] - 204s 316ms/step - loss: 0.2802 - acc: 0.8839 - val_loss: 1.8698 - val_acc: 0.5247\n",
      "Epoch 15/100\n",
      "646/646 [==============================] - 204s 315ms/step - loss: 0.2838 - acc: 0.9009 - val_loss: 1.7041 - val_acc: 0.5679\n",
      "Epoch 16/100\n",
      "646/646 [==============================] - 204s 316ms/step - loss: 0.2416 - acc: 0.9226 - val_loss: 2.9559 - val_acc: 0.5185\n",
      "Epoch 17/100\n",
      "646/646 [==============================] - 194s 301ms/step - loss: 0.1913 - acc: 0.9350 - val_loss: 2.1633 - val_acc: 0.5679\n",
      "Epoch 18/100\n",
      "646/646 [==============================] - 191s 295ms/step - loss: 0.1236 - acc: 0.9489 - val_loss: 2.6512 - val_acc: 0.5309\n",
      "Epoch 19/100\n",
      "646/646 [==============================] - 189s 293ms/step - loss: 0.2016 - acc: 0.9334 - val_loss: 2.4054 - val_acc: 0.5617\n",
      "Epoch 20/100\n",
      "646/646 [==============================] - 198s 307ms/step - loss: 0.1439 - acc: 0.9567 - val_loss: 3.2078 - val_acc: 0.5494\n",
      "Epoch 21/100\n",
      "646/646 [==============================] - 199s 308ms/step - loss: 0.1809 - acc: 0.9489 - val_loss: 2.9253 - val_acc: 0.5370\n",
      "Epoch 22/100\n",
      "646/646 [==============================] - 198s 306ms/step - loss: 0.1386 - acc: 0.9644 - val_loss: 3.1554 - val_acc: 0.5802\n",
      "Epoch 23/100\n",
      "646/646 [==============================] - 197s 305ms/step - loss: 0.1066 - acc: 0.9659 - val_loss: 3.4461 - val_acc: 0.5432\n",
      "Epoch 24/100\n",
      "646/646 [==============================] - 196s 304ms/step - loss: 0.1203 - acc: 0.9551 - val_loss: 3.4493 - val_acc: 0.5309\n",
      "Epoch 25/100\n",
      "646/646 [==============================] - 198s 306ms/step - loss: 0.1391 - acc: 0.9536 - val_loss: 3.2984 - val_acc: 0.5000\n",
      "Epoch 26/100\n",
      "646/646 [==============================] - 197s 305ms/step - loss: 0.1017 - acc: 0.9628 - val_loss: 3.6588 - val_acc: 0.5309\n",
      "Epoch 27/100\n",
      "646/646 [==============================] - 197s 305ms/step - loss: 0.1010 - acc: 0.9706 - val_loss: 3.2948 - val_acc: 0.5000\n",
      "Epoch 28/100\n",
      "646/646 [==============================] - 197s 304ms/step - loss: 0.0838 - acc: 0.9737 - val_loss: 3.7623 - val_acc: 0.4877\n",
      "Epoch 29/100\n",
      "646/646 [==============================] - 200s 309ms/step - loss: 0.1430 - acc: 0.9582 - val_loss: 4.7199 - val_acc: 0.4815\n",
      "Epoch 30/100\n",
      "646/646 [==============================] - 198s 307ms/step - loss: 0.0655 - acc: 0.9783 - val_loss: 3.9899 - val_acc: 0.5123\n",
      "Epoch 31/100\n",
      "646/646 [==============================] - 198s 306ms/step - loss: 0.1546 - acc: 0.9644 - val_loss: 3.5720 - val_acc: 0.5247\n",
      "Epoch 32/100\n",
      "646/646 [==============================] - 198s 307ms/step - loss: 0.0788 - acc: 0.9814 - val_loss: 3.9205 - val_acc: 0.5062\n",
      "Epoch 33/100\n",
      "646/646 [==============================] - 197s 306ms/step - loss: 0.1263 - acc: 0.9551 - val_loss: 4.3774 - val_acc: 0.5000\n",
      "Epoch 34/100\n",
      "646/646 [==============================] - 196s 304ms/step - loss: 0.0696 - acc: 0.9752 - val_loss: 4.1648 - val_acc: 0.5185\n",
      "Epoch 35/100\n",
      "646/646 [==============================] - 197s 305ms/step - loss: 0.0970 - acc: 0.9582 - val_loss: 4.2107 - val_acc: 0.4877\n",
      "Epoch 36/100\n",
      "646/646 [==============================] - 197s 305ms/step - loss: 0.1326 - acc: 0.9598 - val_loss: 3.8213 - val_acc: 0.5000\n",
      "Epoch 37/100\n",
      "646/646 [==============================] - 197s 305ms/step - loss: 0.1005 - acc: 0.9675 - val_loss: 3.8812 - val_acc: 0.5556\n",
      "Epoch 38/100\n",
      "646/646 [==============================] - 197s 305ms/step - loss: 0.1029 - acc: 0.9706 - val_loss: 3.6108 - val_acc: 0.5247\n",
      "Epoch 39/100\n",
      "646/646 [==============================] - 198s 307ms/step - loss: 0.0946 - acc: 0.9706 - val_loss: 3.3813 - val_acc: 0.5247\n",
      "Epoch 40/100\n",
      "646/646 [==============================] - 197s 305ms/step - loss: 0.1131 - acc: 0.9675 - val_loss: 4.3201 - val_acc: 0.5062\n",
      "Epoch 41/100\n",
      "646/646 [==============================] - 197s 306ms/step - loss: 0.1020 - acc: 0.9659 - val_loss: 3.4670 - val_acc: 0.5000\n",
      "Epoch 42/100\n",
      "646/646 [==============================] - 198s 306ms/step - loss: 0.0706 - acc: 0.9783 - val_loss: 3.9789 - val_acc: 0.4877\n",
      "Epoch 43/100\n",
      "646/646 [==============================] - 198s 306ms/step - loss: 0.0773 - acc: 0.9783 - val_loss: 4.4755 - val_acc: 0.5370\n",
      "Epoch 44/100\n",
      "646/646 [==============================] - 197s 305ms/step - loss: 0.1065 - acc: 0.9659 - val_loss: 3.2413 - val_acc: 0.5123\n",
      "Epoch 45/100\n",
      "646/646 [==============================] - 198s 306ms/step - loss: 0.1918 - acc: 0.9567 - val_loss: 3.4345 - val_acc: 0.5062\n",
      "Epoch 46/100\n",
      "646/646 [==============================] - 197s 306ms/step - loss: 0.0665 - acc: 0.9706 - val_loss: 4.3475 - val_acc: 0.4815\n",
      "Epoch 47/100\n",
      "646/646 [==============================] - 197s 305ms/step - loss: 0.1551 - acc: 0.9613 - val_loss: 3.9091 - val_acc: 0.5062\n",
      "Epoch 48/100\n",
      "646/646 [==============================] - 198s 307ms/step - loss: 0.1058 - acc: 0.9737 - val_loss: 4.0618 - val_acc: 0.5185\n",
      "Epoch 49/100\n",
      "646/646 [==============================] - 197s 304ms/step - loss: 0.0662 - acc: 0.9768 - val_loss: 3.7939 - val_acc: 0.4753\n",
      "Epoch 50/100\n",
      "646/646 [==============================] - 196s 303ms/step - loss: 0.0960 - acc: 0.9768 - val_loss: 3.8664 - val_acc: 0.5000\n",
      "Epoch 51/100\n",
      "646/646 [==============================] - 197s 304ms/step - loss: 0.0768 - acc: 0.9799 - val_loss: 4.6336 - val_acc: 0.5370\n",
      "Epoch 52/100\n",
      "646/646 [==============================] - 196s 304ms/step - loss: 0.0969 - acc: 0.9659 - val_loss: 3.3785 - val_acc: 0.5309\n",
      "Epoch 53/100\n",
      "646/646 [==============================] - 197s 304ms/step - loss: 0.0828 - acc: 0.9737 - val_loss: 3.9145 - val_acc: 0.4938\n",
      "Epoch 54/100\n",
      "646/646 [==============================] - 196s 303ms/step - loss: 0.1066 - acc: 0.9659 - val_loss: 3.1358 - val_acc: 0.5185\n",
      "Epoch 55/100\n",
      "646/646 [==============================] - 198s 306ms/step - loss: 0.0231 - acc: 0.9938 - val_loss: 4.5746 - val_acc: 0.5185\n",
      "Epoch 56/100\n",
      "646/646 [==============================] - 196s 303ms/step - loss: 0.1166 - acc: 0.9690 - val_loss: 4.8606 - val_acc: 0.4568\n",
      "Epoch 57/100\n",
      "646/646 [==============================] - 197s 305ms/step - loss: 0.2036 - acc: 0.9613 - val_loss: 4.0544 - val_acc: 0.4877\n",
      "Epoch 58/100\n",
      "646/646 [==============================] - 197s 304ms/step - loss: 0.0634 - acc: 0.9799 - val_loss: 4.3439 - val_acc: 0.5247\n",
      "Epoch 59/100\n",
      "646/646 [==============================] - 197s 305ms/step - loss: 0.0978 - acc: 0.9706 - val_loss: 3.9734 - val_acc: 0.5309\n",
      "Epoch 60/100\n",
      "646/646 [==============================] - 196s 304ms/step - loss: 0.1527 - acc: 0.9690 - val_loss: 4.2792 - val_acc: 0.5000\n",
      "Epoch 61/100\n",
      "646/646 [==============================] - 197s 304ms/step - loss: 0.0355 - acc: 0.9876 - val_loss: 4.9390 - val_acc: 0.4383\n",
      "Epoch 62/100\n",
      "646/646 [==============================] - 196s 303ms/step - loss: 0.0877 - acc: 0.9752 - val_loss: 4.1567 - val_acc: 0.5370\n",
      "Epoch 63/100\n",
      "646/646 [==============================] - 196s 303ms/step - loss: 0.1767 - acc: 0.9613 - val_loss: 4.4060 - val_acc: 0.5123\n",
      "Epoch 64/100\n",
      "646/646 [==============================] - 197s 304ms/step - loss: 0.0677 - acc: 0.9799 - val_loss: 4.5320 - val_acc: 0.4815\n",
      "Epoch 65/100\n",
      "646/646 [==============================] - 196s 304ms/step - loss: 0.0893 - acc: 0.9690 - val_loss: 2.8931 - val_acc: 0.5123\n",
      "Epoch 66/100\n",
      "646/646 [==============================] - 197s 306ms/step - loss: 0.0695 - acc: 0.9861 - val_loss: 4.3292 - val_acc: 0.5062\n",
      "Epoch 67/100\n",
      "646/646 [==============================] - 196s 304ms/step - loss: 0.0644 - acc: 0.9923 - val_loss: 4.6934 - val_acc: 0.5370\n",
      "Epoch 68/100\n",
      "646/646 [==============================] - 198s 306ms/step - loss: 0.1588 - acc: 0.9706 - val_loss: 4.3054 - val_acc: 0.4938\n",
      "Epoch 69/100\n",
      "646/646 [==============================] - 196s 304ms/step - loss: 0.0767 - acc: 0.9799 - val_loss: 3.8395 - val_acc: 0.5123\n",
      "Epoch 70/100\n",
      "646/646 [==============================] - 197s 305ms/step - loss: 0.2050 - acc: 0.9551 - val_loss: 4.5268 - val_acc: 0.4691\n",
      "Epoch 71/100\n",
      "646/646 [==============================] - 197s 305ms/step - loss: 0.0309 - acc: 0.9830 - val_loss: 4.5280 - val_acc: 0.4815\n",
      "Epoch 72/100\n",
      "646/646 [==============================] - 196s 303ms/step - loss: 0.1573 - acc: 0.9675 - val_loss: 3.9289 - val_acc: 0.5432\n",
      "Epoch 73/100\n",
      "646/646 [==============================] - 197s 305ms/step - loss: 0.0558 - acc: 0.9737 - val_loss: 4.8524 - val_acc: 0.5062\n",
      "Epoch 74/100\n",
      "646/646 [==============================] - 197s 305ms/step - loss: 0.0999 - acc: 0.9690 - val_loss: 4.3656 - val_acc: 0.5123\n",
      "Epoch 75/100\n",
      "646/646 [==============================] - 197s 305ms/step - loss: 0.0836 - acc: 0.9814 - val_loss: 4.0031 - val_acc: 0.4877\n",
      "Epoch 76/100\n",
      "646/646 [==============================] - 198s 306ms/step - loss: 0.0488 - acc: 0.9814 - val_loss: 4.8352 - val_acc: 0.5247\n",
      "Epoch 77/100\n",
      "646/646 [==============================] - 197s 306ms/step - loss: 0.1100 - acc: 0.9799 - val_loss: 4.4593 - val_acc: 0.4630\n",
      "Epoch 78/100\n",
      "646/646 [==============================] - 196s 304ms/step - loss: 0.0872 - acc: 0.9876 - val_loss: 4.9836 - val_acc: 0.4815\n",
      "Epoch 79/100\n",
      "646/646 [==============================] - 196s 304ms/step - loss: 0.1596 - acc: 0.9613 - val_loss: 4.7432 - val_acc: 0.5123\n",
      "Epoch 80/100\n",
      "646/646 [==============================] - 197s 305ms/step - loss: 0.1168 - acc: 0.9752 - val_loss: 5.0329 - val_acc: 0.5000\n",
      "Epoch 81/100\n",
      "646/646 [==============================] - 196s 304ms/step - loss: 0.1050 - acc: 0.9783 - val_loss: 4.3015 - val_acc: 0.5000\n",
      "Epoch 82/100\n",
      "646/646 [==============================] - 196s 303ms/step - loss: 0.0655 - acc: 0.9845 - val_loss: 5.2834 - val_acc: 0.4877\n",
      "Epoch 83/100\n",
      "646/646 [==============================] - 197s 304ms/step - loss: 0.0475 - acc: 0.9799 - val_loss: 5.0570 - val_acc: 0.4815\n",
      "Epoch 84/100\n",
      "646/646 [==============================] - 196s 304ms/step - loss: 0.1062 - acc: 0.9814 - val_loss: 5.1070 - val_acc: 0.4630\n",
      "Epoch 85/100\n",
      "646/646 [==============================] - 198s 306ms/step - loss: 0.1069 - acc: 0.9783 - val_loss: 4.8189 - val_acc: 0.4938\n",
      "Epoch 86/100\n",
      "646/646 [==============================] - 197s 304ms/step - loss: 0.0658 - acc: 0.9845 - val_loss: 4.8955 - val_acc: 0.5000\n",
      "Epoch 87/100\n",
      "646/646 [==============================] - 195s 302ms/step - loss: 0.1056 - acc: 0.9706 - val_loss: 4.8568 - val_acc: 0.5123\n",
      "Epoch 88/100\n",
      "646/646 [==============================] - 196s 303ms/step - loss: 0.0532 - acc: 0.9845 - val_loss: 3.9048 - val_acc: 0.5123\n",
      "Epoch 89/100\n",
      "646/646 [==============================] - 196s 304ms/step - loss: 0.0438 - acc: 0.9845 - val_loss: 5.4414 - val_acc: 0.5247\n",
      "Epoch 90/100\n",
      "646/646 [==============================] - 197s 305ms/step - loss: 0.0660 - acc: 0.9830 - val_loss: 5.2287 - val_acc: 0.5000\n",
      "Epoch 91/100\n",
      "646/646 [==============================] - 196s 303ms/step - loss: 0.0805 - acc: 0.9814 - val_loss: 4.7387 - val_acc: 0.4877\n",
      "Epoch 92/100\n",
      "646/646 [==============================] - 196s 303ms/step - loss: 0.0537 - acc: 0.9923 - val_loss: 5.6004 - val_acc: 0.4815\n",
      "Epoch 93/100\n",
      "646/646 [==============================] - 196s 304ms/step - loss: 0.1436 - acc: 0.9752 - val_loss: 4.6574 - val_acc: 0.4938\n",
      "Epoch 94/100\n",
      "646/646 [==============================] - 197s 305ms/step - loss: 0.0333 - acc: 0.9845 - val_loss: 4.6753 - val_acc: 0.5000\n",
      "Epoch 95/100\n",
      "646/646 [==============================] - 196s 304ms/step - loss: 0.1579 - acc: 0.9721 - val_loss: 4.7876 - val_acc: 0.4938\n",
      "Epoch 96/100\n",
      "646/646 [==============================] - 197s 305ms/step - loss: 0.0536 - acc: 0.9892 - val_loss: 4.7682 - val_acc: 0.5123\n",
      "Epoch 97/100\n",
      "646/646 [==============================] - 196s 303ms/step - loss: 0.0449 - acc: 0.9907 - val_loss: 4.2014 - val_acc: 0.5556\n",
      "Epoch 98/100\n",
      "646/646 [==============================] - 196s 304ms/step - loss: 0.0739 - acc: 0.9830 - val_loss: 4.4214 - val_acc: 0.5000\n",
      "Epoch 99/100\n",
      "646/646 [==============================] - 197s 305ms/step - loss: 0.1359 - acc: 0.9690 - val_loss: 4.3666 - val_acc: 0.5185\n",
      "Epoch 100/100\n",
      "646/646 [==============================] - 196s 303ms/step - loss: 0.0651 - acc: 0.9892 - val_loss: 5.4612 - val_acc: 0.5370\n"
     ]
    }
   ],
   "source": [
    "hist = model.fit(X_train, y_train, batch_size=batch_size, epochs=num_epoch, verbose=1, validation_data=(X_test, y_test))"
   ]
  },
  {
   "cell_type": "markdown",
   "metadata": {},
   "source": [
    "#### Evaluating the model"
   ]
  },
  {
   "cell_type": "code",
   "execution_count": 29,
   "metadata": {},
   "outputs": [
    {
     "name": "stdout",
     "output_type": "stream",
     "text": [
      "162/162 [==============================] - 15s 95ms/step\n",
      "Test Loss: 5.461193485024535\n",
      "Test Accuracy: 0.5370370370370371\n"
     ]
    }
   ],
   "source": [
    "score = model.evaluate(X_test, y_test, batch_size=batch_size)\n",
    "\n",
    "print('Test Loss:', score[0])\n",
    "print('Test Accuracy:', score[1])"
   ]
  },
  {
   "cell_type": "code",
   "execution_count": 30,
   "metadata": {},
   "outputs": [
    {
     "name": "stdout",
     "output_type": "stream",
     "text": [
      "(1, 224, 224, 3)\n"
     ]
    }
   ],
   "source": [
    "test_image = X_test[0:1]\n",
    "print (test_image.shape)"
   ]
  },
  {
   "cell_type": "code",
   "execution_count": 31,
   "metadata": {},
   "outputs": [
    {
     "name": "stdout",
     "output_type": "stream",
     "text": [
      "[[3.4530321e-09 1.4584199e-01 8.5415798e-01 5.0047588e-11]]\n",
      "[2]\n",
      "[[0. 0. 1. 0.]]\n"
     ]
    }
   ],
   "source": [
    "print(model.predict(test_image))\n",
    "print(model.predict_classes(test_image))\n",
    "print(y_test[0:1])"
   ]
  },
  {
   "cell_type": "markdown",
   "metadata": {},
   "source": [
    "#### Predict and compute the confusion matrix"
   ]
  },
  {
   "cell_type": "code",
   "execution_count": 32,
   "metadata": {},
   "outputs": [
    {
     "name": "stdout",
     "output_type": "stream",
     "text": [
      "[[3.45297946e-09 1.45840392e-01 8.54159653e-01 5.00470221e-11]\n",
      " [2.54625775e-13 1.19122168e-09 1.00000000e+00 1.84109260e-15]\n",
      " [1.12098605e-05 8.11887145e-01 1.88101575e-01 1.58952984e-09]\n",
      " [9.99996305e-01 3.71067722e-06 1.88613300e-16 4.49655452e-11]\n",
      " [9.64185735e-14 1.00000000e+00 2.69955525e-09 1.12765854e-16]\n",
      " [6.46674037e-01 3.53301078e-01 3.36786941e-13 2.47848529e-05]\n",
      " [3.29853589e-09 9.97382700e-01 2.61670235e-03 6.17464877e-07]\n",
      " [1.00000000e+00 7.08278197e-18 0.00000000e+00 1.46406185e-29]\n",
      " [3.72696872e-27 1.00000000e+00 7.48470872e-32 4.80949214e-29]\n",
      " [1.64791859e-20 2.24272508e-26 2.91864727e-32 1.00000000e+00]\n",
      " [2.35567222e-05 9.99968529e-01 7.84349595e-06 1.29139088e-10]\n",
      " [2.00908400e-35 1.11686881e-26 2.94060941e-38 1.00000000e+00]\n",
      " [1.71240680e-12 1.66950958e-05 9.99982119e-01 1.24395774e-06]\n",
      " [1.00995614e-07 6.85562371e-12 2.13925734e-32 9.99999881e-01]\n",
      " [1.00000000e+00 9.95178480e-16 4.05309649e-18 3.74798877e-17]\n",
      " [1.90247300e-13 2.48584888e-06 9.99997497e-01 6.33728875e-17]\n",
      " [2.63637358e-11 1.00000000e+00 5.13172874e-19 1.77979999e-13]\n",
      " [9.99952078e-01 4.78758338e-05 5.36901044e-21 1.95317512e-11]\n",
      " [2.09240752e-38 7.22357052e-28 1.02663980e-37 1.00000000e+00]\n",
      " [2.64068891e-04 9.08786774e-01 9.09489915e-02 8.90599452e-08]\n",
      " [1.08401546e-08 9.99999285e-01 4.86034371e-19 6.91598586e-07]\n",
      " [3.98104760e-32 1.21443041e-22 0.00000000e+00 1.00000000e+00]\n",
      " [2.46552449e-23 1.00000000e+00 0.00000000e+00 4.51399841e-22]\n",
      " [5.13560046e-03 9.94845629e-01 9.22897225e-09 1.87149435e-05]\n",
      " [9.94977295e-01 4.86169847e-20 0.00000000e+00 5.02273161e-03]\n",
      " [4.48192986e-05 9.99955177e-01 9.12110743e-15 2.78077296e-15]\n",
      " [2.51427020e-21 1.00000000e+00 6.98011846e-22 1.31469480e-09]\n",
      " [7.12412541e-35 3.18495233e-27 0.00000000e+00 1.00000000e+00]\n",
      " [9.94871140e-01 2.97131902e-03 3.45283506e-25 2.15758616e-03]\n",
      " [2.80442500e-21 9.99760807e-01 2.04093594e-19 2.39191926e-04]\n",
      " [1.37734555e-11 9.79026675e-01 2.09733639e-02 1.90242874e-11]\n",
      " [2.72780808e-11 9.99672174e-01 3.27845803e-04 2.55942592e-08]\n",
      " [9.98013982e-32 2.65759758e-34 1.00000000e+00 0.00000000e+00]\n",
      " [1.19227939e-19 1.70441452e-16 1.00000000e+00 2.28428504e-31]\n",
      " [9.99992967e-01 3.02648835e-12 1.06793954e-16 7.00935743e-06]\n",
      " [4.46916379e-20 7.37620346e-14 5.99268221e-22 1.00000000e+00]\n",
      " [5.92484994e-08 5.32826505e-10 4.41090497e-10 9.99999881e-01]\n",
      " [4.11345541e-10 1.00000000e+00 1.10015135e-22 1.16099037e-14]\n",
      " [9.02488945e-21 3.48552028e-26 0.00000000e+00 1.00000000e+00]\n",
      " [2.66781921e-08 6.14313409e-04 9.99385476e-01 9.81327872e-08]\n",
      " [1.23508386e-02 9.69103575e-01 1.85456146e-02 6.48125026e-11]\n",
      " [9.84382927e-01 1.56171359e-02 3.15089631e-34 2.70951261e-10]\n",
      " [1.18690950e-04 9.99229431e-01 6.21132727e-04 3.08715134e-05]\n",
      " [9.99985933e-01 1.04245146e-05 3.56507780e-06 7.62908670e-08]\n",
      " [1.53538585e-05 9.99979854e-01 8.25139913e-34 4.72316651e-06]\n",
      " [2.88490287e-13 1.00000000e+00 7.29652580e-26 4.68266531e-18]\n",
      " [4.39540169e-14 1.00000000e+00 3.05100789e-09 6.36338681e-12]\n",
      " [9.75149333e-01 1.73612256e-02 3.48838514e-10 7.48945307e-03]\n",
      " [4.84657539e-05 2.64569322e-09 9.99951482e-01 1.43491573e-11]\n",
      " [2.34609959e-03 1.22583573e-04 1.68974220e-12 9.97531295e-01]\n",
      " [7.10395742e-10 2.17280230e-12 1.00000000e+00 3.82204941e-21]\n",
      " [5.78549368e-08 6.32787572e-12 2.03015642e-11 1.00000000e+00]\n",
      " [9.81666386e-01 1.51170671e-05 1.30308972e-10 1.83185954e-02]\n",
      " [9.99994636e-01 5.37629967e-06 5.46241513e-20 2.02853482e-19]\n",
      " [2.56373897e-16 2.73067176e-14 1.00000000e+00 5.02201545e-21]\n",
      " [8.90494969e-11 2.23394221e-04 9.99776661e-01 3.45755809e-18]\n",
      " [1.80380121e-02 9.81781721e-01 6.34529655e-08 1.80169591e-04]\n",
      " [2.28379135e-21 6.33297583e-18 1.00000000e+00 5.52082648e-28]\n",
      " [0.00000000e+00 1.00000000e+00 3.07640601e-34 2.28937744e-18]\n",
      " [5.52978814e-01 4.45584476e-01 1.88452448e-25 1.43663341e-03]\n",
      " [7.32610783e-36 1.41392879e-27 0.00000000e+00 1.00000000e+00]\n",
      " [6.47445404e-08 9.99999881e-01 1.09472820e-10 3.25728466e-09]\n",
      " [6.91000412e-09 4.86795689e-05 1.83508064e-20 9.99951363e-01]\n",
      " [6.23861599e-35 8.81842492e-27 0.00000000e+00 1.00000000e+00]\n",
      " [7.63871952e-11 3.46424143e-13 4.96994252e-16 1.00000000e+00]\n",
      " [1.66771337e-04 5.14840934e-08 2.03630914e-11 9.99833107e-01]\n",
      " [4.57497219e-17 9.99929786e-01 1.66248246e-05 5.36809457e-05]\n",
      " [0.00000000e+00 3.24938085e-27 1.00000000e+00 0.00000000e+00]\n",
      " [8.55506529e-13 4.95452405e-05 4.08856476e-18 9.99950409e-01]\n",
      " [6.52601535e-04 8.63201857e-01 8.26997459e-02 5.34457490e-02]\n",
      " [2.81174124e-07 9.99999762e-01 2.43433967e-10 1.15388952e-08]\n",
      " [1.23224698e-01 8.76201868e-01 4.75058174e-15 5.73487370e-04]\n",
      " [2.13230089e-16 1.00000000e+00 3.95591559e-18 1.69013431e-13]\n",
      " [9.97846127e-01 2.50249855e-06 2.15132558e-03 2.40577300e-08]\n",
      " [1.85397691e-14 1.00000000e+00 1.15148425e-16 1.37584102e-11]\n",
      " [5.50790457e-03 9.94491935e-01 7.57671614e-08 6.85517643e-10]\n",
      " [1.44223886e-04 9.99835134e-01 2.06649784e-05 9.38467303e-22]\n",
      " [8.91566382e-15 9.99985456e-01 7.36889961e-32 1.45454751e-05]\n",
      " [3.15734913e-04 2.29568571e-01 2.48408764e-06 7.70113170e-01]\n",
      " [5.19535566e-17 1.00000000e+00 1.86189724e-25 5.01313380e-10]\n",
      " [7.35828553e-06 1.34572517e-02 3.21162018e-16 9.86535370e-01]\n",
      " [5.50228405e-11 8.30415388e-07 9.99999166e-01 2.84965926e-13]\n",
      " [1.05178602e-04 8.98879516e-05 2.27281851e-24 9.99804914e-01]\n",
      " [0.00000000e+00 2.98032806e-30 1.00000000e+00 0.00000000e+00]\n",
      " [8.83054780e-26 5.09899431e-23 1.00000000e+00 4.25183887e-26]\n",
      " [2.74966634e-03 9.97250378e-01 1.82877365e-16 1.30682805e-13]\n",
      " [2.28498935e-25 1.00000000e+00 2.06529333e-13 1.10257778e-18]\n",
      " [3.22830319e-01 6.77169740e-01 4.05305236e-36 4.35017179e-18]\n",
      " [9.85177577e-01 1.48019586e-02 7.93133026e-08 2.03549644e-05]\n",
      " [6.43763178e-06 9.99993563e-01 1.71302683e-09 1.58357008e-11]\n",
      " [7.94891690e-08 3.46205155e-07 7.02828526e-01 2.97171026e-01]\n",
      " [2.63720052e-26 5.28762257e-03 9.94712353e-01 2.77546148e-16]\n",
      " [4.76595960e-05 9.99952316e-01 2.83816049e-18 6.28999838e-11]\n",
      " [3.76399475e-05 9.98261988e-01 5.73306024e-05 1.64303987e-03]\n",
      " [3.92042083e-31 4.45580825e-24 6.95707110e-37 1.00000000e+00]\n",
      " [3.93666133e-12 9.16806012e-02 4.53071561e-06 9.08314943e-01]\n",
      " [1.51050309e-12 1.76932271e-11 1.00000000e+00 2.11729590e-14]\n",
      " [3.18030394e-11 1.20097052e-08 1.00000000e+00 1.11822590e-16]\n",
      " [5.09933402e-27 1.60996889e-16 1.00000000e+00 3.00334871e-22]\n",
      " [4.44027494e-35 1.44233649e-15 1.81665893e-32 1.00000000e+00]\n",
      " [9.99868512e-01 1.31470457e-04 5.52776295e-16 3.42491105e-11]\n",
      " [2.05074979e-09 2.68177246e-07 1.90745319e-11 9.99999762e-01]\n",
      " [8.75023306e-06 9.99983549e-01 6.48810712e-08 7.61201909e-06]\n",
      " [8.53019544e-10 1.86318218e-07 9.99999762e-01 8.25673159e-18]\n",
      " [1.07092127e-19 4.38350514e-02 6.82045281e-18 9.56164956e-01]\n",
      " [6.23930760e-07 5.86045144e-06 1.60532557e-12 9.99993563e-01]\n",
      " [8.41689527e-01 1.58127204e-01 1.82100601e-04 1.10689587e-06]\n",
      " [1.23003187e-11 9.53560788e-03 9.90464330e-01 1.37304014e-26]\n",
      " [6.64822532e-19 9.92953007e-15 3.20708781e-15 1.00000000e+00]\n",
      " [1.68178292e-17 9.76040615e-18 1.00000000e+00 2.28242802e-25]\n",
      " [7.77496677e-03 4.13945705e-01 5.78279316e-01 7.75575870e-08]\n",
      " [8.31446267e-22 1.00000000e+00 0.00000000e+00 7.77061944e-23]\n",
      " [9.60966007e-13 1.00000000e+00 4.26554374e-14 2.07233883e-11]\n",
      " [9.95911241e-01 4.08877479e-03 4.72186060e-17 1.47119201e-13]\n",
      " [1.70312468e-02 9.81588006e-01 8.22141592e-04 5.58681029e-04]\n",
      " [9.87209439e-01 5.20863151e-03 2.11397697e-15 7.58189056e-03]\n",
      " [5.25526301e-21 1.67383285e-18 4.30513858e-28 1.00000000e+00]\n",
      " [7.67733807e-15 4.25849633e-10 4.31371862e-21 1.00000000e+00]\n",
      " [8.60607332e-33 3.49485631e-13 0.00000000e+00 1.00000000e+00]\n",
      " [1.54679446e-02 1.63213761e-27 2.09363295e-38 9.84532058e-01]\n",
      " [8.46991245e-23 1.00000000e+00 9.12935860e-28 1.83604705e-33]\n",
      " [5.95424510e-09 1.06129496e-08 9.99999881e-01 1.29853703e-07]\n",
      " [2.38399890e-28 1.06189789e-24 2.97702451e-28 1.00000000e+00]\n",
      " [3.33299658e-13 1.00000000e+00 2.01202798e-21 2.43445192e-21]\n",
      " [9.99999285e-01 7.36366079e-10 4.26699614e-07 2.12430805e-07]\n",
      " [7.36250728e-02 2.11928768e-08 9.26374853e-01 1.76671882e-13]\n",
      " [2.85879467e-02 9.71341491e-01 5.78043619e-05 1.27034928e-05]\n",
      " [3.23855711e-05 9.98432934e-01 1.72769137e-24 1.53462193e-03]\n",
      " [2.15262243e-13 6.73885271e-02 4.73616425e-19 9.32611465e-01]\n",
      " [9.99986053e-01 1.39514977e-05 2.03540789e-27 9.31918354e-17]\n",
      " [7.69794710e-13 6.44590700e-11 1.00000000e+00 8.39282003e-15]\n",
      " [6.51348013e-24 1.19841887e-16 4.06156377e-25 1.00000000e+00]\n",
      " [2.33152542e-16 1.00000000e+00 5.04585137e-19 2.86249465e-14]\n",
      " [3.90312850e-01 6.09687090e-01 5.89836983e-15 8.16617954e-11]\n",
      " [3.75067477e-11 2.90005975e-08 1.40472167e-09 1.00000000e+00]\n",
      " [1.96041530e-08 9.99999881e-01 1.90356412e-19 1.00440431e-07]\n",
      " [3.93285093e-09 3.58772439e-07 9.99999642e-01 4.20745527e-09]\n",
      " [3.51414859e-16 2.86613754e-11 1.00000000e+00 5.04451691e-14]\n",
      " [6.78800136e-24 6.66487112e-15 3.38453186e-22 1.00000000e+00]\n",
      " [9.99999881e-01 1.49144086e-10 2.22513932e-23 9.22403700e-08]\n",
      " [4.65885887e-06 9.99995351e-01 4.46684645e-18 4.02912727e-23]\n",
      " [5.08594908e-08 1.04982774e-07 7.29592151e-31 9.99999881e-01]\n",
      " [1.82697745e-25 1.45649508e-04 4.22299830e-26 9.99854326e-01]\n",
      " [3.96047791e-17 1.00000000e+00 1.15008499e-14 6.01737549e-11]\n",
      " [3.45422713e-08 8.38131130e-01 1.48973719e-03 1.60379156e-01]\n",
      " [3.47788513e-01 6.46853387e-01 1.47204322e-03 3.88611993e-03]\n",
      " [2.11492137e-04 9.93592918e-01 6.19550142e-03 2.79941403e-10]\n",
      " [2.56566910e-29 1.00000000e+00 0.00000000e+00 3.50519451e-22]\n",
      " [8.30987215e-01 5.70093776e-34 0.00000000e+00 1.69012815e-01]\n",
      " [2.21878096e-01 7.78121829e-01 7.96594058e-20 8.92667071e-13]\n",
      " [4.68234643e-02 9.53138053e-01 3.34163888e-05 5.13433315e-06]\n",
      " [2.07778974e-03 2.12728232e-03 9.95680809e-01 1.14048715e-04]\n",
      " [1.27295208e-09 1.70400517e-06 1.12934094e-02 9.88704860e-01]\n",
      " [9.02488945e-21 3.48552028e-26 0.00000000e+00 1.00000000e+00]\n",
      " [8.77246480e-17 9.99999404e-01 8.47807850e-17 5.75429340e-07]\n",
      " [6.46403440e-36 2.54594595e-10 0.00000000e+00 1.00000000e+00]\n",
      " [1.86416435e-25 1.89385450e-16 1.30011430e-28 1.00000000e+00]\n",
      " [2.52756696e-08 2.44646192e-01 7.55340695e-01 1.31548113e-05]\n",
      " [3.76729463e-06 9.99171138e-01 3.41118735e-12 8.25026305e-04]\n",
      " [2.51704044e-31 2.25456306e-18 1.00000000e+00 3.30351716e-31]\n",
      " [9.99989748e-01 1.18396508e-06 1.98934050e-10 9.04316494e-06]\n",
      " [2.55615782e-06 1.01234776e-03 1.67067124e-10 9.98985112e-01]]\n"
     ]
    }
   ],
   "source": [
    "from sklearn.metrics import confusion_matrix\n",
    "\n",
    "Y_pred = model.predict(X_test)\n",
    "print(Y_pred)"
   ]
  },
  {
   "cell_type": "code",
   "execution_count": 33,
   "metadata": {},
   "outputs": [
    {
     "name": "stdout",
     "output_type": "stream",
     "text": [
      "[2 2 1 0 1 0 1 0 1 3 1 3 2 3 0 2 1 0 3 1 1 3 1 1 0 1 1 3 0 1 1 1 2 2 0 3 3\n",
      " 1 3 2 1 0 1 0 1 1 1 0 2 3 2 3 0 0 2 2 1 2 1 0 3 1 3 3 3 3 1 2 3 1 1 1 1 0\n",
      " 1 1 1 1 3 1 3 2 3 2 2 1 1 1 0 1 2 2 1 1 3 3 2 2 2 3 0 3 1 2 3 3 0 2 3 2 2\n",
      " 1 1 0 1 0 3 3 3 3 1 2 3 1 0 2 1 1 3 0 2 3 1 1 3 1 2 2 3 0 1 3 3 1 1 1 1 1\n",
      " 0 1 1 2 3 3 1 3 3 2 1 2 0 3]\n"
     ]
    }
   ],
   "source": [
    "y_pred = np.argmax(Y_pred, axis=1)\n",
    "print(y_pred)"
   ]
  },
  {
   "cell_type": "code",
   "execution_count": 34,
   "metadata": {},
   "outputs": [
    {
     "name": "stdout",
     "output_type": "stream",
     "text": [
      "[[14 20  0  7]\n",
      " [ 4 21  7  8]\n",
      " [ 2  5 25  1]\n",
      " [ 5 15  1 27]]\n"
     ]
    }
   ],
   "source": [
    "print(confusion_matrix(np.argmax(y_test, axis=1), y_pred))"
   ]
  },
  {
   "cell_type": "markdown",
   "metadata": {},
   "source": [
    "#### Saving and loading model and weights"
   ]
  },
  {
   "cell_type": "code",
   "execution_count": 35,
   "metadata": {},
   "outputs": [],
   "source": [
    "from keras.models import model_from_json, load_model"
   ]
  },
  {
   "cell_type": "code",
   "execution_count": 36,
   "metadata": {},
   "outputs": [],
   "source": [
    "# Serialize model to JSON\n",
    "model_json = model.to_json()\n",
    "with open(\"model.json\", \"w\") as json_file:\n",
    "    json_file.write(model_json)\n",
    "\n",
    "# Serialize weights to HDF5\n",
    "model.save_weights(\"model.h5\")"
   ]
  },
  {
   "cell_type": "code",
   "execution_count": 37,
   "metadata": {},
   "outputs": [],
   "source": [
    "# Load json and create model\n",
    "json_file = open('model.json', 'r')\n",
    "loaded_model_json = json_file.read()\n",
    "json_file.close()\n",
    "loaded_model = model_from_json(loaded_model_json)\n",
    "\n",
    "# Load weights into new model\n",
    "loaded_model.load_weights(\"model.h5\")"
   ]
  },
  {
   "cell_type": "code",
   "execution_count": 38,
   "metadata": {},
   "outputs": [],
   "source": [
    "model.save('model.hdf5')\n",
    "loaded_model = load_model('model.hdf5')"
   ]
  },
  {
   "cell_type": "markdown",
   "metadata": {},
   "source": [
    "## Image Augmentation using ImageDataGenerator class"
   ]
  },
  {
   "cell_type": "markdown",
   "metadata": {},
   "source": [
    "__ImageDataGenerator__\n",
    "\n",
    "    Generates batches of tensor image data with real-time data augmentation."
   ]
  },
  {
   "cell_type": "raw",
   "metadata": {},
   "source": [
    "keras.preprocessing.image.ImageDataGenerator(...)\n",
    "\n",
    "Few frequently used parameters:\n",
    "\n",
    "    rotation_range: Int. Degree range for random rotations.\n",
    "    width_shift_range: Float, 1-D array-like or int\n",
    "    height_shift_range: Float, 1-D array-like or int\n",
    "    shear_range: Float. Shear Intensity (Shear angle in counter-clockwise direction in degrees)\n",
    "    zoom_range: Float or [lower, upper]. Range for random zoom. \n",
    "    horizontal_flip: Boolean. Randomly flip inputs horizontally.\n",
    "    vertical_flip: Boolean. Randomly flip inputs vertically.\n",
    "    rescale: rescaling factor.If None or 0, no rescaling is applied, otherwise we multiply the data by the value provided (before applying any other transformation).\n",
    "    validation_split: Float. Fraction of images reserved for validation (strictly between 0 and 1)."
   ]
  },
  {
   "cell_type": "markdown",
   "metadata": {},
   "source": [
    "#### Create the Image Data Generator"
   ]
  },
  {
   "cell_type": "code",
   "execution_count": null,
   "metadata": {},
   "outputs": [],
   "source": [
    "from keras.preprocessing.image import ImageDataGenerator\n",
    "\n",
    "data_gen = ImageDataGenerator(\n",
    "    rotation_range=20,\n",
    "    shear_range=0.5, \n",
    "    zoom_range=0.4, \n",
    "    rescale=1./255,\n",
    "    vertical_flip=True, \n",
    "    validation_split=0.2,\n",
    "    width_shift_range=0.2,\n",
    "    height_shift_range=0.2,\n",
    "    horizontal_flip=True) "
   ]
  },
  {
   "cell_type": "markdown",
   "metadata": {},
   "source": [
    "Path to save Augmented Images"
   ]
  },
  {
   "cell_type": "code",
   "execution_count": 40,
   "metadata": {},
   "outputs": [],
   "source": [
    "TRN_AUGMENTED = os.path.join(PATH , 'Trn_Augmented_Images')\n",
    "TST_AUGMENTED = os.path.join(PATH , 'Tst_Augmented_Images')"
   ]
  },
  {
   "cell_type": "markdown",
   "metadata": {},
   "source": [
    "#### 1. Using .flow "
   ]
  },
  {
   "cell_type": "markdown",
   "metadata": {},
   "source": [
    "#### flow:\n",
    "    Takes data & label arrays, generates batches of augmented data."
   ]
  },
  {
   "cell_type": "markdown",
   "metadata": {},
   "source": [
    "_keras.preprocessing.image.flow_(...)\n",
    "    \n",
    "Some frequently used parameters:\n",
    "\n",
    "    x     : Input data. Numpy array of rank 4 or a tuple. \n",
    "    y     : Labels.\n",
    "    subset: Subset of data (\"training\" or \"validation\") if  validation_split is set in ImageDataGenerator.\n",
    "    "
   ]
  },
  {
   "cell_type": "markdown",
   "metadata": {},
   "source": [
    "Use flow() to generate Train images in batches."
   ]
  },
  {
   "cell_type": "code",
   "execution_count": 41,
   "metadata": {},
   "outputs": [],
   "source": [
    "ftrain_generator = data_gen.flow(\n",
    "        X_train,\n",
    "        y_train,\n",
    "        batch_size=batch_size, \n",
    "        shuffle=True,  \n",
    "        subset=\"training\")"
   ]
  },
  {
   "cell_type": "markdown",
   "metadata": {},
   "source": [
    "Use flow() to generate Test images in batches."
   ]
  },
  {
   "cell_type": "code",
   "execution_count": 42,
   "metadata": {},
   "outputs": [],
   "source": [
    "ftest_generator = data_gen.flow(\n",
    "        X_test,\n",
    "        y_test,\n",
    "        batch_size=batch_size, \n",
    "        shuffle=True,  \n",
    "        subset=\"validation\")"
   ]
  },
  {
   "cell_type": "markdown",
   "metadata": {},
   "source": [
    "Fit the model using fit_generator() function and using the augmented images generated by flow() function "
   ]
  },
  {
   "cell_type": "markdown",
   "metadata": {},
   "source": [
    "#### fit_generator:\n",
    "    Trains the model on data generated batch-by-batch by a Python generator (or an instance of Sequence).\n",
    "    The generator is run in parallel to the model, for efficiency. For instance, this allows you to do real-time \n",
    "    data augmentation on images on CPU in parallel to training your model on GPU."
   ]
  },
  {
   "cell_type": "code",
   "execution_count": 43,
   "metadata": {},
   "outputs": [
    {
     "name": "stdout",
     "output_type": "stream",
     "text": [
      "Epoch 1/100\n",
      "17/17 [==============================] - 154s 9s/step - loss: 1.4068 - acc: 0.2490 - val_loss: 1.4407 - val_acc: 0.2500\n",
      "Epoch 2/100\n",
      "17/17 [==============================] - 151s 9s/step - loss: 1.3964 - acc: 0.2678 - val_loss: 1.4363 - val_acc: 0.2500\n",
      "Epoch 3/100\n",
      "17/17 [==============================] - 152s 9s/step - loss: 1.3971 - acc: 0.2584 - val_loss: 1.4337 - val_acc: 0.2500\n",
      "Epoch 4/100\n",
      "17/17 [==============================] - 153s 9s/step - loss: 1.3994 - acc: 0.2584 - val_loss: 1.4302 - val_acc: 0.2500\n",
      "Epoch 5/100\n",
      "17/17 [==============================] - 151s 9s/step - loss: 1.3957 - acc: 0.2397 - val_loss: 1.4284 - val_acc: 0.2500\n",
      "Epoch 6/100\n",
      "17/17 [==============================] - 151s 9s/step - loss: 1.3981 - acc: 0.2397 - val_loss: 1.4253 - val_acc: 0.2500\n",
      "Epoch 7/100\n",
      "17/17 [==============================] - 151s 9s/step - loss: 1.3952 - acc: 0.2397 - val_loss: 1.4219 - val_acc: 0.2500\n",
      "Epoch 8/100\n",
      "17/17 [==============================] - 151s 9s/step - loss: 1.3931 - acc: 0.2490 - val_loss: 1.4183 - val_acc: 0.2500\n",
      "Epoch 9/100\n",
      "17/17 [==============================] - 147s 9s/step - loss: 1.3921 - acc: 0.2490 - val_loss: 1.4160 - val_acc: 0.2500\n",
      "Epoch 10/100\n",
      "17/17 [==============================] - 142s 8s/step - loss: 1.3944 - acc: 0.2397 - val_loss: 1.4132 - val_acc: 0.2500\n",
      "Epoch 11/100\n",
      "17/17 [==============================] - 142s 8s/step - loss: 1.3886 - acc: 0.2584 - val_loss: 1.4110 - val_acc: 0.2500\n",
      "Epoch 12/100\n",
      "17/17 [==============================] - 143s 8s/step - loss: 1.3892 - acc: 0.2584 - val_loss: 1.4078 - val_acc: 0.2500\n",
      "Epoch 13/100\n",
      "17/17 [==============================] - 141s 8s/step - loss: 1.3886 - acc: 0.2584 - val_loss: 1.4055 - val_acc: 0.2500\n",
      "Epoch 14/100\n",
      "17/17 [==============================] - 139s 8s/step - loss: 1.3891 - acc: 0.2584 - val_loss: 1.4028 - val_acc: 0.2500\n",
      "Epoch 15/100\n",
      "17/17 [==============================] - 139s 8s/step - loss: 1.3885 - acc: 0.2584 - val_loss: 1.4006 - val_acc: 0.2500\n",
      "Epoch 16/100\n",
      "17/17 [==============================] - 140s 8s/step - loss: 1.3856 - acc: 0.2678 - val_loss: 1.3996 - val_acc: 0.2500\n",
      "Epoch 17/100\n",
      "17/17 [==============================] - 139s 8s/step - loss: 1.3907 - acc: 0.2490 - val_loss: 1.3983 - val_acc: 0.2500\n",
      "Epoch 18/100\n",
      "17/17 [==============================] - 139s 8s/step - loss: 1.3883 - acc: 0.2490 - val_loss: 1.3971 - val_acc: 0.2500\n",
      "Epoch 19/100\n",
      "17/17 [==============================] - 139s 8s/step - loss: 1.3874 - acc: 0.2490 - val_loss: 1.3946 - val_acc: 0.2500\n",
      "Epoch 20/100\n",
      "17/17 [==============================] - 139s 8s/step - loss: 1.3869 - acc: 0.2490 - val_loss: 1.3929 - val_acc: 0.2500\n",
      "Epoch 21/100\n",
      "17/17 [==============================] - 139s 8s/step - loss: 1.3863 - acc: 0.2584 - val_loss: 1.3925 - val_acc: 0.2500\n",
      "Epoch 22/100\n",
      "17/17 [==============================] - 139s 8s/step - loss: 1.3892 - acc: 0.2397 - val_loss: 1.3921 - val_acc: 0.2500\n",
      "Epoch 23/100\n",
      "17/17 [==============================] - 138s 8s/step - loss: 1.3875 - acc: 0.2490 - val_loss: 1.3910 - val_acc: 0.2500\n",
      "Epoch 24/100\n",
      "17/17 [==============================] - 139s 8s/step - loss: 1.3850 - acc: 0.2584 - val_loss: 1.3906 - val_acc: 0.2500\n",
      "Epoch 25/100\n",
      "17/17 [==============================] - 139s 8s/step - loss: 1.3885 - acc: 0.2397 - val_loss: 1.3896 - val_acc: 0.2500\n",
      "Epoch 26/100\n",
      "17/17 [==============================] - 139s 8s/step - loss: 1.3854 - acc: 0.2417 - val_loss: 1.3878 - val_acc: 0.2500\n",
      "Epoch 27/100\n",
      "17/17 [==============================] - 139s 8s/step - loss: 1.3841 - acc: 0.2678 - val_loss: 1.3871 - val_acc: 0.2500\n",
      "Epoch 28/100\n",
      "17/17 [==============================] - 139s 8s/step - loss: 1.3861 - acc: 0.2750 - val_loss: 1.3871 - val_acc: 0.2500\n",
      "Epoch 29/100\n",
      "17/17 [==============================] - 140s 8s/step - loss: 1.3840 - acc: 0.2492 - val_loss: 1.3864 - val_acc: 0.2500\n",
      "Epoch 30/100\n",
      "17/17 [==============================] - 139s 8s/step - loss: 1.3861 - acc: 0.2526 - val_loss: 1.3863 - val_acc: 0.2188\n",
      "Epoch 31/100\n",
      "17/17 [==============================] - 139s 8s/step - loss: 1.3861 - acc: 0.2306 - val_loss: 1.3849 - val_acc: 0.2188\n",
      "Epoch 32/100\n",
      "17/17 [==============================] - 140s 8s/step - loss: 1.3835 - acc: 0.2656 - val_loss: 1.3830 - val_acc: 0.2188\n",
      "Epoch 33/100\n",
      "17/17 [==============================] - 139s 8s/step - loss: 1.3851 - acc: 0.2824 - val_loss: 1.3826 - val_acc: 0.2188\n",
      "Epoch 34/100\n",
      "17/17 [==============================] - 139s 8s/step - loss: 1.3835 - acc: 0.2767 - val_loss: 1.3815 - val_acc: 0.2188\n",
      "Epoch 35/100\n",
      "17/17 [==============================] - 139s 8s/step - loss: 1.3845 - acc: 0.2879 - val_loss: 1.3811 - val_acc: 0.2188\n",
      "Epoch 36/100\n",
      "17/17 [==============================] - 139s 8s/step - loss: 1.3869 - acc: 0.2619 - val_loss: 1.3816 - val_acc: 0.2188\n",
      "Epoch 37/100\n",
      "17/17 [==============================] - 139s 8s/step - loss: 1.3860 - acc: 0.2916 - val_loss: 1.3824 - val_acc: 0.2188\n",
      "Epoch 38/100\n",
      "17/17 [==============================] - 141s 8s/step - loss: 1.3850 - acc: 0.2750 - val_loss: 1.3814 - val_acc: 0.2188\n",
      "Epoch 39/100\n",
      "17/17 [==============================] - 138s 8s/step - loss: 1.3869 - acc: 0.2544 - val_loss: 1.3807 - val_acc: 0.2188\n",
      "Epoch 40/100\n",
      "17/17 [==============================] - 140s 8s/step - loss: 1.3847 - acc: 0.2750 - val_loss: 1.3805 - val_acc: 0.2188\n",
      "Epoch 41/100\n",
      "17/17 [==============================] - 139s 8s/step - loss: 1.3844 - acc: 0.2844 - val_loss: 1.3808 - val_acc: 0.2188\n",
      "Epoch 42/100\n",
      "17/17 [==============================] - 141s 8s/step - loss: 1.3845 - acc: 0.2750 - val_loss: 1.3804 - val_acc: 0.2188\n",
      "Epoch 43/100\n",
      "17/17 [==============================] - 139s 8s/step - loss: 1.3877 - acc: 0.2656 - val_loss: 1.3805 - val_acc: 0.2188\n",
      "Epoch 44/100\n",
      "17/17 [==============================] - 139s 8s/step - loss: 1.3849 - acc: 0.2656 - val_loss: 1.3801 - val_acc: 0.2188\n",
      "Epoch 45/100\n",
      "17/17 [==============================] - 139s 8s/step - loss: 1.3862 - acc: 0.2656 - val_loss: 1.3806 - val_acc: 0.2188\n",
      "Epoch 46/100\n",
      "17/17 [==============================] - 139s 8s/step - loss: 1.3840 - acc: 0.2750 - val_loss: 1.3807 - val_acc: 0.2188\n",
      "Epoch 47/100\n",
      "17/17 [==============================] - 140s 8s/step - loss: 1.3872 - acc: 0.2656 - val_loss: 1.3816 - val_acc: 0.2188\n",
      "Epoch 48/100\n",
      "17/17 [==============================] - 138s 8s/step - loss: 1.3862 - acc: 0.2656 - val_loss: 1.3820 - val_acc: 0.2188\n",
      "Epoch 49/100\n",
      "17/17 [==============================] - 148s 9s/step - loss: 1.3857 - acc: 0.2563 - val_loss: 1.3823 - val_acc: 0.2188\n",
      "Epoch 50/100\n",
      "17/17 [==============================] - 184s 11s/step - loss: 1.3861 - acc: 0.2656 - val_loss: 1.3827 - val_acc: 0.2188\n",
      "Epoch 51/100\n",
      "17/17 [==============================] - 167s 10s/step - loss: 1.3837 - acc: 0.2750 - val_loss: 1.3819 - val_acc: 0.2188\n",
      "Epoch 52/100\n",
      "17/17 [==============================] - 160s 9s/step - loss: 1.3864 - acc: 0.2656 - val_loss: 1.3820 - val_acc: 0.2188\n",
      "Epoch 53/100\n",
      "17/17 [==============================] - 141s 8s/step - loss: 1.3850 - acc: 0.2656 - val_loss: 1.3815 - val_acc: 0.2188\n",
      "Epoch 54/100\n",
      "17/17 [==============================] - 140s 8s/step - loss: 1.3842 - acc: 0.2656 - val_loss: 1.3816 - val_acc: 0.2188\n",
      "Epoch 55/100\n",
      "17/17 [==============================] - 139s 8s/step - loss: 1.3857 - acc: 0.2656 - val_loss: 1.3815 - val_acc: 0.2188\n",
      "Epoch 56/100\n",
      "17/17 [==============================] - 140s 8s/step - loss: 1.3840 - acc: 0.2750 - val_loss: 1.3811 - val_acc: 0.2188\n",
      "Epoch 57/100\n",
      "17/17 [==============================] - 138s 8s/step - loss: 1.3819 - acc: 0.2750 - val_loss: 1.3796 - val_acc: 0.2188\n",
      "Epoch 58/100\n",
      "17/17 [==============================] - 138s 8s/step - loss: 1.3859 - acc: 0.2656 - val_loss: 1.3792 - val_acc: 0.2188\n",
      "Epoch 59/100\n",
      "17/17 [==============================] - 138s 8s/step - loss: 1.3842 - acc: 0.2656 - val_loss: 1.3782 - val_acc: 0.2188\n",
      "Epoch 60/100\n",
      "17/17 [==============================] - 140s 8s/step - loss: 1.3859 - acc: 0.2563 - val_loss: 1.3782 - val_acc: 0.2188\n",
      "Epoch 61/100\n",
      "17/17 [==============================] - 138s 8s/step - loss: 1.3842 - acc: 0.2656 - val_loss: 1.3775 - val_acc: 0.2188\n",
      "Epoch 62/100\n",
      "17/17 [==============================] - 138s 8s/step - loss: 1.3825 - acc: 0.2750 - val_loss: 1.3770 - val_acc: 0.2188\n",
      "Epoch 63/100\n",
      "17/17 [==============================] - 139s 8s/step - loss: 1.3878 - acc: 0.2656 - val_loss: 1.3778 - val_acc: 0.2188\n",
      "Epoch 64/100\n",
      "17/17 [==============================] - 139s 8s/step - loss: 1.3892 - acc: 0.2563 - val_loss: 1.3787 - val_acc: 0.2188\n",
      "Epoch 65/100\n",
      "17/17 [==============================] - 140s 8s/step - loss: 1.3844 - acc: 0.2563 - val_loss: 1.3777 - val_acc: 0.2188\n",
      "Epoch 66/100\n",
      "17/17 [==============================] - 138s 8s/step - loss: 1.3877 - acc: 0.2563 - val_loss: 1.3784 - val_acc: 0.2188\n",
      "Epoch 67/100\n",
      "17/17 [==============================] - 140s 8s/step - loss: 1.3849 - acc: 0.2656 - val_loss: 1.3786 - val_acc: 0.2188\n",
      "Epoch 68/100\n",
      "17/17 [==============================] - 138s 8s/step - loss: 1.3850 - acc: 0.2656 - val_loss: 1.3790 - val_acc: 0.2188\n",
      "Epoch 69/100\n",
      "17/17 [==============================] - 139s 8s/step - loss: 1.3847 - acc: 0.2656 - val_loss: 1.3782 - val_acc: 0.2188\n",
      "Epoch 70/100\n",
      "17/17 [==============================] - 138s 8s/step - loss: 1.3837 - acc: 0.2563 - val_loss: 1.3775 - val_acc: 0.2188\n",
      "Epoch 71/100\n",
      "17/17 [==============================] - 139s 8s/step - loss: 1.3855 - acc: 0.2656 - val_loss: 1.3778 - val_acc: 0.2188\n",
      "Epoch 72/100\n",
      "17/17 [==============================] - 139s 8s/step - loss: 1.3873 - acc: 0.2563 - val_loss: 1.3778 - val_acc: 0.2188\n",
      "Epoch 73/100\n",
      "17/17 [==============================] - 139s 8s/step - loss: 1.3851 - acc: 0.2844 - val_loss: 1.3790 - val_acc: 0.2188\n",
      "Epoch 74/100\n",
      "17/17 [==============================] - 139s 8s/step - loss: 1.3858 - acc: 0.2656 - val_loss: 1.3792 - val_acc: 0.2188\n",
      "Epoch 75/100\n",
      "17/17 [==============================] - 138s 8s/step - loss: 1.3864 - acc: 0.2563 - val_loss: 1.3795 - val_acc: 0.2188\n",
      "Epoch 76/100\n",
      "17/17 [==============================] - 139s 8s/step - loss: 1.3820 - acc: 0.2938 - val_loss: 1.3794 - val_acc: 0.2188\n",
      "Epoch 77/100\n",
      "17/17 [==============================] - 138s 8s/step - loss: 1.3836 - acc: 0.2844 - val_loss: 1.3794 - val_acc: 0.2188\n",
      "Epoch 78/100\n",
      "17/17 [==============================] - 160s 9s/step - loss: 1.3844 - acc: 0.2750 - val_loss: 1.3788 - val_acc: 0.2188\n",
      "Epoch 79/100\n",
      "17/17 [==============================] - 163s 10s/step - loss: 1.3856 - acc: 0.2750 - val_loss: 1.3793 - val_acc: 0.2188\n",
      "Epoch 80/100\n",
      "17/17 [==============================] - 157s 9s/step - loss: 1.3850 - acc: 0.2656 - val_loss: 1.3789 - val_acc: 0.2188\n",
      "Epoch 81/100\n",
      "17/17 [==============================] - 159s 9s/step - loss: 1.3841 - acc: 0.2844 - val_loss: 1.3794 - val_acc: 0.2188\n",
      "Epoch 82/100\n",
      "17/17 [==============================] - 159s 9s/step - loss: 1.3847 - acc: 0.2656 - val_loss: 1.3786 - val_acc: 0.2188\n",
      "Epoch 83/100\n",
      "17/17 [==============================] - 141s 8s/step - loss: 1.3867 - acc: 0.2563 - val_loss: 1.3788 - val_acc: 0.2188\n",
      "Epoch 84/100\n",
      "17/17 [==============================] - 153s 9s/step - loss: 1.3842 - acc: 0.2656 - val_loss: 1.3787 - val_acc: 0.2188\n",
      "Epoch 85/100\n",
      "17/17 [==============================] - 159s 9s/step - loss: 1.3835 - acc: 0.2750 - val_loss: 1.3784 - val_acc: 0.2188\n",
      "Epoch 86/100\n",
      "17/17 [==============================] - 149s 9s/step - loss: 1.3829 - acc: 0.2750 - val_loss: 1.3780 - val_acc: 0.2188\n",
      "Epoch 87/100\n",
      "17/17 [==============================] - 147s 9s/step - loss: 1.3824 - acc: 0.2750 - val_loss: 1.3772 - val_acc: 0.2188\n",
      "Epoch 88/100\n",
      "17/17 [==============================] - 141s 8s/step - loss: 1.3845 - acc: 0.2844 - val_loss: 1.3780 - val_acc: 0.2188\n",
      "Epoch 89/100\n",
      "17/17 [==============================] - 140s 8s/step - loss: 1.3871 - acc: 0.2563 - val_loss: 1.3776 - val_acc: 0.2188\n",
      "Epoch 90/100\n",
      "17/17 [==============================] - 140s 8s/step - loss: 1.3840 - acc: 0.2656 - val_loss: 1.3773 - val_acc: 0.2188\n",
      "Epoch 91/100\n",
      "17/17 [==============================] - 140s 8s/step - loss: 1.3881 - acc: 0.2563 - val_loss: 1.3781 - val_acc: 0.2188\n",
      "Epoch 92/100\n",
      "17/17 [==============================] - 148s 9s/step - loss: 1.3856 - acc: 0.2750 - val_loss: 1.3786 - val_acc: 0.2188\n",
      "Epoch 93/100\n",
      "17/17 [==============================] - 144s 8s/step - loss: 1.3836 - acc: 0.2844 - val_loss: 1.3789 - val_acc: 0.2188\n",
      "Epoch 94/100\n",
      "17/17 [==============================] - 140s 8s/step - loss: 1.3854 - acc: 0.2656 - val_loss: 1.3789 - val_acc: 0.2188\n",
      "Epoch 95/100\n",
      "17/17 [==============================] - 142s 8s/step - loss: 1.3838 - acc: 0.2656 - val_loss: 1.3784 - val_acc: 0.2188\n",
      "Epoch 96/100\n",
      "17/17 [==============================] - 144s 8s/step - loss: 1.3825 - acc: 0.2750 - val_loss: 1.3771 - val_acc: 0.2188\n",
      "Epoch 97/100\n",
      "17/17 [==============================] - 145s 9s/step - loss: 1.3865 - acc: 0.2656 - val_loss: 1.3776 - val_acc: 0.2188\n",
      "Epoch 98/100\n",
      "17/17 [==============================] - 139s 8s/step - loss: 1.3835 - acc: 0.2750 - val_loss: 1.3776 - val_acc: 0.2188\n",
      "Epoch 99/100\n",
      "17/17 [==============================] - 140s 8s/step - loss: 1.3847 - acc: 0.2563 - val_loss: 1.3774 - val_acc: 0.2188\n",
      "Epoch 100/100\n",
      "17/17 [==============================] - 140s 8s/step - loss: 1.3842 - acc: 0.2656 - val_loss: 1.3772 - val_acc: 0.2188\n"
     ]
    },
    {
     "data": {
      "text/plain": [
       "<keras.callbacks.History at 0x21f20e8e748>"
      ]
     },
     "execution_count": 43,
     "metadata": {},
     "output_type": "execute_result"
    }
   ],
   "source": [
    "model.fit_generator(ftrain_generator, epochs = num_epoch, validation_data=ftest_generator)"
   ]
  },
  {
   "cell_type": "markdown",
   "metadata": {},
   "source": [
    "Evaluate the model"
   ]
  },
  {
   "cell_type": "code",
   "execution_count": 44,
   "metadata": {},
   "outputs": [
    {
     "name": "stdout",
     "output_type": "stream",
     "text": [
      "\r",
      "1/1 [==============================] - 3s 3s/step\n"
     ]
    },
    {
     "data": {
      "text/plain": [
       "[1.3771507740020752, 0.21875]"
      ]
     },
     "execution_count": 44,
     "metadata": {},
     "output_type": "execute_result"
    }
   ],
   "source": [
    "model.evaluate_generator(ftest_generator, verbose=1)"
   ]
  },
  {
   "cell_type": "markdown",
   "metadata": {},
   "source": [
    "Predict on the augmented test set"
   ]
  },
  {
   "cell_type": "code",
   "execution_count": 45,
   "metadata": {},
   "outputs": [
    {
     "name": "stdout",
     "output_type": "stream",
     "text": [
      "\r",
      "1/1 [==============================] - 4s 4s/step\n"
     ]
    }
   ],
   "source": [
    "train_fdata_predict = model.predict_generator(ftest_generator, verbose=1)"
   ]
  },
  {
   "cell_type": "markdown",
   "metadata": {},
   "source": [
    "Find the value of Classes of augmented test set"
   ]
  },
  {
   "cell_type": "code",
   "execution_count": 46,
   "metadata": {
    "scrolled": true
   },
   "outputs": [
    {
     "data": {
      "text/plain": [
       "array([2, 2, 2, 2, 2, 2, 2, 2, 2, 2, 2, 2, 2, 2, 2, 2, 2, 2, 2, 2, 2, 2,\n",
       "       2, 2, 2, 2, 2, 2, 2, 2, 2, 2], dtype=int64)"
      ]
     },
     "execution_count": 46,
     "metadata": {},
     "output_type": "execute_result"
    }
   ],
   "source": [
    "train_fdata_predict.argmax(axis=-1)"
   ]
  },
  {
   "cell_type": "markdown",
   "metadata": {},
   "source": [
    "#### Predict and compute the confusion matrix"
   ]
  },
  {
   "cell_type": "code",
   "execution_count": 47,
   "metadata": {},
   "outputs": [
    {
     "name": "stdout",
     "output_type": "stream",
     "text": [
      "[[1.94642205e-10 1.91308689e-04 9.99808729e-01 5.69845116e-10]\n",
      " [1.88642539e-11 1.31358946e-09 1.00000000e+00 5.82881996e-13]\n",
      " [1.50599444e-04 9.46014881e-01 5.38311787e-02 3.43139664e-06]\n",
      " [9.99086142e-01 4.31748020e-04 2.84486185e-11 4.82061907e-04]\n",
      " [9.76865047e-11 9.99993801e-01 6.22830794e-06 3.21214171e-12]\n",
      " [9.97663856e-01 2.29083630e-03 5.66297139e-12 4.53399407e-05]\n",
      " [9.21665503e-07 1.99979115e-02 9.79999900e-01 1.26601810e-06]\n",
      " [1.00000000e+00 5.95165757e-20 1.07144133e-36 4.28746596e-23]\n",
      " [1.63999878e-19 1.00000000e+00 1.26853458e-21 4.17578747e-21]\n",
      " [1.76250599e-18 1.62042693e-21 3.06383000e-25 1.00000000e+00]\n",
      " [3.45969014e-03 3.11004907e-01 6.85527861e-01 7.52047026e-06]\n",
      " [1.46594937e-31 8.78458556e-26 4.51616513e-31 1.00000000e+00]\n",
      " [8.53400263e-14 1.99940601e-07 9.99999762e-01 1.20422969e-08]\n",
      " [5.94348080e-07 1.13118825e-09 2.19447023e-24 9.99999404e-01]\n",
      " [9.99999404e-01 1.21922156e-12 7.00423886e-11 5.88071657e-07]\n",
      " [1.77855086e-13 1.73333305e-07 9.99999881e-01 3.44249939e-16]\n",
      " [6.99576788e-07 9.99999285e-01 1.95879944e-12 1.75600388e-08]\n",
      " [9.99999762e-01 2.45502548e-07 3.89640972e-19 2.01341332e-10]\n",
      " [3.16156236e-29 9.66000543e-22 9.58324399e-25 1.00000000e+00]\n",
      " [2.37172525e-02 9.25755322e-01 5.04199490e-02 1.07389482e-04]\n",
      " [6.43033718e-06 9.99895453e-01 1.68742689e-12 9.80702462e-05]\n",
      " [6.06767298e-29 6.83874932e-20 4.42601676e-36 1.00000000e+00]\n",
      " [1.83650507e-15 1.00000000e+00 1.07525028e-34 7.99097604e-13]\n",
      " [3.13966610e-02 9.68350351e-01 5.49270499e-06 2.47488293e-04]\n",
      " [9.99414802e-01 8.92662930e-16 3.75059957e-32 5.85242058e-04]\n",
      " [3.92676219e-02 9.60732400e-01 2.26540217e-10 5.19564253e-11]\n",
      " [1.32388260e-14 9.97543633e-01 1.44301496e-15 2.45631230e-03]\n",
      " [2.30031474e-30 7.42308621e-26 0.00000000e+00 1.00000000e+00]\n",
      " [9.12879229e-01 4.10585152e-03 7.11425123e-18 8.30149353e-02]\n",
      " [1.61961090e-16 9.92241740e-01 1.19953231e-11 7.75824534e-03]\n",
      " [4.05477266e-07 4.74557757e-01 5.25426209e-01 1.56207989e-05]\n",
      " [1.52682329e-08 9.71827149e-01 2.81704199e-02 2.38340135e-06]\n",
      " [4.99108883e-31 2.81201335e-31 1.00000000e+00 0.00000000e+00]\n",
      " [1.54305835e-13 3.52155180e-11 1.00000000e+00 1.22433878e-21]\n",
      " [9.99999642e-01 2.24470147e-11 3.01709504e-13 3.56889416e-07]\n",
      " [2.99689320e-15 4.75756691e-11 2.18979656e-17 1.00000000e+00]\n",
      " [1.07024471e-06 2.24246688e-09 2.92337336e-05 9.99969721e-01]\n",
      " [1.56624647e-09 1.00000000e+00 4.81464539e-16 1.88524561e-11]\n",
      " [3.34320528e-19 3.53876723e-23 2.20489794e-35 1.00000000e+00]\n",
      " [6.69633460e-09 2.15607852e-05 9.99978304e-01 8.51168878e-08]\n",
      " [2.37280913e-02 9.71951723e-01 4.31598397e-03 4.21065806e-06]\n",
      " [9.33884561e-01 6.61154017e-02 1.07311861e-26 5.39184413e-08]\n",
      " [3.85632331e-04 9.94896710e-01 4.57875524e-03 1.38930292e-04]\n",
      " [9.99998569e-01 7.43492933e-07 5.32268984e-07 1.97954648e-07]\n",
      " [6.25905171e-02 3.14767659e-01 9.39694266e-23 6.22641802e-01]\n",
      " [7.48908292e-07 9.99999285e-01 3.60935463e-18 8.95578958e-11]\n",
      " [1.91237470e-09 9.98374939e-01 1.62506686e-03 3.74315015e-08]\n",
      " [4.40735459e-01 3.44610155e-01 9.29076214e-06 2.14645013e-01]\n",
      " [1.75585111e-08 1.91769087e-10 1.00000000e+00 4.52608030e-13]\n",
      " [3.83861945e-03 2.51907550e-05 1.38316647e-08 9.96136129e-01]\n",
      " [1.07025812e-07 2.54534016e-09 9.99999881e-01 2.09085306e-14]\n",
      " [1.18334199e-07 6.89153595e-11 1.51491818e-07 9.99999762e-01]\n",
      " [5.41775227e-01 1.07415572e-05 8.00802837e-08 4.58213955e-01]\n",
      " [9.99844193e-01 1.55835485e-04 6.04838282e-13 2.71548027e-11]\n",
      " [3.90035929e-15 8.84586241e-13 1.00000000e+00 3.53184449e-18]\n",
      " [5.34262767e-08 3.85528267e-03 9.96144652e-01 3.62943291e-13]\n",
      " [3.73589545e-02 9.61970270e-01 5.80697360e-06 6.64879510e-04]\n",
      " [1.06650779e-20 1.66774699e-17 1.00000000e+00 1.13500728e-25]\n",
      " [7.06386376e-34 1.00000000e+00 9.76029248e-26 1.15124396e-10]\n",
      " [9.24880803e-01 7.51015097e-02 5.52921267e-22 1.76609174e-05]\n",
      " [1.01878336e-28 6.61736854e-23 3.96432103e-30 1.00000000e+00]\n",
      " [6.50562069e-05 9.99931216e-01 8.33005743e-07 2.91904439e-06]\n",
      " [7.89785801e-08 2.22607396e-05 1.77939197e-15 9.99977708e-01]\n",
      " [7.48917985e-28 1.91293001e-22 8.56452620e-30 1.00000000e+00]\n",
      " [4.15079499e-11 1.78758241e-11 2.08806561e-12 1.00000000e+00]\n",
      " [1.37275740e-04 1.09602488e-05 7.63577717e-08 9.99851704e-01]\n",
      " [8.32237816e-13 9.98695314e-01 1.21041143e-03 9.43186824e-05]\n",
      " [2.07774481e-34 2.67664726e-24 1.00000000e+00 1.23727926e-35]\n",
      " [6.77001719e-11 1.99056129e-04 4.88913354e-10 9.99800980e-01]\n",
      " [4.10038774e-05 1.57073766e-01 8.42595279e-01 2.89953867e-04]\n",
      " [9.65996820e-04 9.99015689e-01 5.46215126e-08 1.83374814e-05]\n",
      " [4.78635877e-01 5.16584456e-01 4.32185593e-10 4.77967784e-03]\n",
      " [5.30529261e-15 1.00000000e+00 2.85468979e-12 5.48969863e-11]\n",
      " [9.64522421e-01 3.08616363e-05 3.50098424e-02 4.36917442e-04]\n",
      " [2.77905893e-10 9.99999762e-01 3.22187394e-12 1.86723426e-07]\n",
      " [1.74533397e-01 8.25432003e-01 3.33394428e-06 3.12927441e-05]\n",
      " [1.43209556e-02 9.84870613e-01 8.08410172e-04 1.59478993e-15]\n",
      " [1.19740372e-11 9.97615576e-01 2.99902298e-22 2.38450384e-03]\n",
      " [2.74444115e-04 8.35564546e-03 1.27674084e-05 9.91357088e-01]\n",
      " [2.95790627e-12 9.99999881e-01 1.40186013e-13 1.54465312e-07]\n",
      " [1.68155311e-05 1.01615628e-03 9.98191085e-10 9.98967052e-01]\n",
      " [6.10390405e-09 9.94114231e-08 9.99999881e-01 1.84657012e-09]\n",
      " [1.26673083e-04 2.02920801e-05 1.15310004e-15 9.99853015e-01]\n",
      " [2.56876694e-34 5.96902697e-28 1.00000000e+00 0.00000000e+00]\n",
      " [3.65657579e-24 9.20052828e-23 1.00000000e+00 2.48410928e-26]\n",
      " [2.96903402e-02 9.70309615e-01 1.32919814e-12 2.48206544e-09]\n",
      " [1.48962317e-19 1.00000000e+00 1.93283944e-09 2.35908434e-13]\n",
      " [6.90510213e-01 3.09489846e-01 3.44551606e-24 1.81227377e-11]\n",
      " [9.98681247e-01 1.27063633e-03 1.75913840e-06 4.63118486e-05]\n",
      " [6.90751185e-04 9.99307990e-01 9.52489131e-07 3.19541442e-07]\n",
      " [1.82798503e-05 1.49221614e-06 7.06338108e-01 2.93642104e-01]\n",
      " [2.99074970e-20 3.29025934e-04 9.99670982e-01 1.14970121e-12]\n",
      " [1.04070903e-04 9.99895692e-01 2.07581538e-13 2.97328739e-07]\n",
      " [1.19542354e-03 8.87980998e-01 1.03759415e-01 7.06412690e-03]\n",
      " [7.28740869e-24 1.39319291e-19 2.64330187e-26 1.00000000e+00]\n",
      " [9.63084126e-11 1.01598853e-03 1.75743135e-05 9.98966455e-01]\n",
      " [2.70055159e-11 3.58421515e-10 1.00000000e+00 4.59090665e-13]\n",
      " [3.31519487e-08 1.61543568e-07 9.99999762e-01 1.79001367e-12]\n",
      " [2.50291681e-24 8.80478903e-17 1.00000000e+00 1.54331788e-20]\n",
      " [9.75063905e-29 7.11045372e-13 2.84175668e-22 1.00000000e+00]\n",
      " [9.99446571e-01 5.53179649e-04 2.38613046e-10 2.67770560e-07]\n",
      " [2.30245249e-07 1.88340000e-05 3.26891095e-05 9.99948263e-01]\n",
      " [2.12181476e-06 9.99669433e-01 1.88817678e-04 1.39635769e-04]\n",
      " [1.85667716e-07 5.21723814e-06 9.99994636e-01 1.87847958e-12]\n",
      " [2.81226695e-14 7.73196757e-01 1.23096108e-12 2.26803198e-01]\n",
      " [3.13793636e-09 1.30544766e-08 1.09434973e-15 1.00000000e+00]\n",
      " [9.23735440e-01 7.01746643e-02 5.87230828e-03 2.17543187e-04]\n",
      " [5.30171121e-07 1.06885701e-01 8.93113792e-01 7.59254526e-17]\n",
      " [6.56922702e-16 1.50369322e-12 3.45800645e-11 1.00000000e+00]\n",
      " [4.30139821e-12 2.09534159e-13 1.00000000e+00 2.14647562e-17]\n",
      " [1.72997471e-02 4.66935150e-02 9.36003327e-01 3.32022046e-06]\n",
      " [8.47153429e-14 1.00000000e+00 1.57689276e-29 1.98950884e-10]\n",
      " [7.04012621e-07 9.99965668e-01 9.41149310e-08 3.35381192e-05]\n",
      " [9.99165773e-01 8.34302104e-04 3.18792655e-16 2.22903460e-10]\n",
      " [2.16112897e-01 7.72313893e-01 6.60312874e-03 4.97005833e-03]\n",
      " [7.30834663e-01 4.88714948e-02 2.64079159e-08 2.20293850e-01]\n",
      " [9.11996714e-19 6.96606100e-18 8.96318749e-24 1.00000000e+00]\n",
      " [6.68752206e-11 4.29057309e-06 1.05546219e-20 9.99995708e-01]\n",
      " [1.44794690e-32 6.79739546e-20 4.57944681e-33 1.00000000e+00]\n",
      " [1.25084873e-04 1.42323850e-26 2.09008249e-28 9.99874949e-01]\n",
      " [2.47175564e-14 1.00000000e+00 7.50171256e-18 2.19424778e-22]\n",
      " [4.11746583e-08 1.02357137e-06 9.99998808e-01 1.72876639e-07]\n",
      " [2.22794262e-23 4.92379622e-19 2.45425149e-18 1.00000000e+00]\n",
      " [4.97230019e-07 9.99999523e-01 4.41716671e-14 8.52974104e-13]\n",
      " [9.88075495e-01 5.43272222e-07 1.19233821e-02 4.68353619e-07]\n",
      " [2.11033113e-02 1.36335274e-07 9.78896558e-01 4.28754358e-11]\n",
      " [2.27052584e-01 7.56115854e-01 3.43249575e-03 1.33990794e-02]\n",
      " [7.27950828e-03 9.75552022e-01 9.38427810e-20 1.71685517e-02]\n",
      " [1.26825009e-10 2.33411379e-02 4.41945010e-13 9.76658881e-01]\n",
      " [9.99889374e-01 1.10647678e-04 1.16595768e-20 2.37970005e-10]\n",
      " [3.05256742e-13 2.33498498e-11 1.00000000e+00 7.06476724e-15]\n",
      " [6.48079935e-21 6.60462757e-17 2.08079855e-19 1.00000000e+00]\n",
      " [3.24840443e-09 9.99985933e-01 1.11421729e-14 1.40102557e-05]\n",
      " [9.92367566e-01 7.57820019e-03 1.99570323e-07 5.41219815e-05]\n",
      " [1.60824687e-09 2.02734100e-06 1.88602862e-05 9.99979138e-01]\n",
      " [7.02803140e-04 9.98825729e-01 1.23658581e-12 4.71495849e-04]\n",
      " [4.96445551e-09 2.63391115e-07 9.99996185e-01 3.54438430e-06]\n",
      " [5.92004917e-12 3.73166920e-09 1.00000000e+00 1.32762121e-10]\n",
      " [9.89551062e-20 5.18672473e-16 1.14226825e-20 1.00000000e+00]\n",
      " [9.99706209e-01 2.53370880e-10 1.02928482e-18 2.93716206e-04]\n",
      " [6.65569678e-04 9.99334395e-01 5.91316113e-13 1.84527848e-16]\n",
      " [1.88230416e-07 2.43130813e-07 2.29410864e-23 9.99999523e-01]\n",
      " [3.29864797e-20 2.25652679e-04 6.50001524e-19 9.99774396e-01]\n",
      " [1.33715424e-12 9.99999523e-01 2.03162287e-08 4.96847974e-07]\n",
      " [6.08525070e-08 7.59481192e-01 2.33349711e-01 7.16900965e-03]\n",
      " [4.85962182e-01 4.26833421e-01 3.46562490e-02 5.25481440e-02]\n",
      " [2.05106027e-02 1.65143773e-01 8.14337671e-01 7.99215013e-06]\n",
      " [1.65048987e-22 1.00000000e+00 7.11821780e-31 3.70934376e-13]\n",
      " [3.79370227e-02 1.82912624e-29 2.96745146e-34 9.62062955e-01]\n",
      " [6.83745801e-01 3.16254169e-01 2.46859401e-14 5.34145228e-10]\n",
      " [6.84244260e-02 9.30992901e-01 3.71027883e-04 2.11679595e-04]\n",
      " [2.18711141e-03 7.42371799e-03 9.90111887e-01 2.77256360e-04]\n",
      " [9.67713618e-07 1.28487216e-07 5.79664996e-03 9.94202197e-01]\n",
      " [3.34320528e-19 3.53876723e-23 2.20489794e-35 1.00000000e+00]\n",
      " [5.88754143e-13 7.95404971e-01 1.57001416e-08 2.04595014e-01]\n",
      " [6.76492222e-30 7.55974033e-11 7.06804476e-33 1.00000000e+00]\n",
      " [2.44219078e-21 1.15605333e-15 1.42372341e-22 1.00000000e+00]\n",
      " [6.74021521e-07 4.30648983e-01 5.69207728e-01 1.42658813e-04]\n",
      " [1.05458479e-04 9.69738901e-01 1.20389629e-07 3.01555078e-02]\n",
      " [3.85964796e-27 1.27888641e-17 1.00000000e+00 1.29752936e-26]\n",
      " [9.98257577e-01 1.04293031e-06 2.37313458e-07 1.74105924e-03]\n",
      " [2.31913987e-06 3.37608322e-03 3.79743206e-08 9.96621609e-01]]\n"
     ]
    }
   ],
   "source": [
    "Y_pred = model.predict(X_test)\n",
    "print(Y_pred)"
   ]
  },
  {
   "cell_type": "code",
   "execution_count": 48,
   "metadata": {},
   "outputs": [
    {
     "name": "stdout",
     "output_type": "stream",
     "text": [
      "[2 2 1 0 1 0 2 0 1 3 2 3 2 3 0 2 1 0 3 1 1 3 1 1 0 1 1 3 0 1 2 1 2 2 0 3 3\n",
      " 1 3 2 1 0 1 0 3 1 1 0 2 3 2 3 0 0 2 2 1 2 1 0 3 1 3 3 3 3 1 2 3 2 1 1 1 0\n",
      " 1 1 1 1 3 1 3 2 3 2 2 1 1 0 0 1 2 2 1 1 3 3 2 2 2 3 0 3 1 2 1 3 0 2 3 2 2\n",
      " 1 1 0 1 0 3 3 3 3 1 2 3 1 0 2 1 1 3 0 2 3 1 0 3 1 2 2 3 0 1 3 3 1 1 0 2 1\n",
      " 3 0 1 2 3 3 1 3 3 2 1 2 0 3]\n"
     ]
    }
   ],
   "source": [
    "y_pred = np.argmax(Y_pred, axis=1)\n",
    "print(y_pred)"
   ]
  },
  {
   "cell_type": "code",
   "execution_count": 49,
   "metadata": {},
   "outputs": [
    {
     "name": "stdout",
     "output_type": "stream",
     "text": [
      "[[15 17  2  7]\n",
      " [ 6 19  7  8]\n",
      " [ 2  3 27  1]\n",
      " [ 5 13  2 28]]\n"
     ]
    }
   ],
   "source": [
    "print(confusion_matrix(np.argmax(y_test, axis=1), y_pred))"
   ]
  },
  {
   "cell_type": "markdown",
   "metadata": {},
   "source": [
    "#### 2. Using flow_from_directory()"
   ]
  },
  {
   "cell_type": "markdown",
   "metadata": {},
   "source": [
    "#### flow_from_directory:\n",
    "    Takes the path to a directory & generates batches of augmented data."
   ]
  },
  {
   "cell_type": "markdown",
   "metadata": {},
   "source": [
    "keras.preprocessing.image.flow_from_directory(...)\n",
    "    \n",
    "        directory: Path to the target directory. \n",
    "        target_size: The dimensions to which all images found will be resized e.g.(256, 256).\n",
    "        color_mode: One of \"grayscale\", \"rbg\". Default: \"rgb\". \n",
    "        class_mode:Determines the type of label arrays that are returned:m\n",
    "        batch_size: Size of the batches of data (default: 32).\n",
    "        shuffle: Whether to shuffle the data (default: True)\n",
    "        save_to_dir:This allows you to optionally specify a directory to which to save the augmented pictures \n",
    "        being generated.\n",
    "        save_prefix: Str. Prefix to use for filenames of saved pictures.\n",
    "        save_format: One of \"png\", \"jpeg\".\n",
    "        subset: Subset of data (\"training\" or \"validation\") if  validation_split is set in ImageDataGenerator."
   ]
  },
  {
   "cell_type": "markdown",
   "metadata": {},
   "source": [
    "Read training Images in batches for Image Augmentation"
   ]
  },
  {
   "cell_type": "code",
   "execution_count": 50,
   "metadata": {},
   "outputs": [
    {
     "name": "stdout",
     "output_type": "stream",
     "text": [
      "Found 648 images belonging to 4 classes.\n"
     ]
    }
   ],
   "source": [
    "train_generator = data_gen.flow_from_directory(\n",
    "        DATA_PATH,\n",
    "        target_size=(img_rows, img_cols), \n",
    "        batch_size=batch_size,\n",
    "        class_mode='categorical',\n",
    "        color_mode='rgb', \n",
    "        shuffle=True,  \n",
    "        save_to_dir=TRN_AUGMENTED, \n",
    "        save_prefix='TrainAugmented', \n",
    "        save_format='png', \n",
    "        subset=\"training\")"
   ]
  },
  {
   "cell_type": "markdown",
   "metadata": {},
   "source": [
    "Classes will be automatically assigned based on the folder structure"
   ]
  },
  {
   "cell_type": "code",
   "execution_count": 51,
   "metadata": {},
   "outputs": [
    {
     "data": {
      "text/plain": [
       "{'Cats': 0, 'Dogs': 1, 'Horses': 2, 'Humans': 3}"
      ]
     },
     "execution_count": 51,
     "metadata": {},
     "output_type": "execute_result"
    }
   ],
   "source": [
    "train_generator.class_indices"
   ]
  },
  {
   "cell_type": "markdown",
   "metadata": {},
   "source": [
    "Read testing Images in batches for Image Augmentation \n",
    "\n",
    "\n",
    "\n",
    "_Note_: \n",
    "\n",
    "    In real situations test data images if augmentation is not required, since we need the original image for prediction \n",
    "    Use ImageDatagenerator class only for standardization as commented below:\n",
    "    testdatagen = ImageDataGenerator(rescale=1./255) only for test data  "
   ]
  },
  {
   "cell_type": "code",
   "execution_count": 52,
   "metadata": {},
   "outputs": [
    {
     "name": "stdout",
     "output_type": "stream",
     "text": [
      "Found 160 images belonging to 4 classes.\n"
     ]
    }
   ],
   "source": [
    "test_generator = data_gen.flow_from_directory(\n",
    "        DATA_PATH,\n",
    "        target_size=(img_rows, img_cols),\n",
    "        batch_size=32,\n",
    "        class_mode='categorical',\n",
    "        color_mode='rgb', \n",
    "        shuffle=True, \n",
    "        seed=None, \n",
    "        save_to_dir=TST_AUGMENTED, \n",
    "        save_prefix='TestAugmented', \n",
    "        save_format='png',\n",
    "        subset=\"validation\")"
   ]
  },
  {
   "cell_type": "code",
   "execution_count": 53,
   "metadata": {},
   "outputs": [
    {
     "data": {
      "text/plain": [
       "{'Cats': 0, 'Dogs': 1, 'Horses': 2, 'Humans': 3}"
      ]
     },
     "execution_count": 53,
     "metadata": {},
     "output_type": "execute_result"
    }
   ],
   "source": [
    "test_generator.class_indices"
   ]
  },
  {
   "cell_type": "markdown",
   "metadata": {},
   "source": [
    "Fit the model"
   ]
  },
  {
   "cell_type": "code",
   "execution_count": 54,
   "metadata": {},
   "outputs": [
    {
     "name": "stdout",
     "output_type": "stream",
     "text": [
      "Epoch 1/100\n",
      "21/21 [==============================] - 204s 10s/step - loss: 2.2244 - acc: 0.3041 - val_loss: 1.3884 - val_acc: 0.2812\n",
      "Epoch 2/100\n",
      "21/21 [==============================] - 197s 9s/step - loss: 1.3766 - acc: 0.2860 - val_loss: 1.3766 - val_acc: 0.2625\n",
      "Epoch 3/100\n",
      "21/21 [==============================] - 200s 10s/step - loss: 1.3864 - acc: 0.2515 - val_loss: 1.3962 - val_acc: 0.2375\n",
      "Epoch 4/100\n",
      "21/21 [==============================] - 201s 10s/step - loss: 1.3794 - acc: 0.2809 - val_loss: 1.3855 - val_acc: 0.2875\n",
      "Epoch 5/100\n",
      "21/21 [==============================] - 200s 10s/step - loss: 1.3969 - acc: 0.3173 - val_loss: 1.3682 - val_acc: 0.2812\n",
      "Epoch 6/100\n",
      "21/21 [==============================] - 198s 9s/step - loss: 1.3434 - acc: 0.3303 - val_loss: 1.2783 - val_acc: 0.4313\n",
      "Epoch 7/100\n",
      "21/21 [==============================] - 199s 9s/step - loss: 1.3392 - acc: 0.3454 - val_loss: 1.2962 - val_acc: 0.4000\n",
      "Epoch 8/100\n",
      "21/21 [==============================] - 199s 9s/step - loss: 1.3415 - acc: 0.3586 - val_loss: 1.3357 - val_acc: 0.3875\n",
      "Epoch 9/100\n",
      "21/21 [==============================] - 199s 9s/step - loss: 1.3589 - acc: 0.3631 - val_loss: 1.3174 - val_acc: 0.3875\n",
      "Epoch 10/100\n",
      "21/21 [==============================] - 199s 9s/step - loss: 1.2987 - acc: 0.3954 - val_loss: 1.3017 - val_acc: 0.4000\n",
      "Epoch 11/100\n",
      "21/21 [==============================] - 199s 9s/step - loss: 1.3057 - acc: 0.3850 - val_loss: 1.3309 - val_acc: 0.3750\n",
      "Epoch 12/100\n",
      "21/21 [==============================] - 198s 9s/step - loss: 1.3038 - acc: 0.3756 - val_loss: 1.2883 - val_acc: 0.4000\n",
      "Epoch 13/100\n",
      "21/21 [==============================] - 198s 9s/step - loss: 1.2797 - acc: 0.4195 - val_loss: 1.3531 - val_acc: 0.3125\n",
      "Epoch 14/100\n",
      "21/21 [==============================] - 201s 10s/step - loss: 1.2733 - acc: 0.3974 - val_loss: 1.2123 - val_acc: 0.4313\n",
      "Epoch 15/100\n",
      "21/21 [==============================] - 202s 10s/step - loss: 1.2947 - acc: 0.3724 - val_loss: 1.2446 - val_acc: 0.3812\n",
      "Epoch 16/100\n",
      "21/21 [==============================] - 201s 10s/step - loss: 1.2575 - acc: 0.3825 - val_loss: 1.2468 - val_acc: 0.3937\n",
      "Epoch 17/100\n",
      "21/21 [==============================] - 201s 10s/step - loss: 1.2659 - acc: 0.3971 - val_loss: 1.2310 - val_acc: 0.4375\n",
      "Epoch 18/100\n",
      "21/21 [==============================] - 200s 10s/step - loss: 1.2567 - acc: 0.4376 - val_loss: 1.1922 - val_acc: 0.4625\n",
      "Epoch 19/100\n",
      "21/21 [==============================] - 201s 10s/step - loss: 1.2943 - acc: 0.4016 - val_loss: 1.2376 - val_acc: 0.4375\n",
      "Epoch 20/100\n",
      "21/21 [==============================] - 199s 9s/step - loss: 1.2682 - acc: 0.4191 - val_loss: 1.3312 - val_acc: 0.3250\n",
      "Epoch 21/100\n",
      "21/21 [==============================] - 199s 9s/step - loss: 1.2665 - acc: 0.3961 - val_loss: 1.2288 - val_acc: 0.4000\n",
      "Epoch 22/100\n",
      "21/21 [==============================] - 199s 9s/step - loss: 1.2519 - acc: 0.4325 - val_loss: 1.2587 - val_acc: 0.3875\n",
      "Epoch 23/100\n",
      "21/21 [==============================] - 199s 9s/step - loss: 1.2291 - acc: 0.4419 - val_loss: 1.3362 - val_acc: 0.3125\n",
      "Epoch 24/100\n",
      "21/21 [==============================] - 198s 9s/step - loss: 1.2330 - acc: 0.4253 - val_loss: 1.2132 - val_acc: 0.4125\n",
      "Epoch 25/100\n",
      "21/21 [==============================] - 199s 9s/step - loss: 1.2783 - acc: 0.4061 - val_loss: 1.2000 - val_acc: 0.4188\n",
      "Epoch 26/100\n",
      "21/21 [==============================] - 199s 9s/step - loss: 1.2399 - acc: 0.4304 - val_loss: 1.1552 - val_acc: 0.4375\n",
      "Epoch 27/100\n",
      "21/21 [==============================] - 199s 9s/step - loss: 1.2611 - acc: 0.4212 - val_loss: 1.2362 - val_acc: 0.3875\n",
      "Epoch 28/100\n",
      "21/21 [==============================] - 201s 10s/step - loss: 1.2325 - acc: 0.4167 - val_loss: 1.2370 - val_acc: 0.4125\n",
      "Epoch 29/100\n",
      "21/21 [==============================] - 198s 9s/step - loss: 1.2484 - acc: 0.4255 - val_loss: 1.2431 - val_acc: 0.4062\n",
      "Epoch 30/100\n",
      "21/21 [==============================] - 201s 10s/step - loss: 1.2181 - acc: 0.4304 - val_loss: 1.0842 - val_acc: 0.5250\n",
      "Epoch 31/100\n",
      "21/21 [==============================] - 200s 10s/step - loss: 1.2090 - acc: 0.4568 - val_loss: 1.2134 - val_acc: 0.4250\n",
      "Epoch 32/100\n",
      "21/21 [==============================] - 199s 9s/step - loss: 1.2526 - acc: 0.4348 - val_loss: 1.1356 - val_acc: 0.5312\n",
      "Epoch 33/100\n",
      "21/21 [==============================] - 199s 9s/step - loss: 1.2015 - acc: 0.4436 - val_loss: 1.0499 - val_acc: 0.4938\n",
      "Epoch 34/100\n",
      "21/21 [==============================] - 204s 10s/step - loss: 1.1844 - acc: 0.4165 - val_loss: 1.2167 - val_acc: 0.4062\n",
      "Epoch 35/100\n",
      "21/21 [==============================] - 218s 10s/step - loss: 1.2309 - acc: 0.4008 - val_loss: 1.1783 - val_acc: 0.4688\n",
      "Epoch 36/100\n",
      "21/21 [==============================] - 196s 9s/step - loss: 1.1859 - acc: 0.4525 - val_loss: 1.1772 - val_acc: 0.4250\n",
      "Epoch 37/100\n",
      "21/21 [==============================] - 198s 9s/step - loss: 1.1944 - acc: 0.4540 - val_loss: 1.1132 - val_acc: 0.4750\n",
      "Epoch 38/100\n",
      "21/21 [==============================] - 220s 10s/step - loss: 1.2336 - acc: 0.4186 - val_loss: 1.1907 - val_acc: 0.4375\n",
      "Epoch 39/100\n",
      "21/21 [==============================] - 220s 10s/step - loss: 1.1752 - acc: 0.4653 - val_loss: 1.0964 - val_acc: 0.5062\n",
      "Epoch 40/100\n",
      "21/21 [==============================] - 206s 10s/step - loss: 1.1799 - acc: 0.4644 - val_loss: 1.3438 - val_acc: 0.3563\n",
      "Epoch 41/100\n",
      "21/21 [==============================] - 217s 10s/step - loss: 1.1657 - acc: 0.4770 - val_loss: 1.1068 - val_acc: 0.4688\n",
      "Epoch 42/100\n",
      "21/21 [==============================] - 220s 10s/step - loss: 1.1541 - acc: 0.4434 - val_loss: 1.0927 - val_acc: 0.4875\n",
      "Epoch 43/100\n",
      "21/21 [==============================] - 221s 11s/step - loss: 1.1400 - acc: 0.5043 - val_loss: 1.0961 - val_acc: 0.5062\n",
      "Epoch 44/100\n",
      "21/21 [==============================] - 211s 10s/step - loss: 1.1435 - acc: 0.5055 - val_loss: 1.1437 - val_acc: 0.4750\n",
      "Epoch 45/100\n",
      "21/21 [==============================] - 217s 10s/step - loss: 1.1706 - acc: 0.4923 - val_loss: 1.1036 - val_acc: 0.4562\n",
      "Epoch 46/100\n",
      "21/21 [==============================] - 225s 11s/step - loss: 1.1671 - acc: 0.4923 - val_loss: 1.1092 - val_acc: 0.5500\n",
      "Epoch 47/100\n",
      "21/21 [==============================] - 223s 11s/step - loss: 1.2043 - acc: 0.4866 - val_loss: 1.0380 - val_acc: 0.5375\n",
      "Epoch 48/100\n",
      "21/21 [==============================] - 223s 11s/step - loss: 1.1256 - acc: 0.5339 - val_loss: 1.1041 - val_acc: 0.5062\n",
      "Epoch 49/100\n",
      "21/21 [==============================] - 223s 11s/step - loss: 1.1371 - acc: 0.5251 - val_loss: 1.1334 - val_acc: 0.4813\n",
      "Epoch 50/100\n",
      "21/21 [==============================] - 223s 11s/step - loss: 1.0916 - acc: 0.5119 - val_loss: 1.1947 - val_acc: 0.4625\n",
      "Epoch 51/100\n",
      "21/21 [==============================] - 204s 10s/step - loss: 1.1690 - acc: 0.4687 - val_loss: 1.0784 - val_acc: 0.4938\n",
      "Epoch 52/100\n",
      "21/21 [==============================] - 204s 10s/step - loss: 1.1187 - acc: 0.5092 - val_loss: 1.0440 - val_acc: 0.5000\n",
      "Epoch 53/100\n",
      "21/21 [==============================] - 202s 10s/step - loss: 1.1271 - acc: 0.5106 - val_loss: 1.0704 - val_acc: 0.5188\n",
      "Epoch 54/100\n",
      "21/21 [==============================] - 210s 10s/step - loss: 1.1098 - acc: 0.5089 - val_loss: 1.0741 - val_acc: 0.5250\n",
      "Epoch 55/100\n",
      "21/21 [==============================] - 207s 10s/step - loss: 1.1684 - acc: 0.4559 - val_loss: 1.1090 - val_acc: 0.5000\n",
      "Epoch 56/100\n",
      "21/21 [==============================] - 202s 10s/step - loss: 1.0545 - acc: 0.5385 - val_loss: 1.1363 - val_acc: 0.5000\n",
      "Epoch 57/100\n",
      "21/21 [==============================] - 200s 10s/step - loss: 1.1993 - acc: 0.4855 - val_loss: 1.3293 - val_acc: 0.3438\n",
      "Epoch 58/100\n",
      "21/21 [==============================] - 202s 10s/step - loss: 1.1080 - acc: 0.5043 - val_loss: 1.1080 - val_acc: 0.5125\n",
      "Epoch 59/100\n",
      "21/21 [==============================] - 202s 10s/step - loss: 1.1162 - acc: 0.5028 - val_loss: 1.0466 - val_acc: 0.5188\n",
      "Epoch 60/100\n",
      "21/21 [==============================] - 204s 10s/step - loss: 1.1266 - acc: 0.5134 - val_loss: 1.2536 - val_acc: 0.4000\n",
      "Epoch 61/100\n",
      "21/21 [==============================] - 204s 10s/step - loss: 1.1014 - acc: 0.4840 - val_loss: 1.0847 - val_acc: 0.5188\n",
      "Epoch 62/100\n",
      "21/21 [==============================] - 202s 10s/step - loss: 1.1008 - acc: 0.5009 - val_loss: 1.0785 - val_acc: 0.5250\n",
      "Epoch 63/100\n",
      "21/21 [==============================] - 201s 10s/step - loss: 1.0638 - acc: 0.5164 - val_loss: 1.0662 - val_acc: 0.5375\n",
      "Epoch 64/100\n",
      "21/21 [==============================] - 207s 10s/step - loss: 1.1380 - acc: 0.4928 - val_loss: 1.1310 - val_acc: 0.4750\n",
      "Epoch 65/100\n",
      "21/21 [==============================] - 1218s 58s/step - loss: 1.0836 - acc: 0.5087 - val_loss: 1.0567 - val_acc: 0.5375\n",
      "Epoch 66/100\n",
      "21/21 [==============================] - 289s 14s/step - loss: 1.0823 - acc: 0.5236 - val_loss: 1.0999 - val_acc: 0.5062\n",
      "Epoch 67/100\n",
      "21/21 [==============================] - 275s 13s/step - loss: 1.1343 - acc: 0.4981 - val_loss: 1.0816 - val_acc: 0.5188\n",
      "Epoch 68/100\n",
      "21/21 [==============================] - 266s 13s/step - loss: 1.1429 - acc: 0.5164 - val_loss: 1.1241 - val_acc: 0.4875\n",
      "Epoch 69/100\n",
      "21/21 [==============================] - 297s 14s/step - loss: 1.0986 - acc: 0.4840 - val_loss: 1.1249 - val_acc: 0.4938\n",
      "Epoch 70/100\n",
      "21/21 [==============================] - 300s 14s/step - loss: 1.1168 - acc: 0.4923 - val_loss: 1.2350 - val_acc: 0.4125\n",
      "Epoch 71/100\n",
      "21/21 [==============================] - 281s 13s/step - loss: 1.0332 - acc: 0.5339 - val_loss: 1.0360 - val_acc: 0.5188\n",
      "Epoch 72/100\n",
      "21/21 [==============================] - 213s 10s/step - loss: 1.0724 - acc: 0.5109 - val_loss: 1.1667 - val_acc: 0.4688\n",
      "Epoch 73/100\n",
      "21/21 [==============================] - 213s 10s/step - loss: 1.0846 - acc: 0.5087 - val_loss: 1.1579 - val_acc: 0.5062\n",
      "Epoch 74/100\n",
      "21/21 [==============================] - 205s 10s/step - loss: 1.1048 - acc: 0.5045 - val_loss: 1.0413 - val_acc: 0.5188\n",
      "Epoch 75/100\n",
      "21/21 [==============================] - 212s 10s/step - loss: 1.1097 - acc: 0.4970 - val_loss: 1.0939 - val_acc: 0.4938\n",
      "Epoch 76/100\n",
      "21/21 [==============================] - 210s 10s/step - loss: 1.1104 - acc: 0.5238 - val_loss: 0.9956 - val_acc: 0.5500\n",
      "Epoch 77/100\n",
      "21/21 [==============================] - 204s 10s/step - loss: 1.1107 - acc: 0.5198 - val_loss: 1.1245 - val_acc: 0.4500\n",
      "Epoch 78/100\n",
      "21/21 [==============================] - 217s 10s/step - loss: 1.0922 - acc: 0.5256 - val_loss: 1.0538 - val_acc: 0.5437\n",
      "Epoch 79/100\n",
      "21/21 [==============================] - 247s 12s/step - loss: 1.0463 - acc: 0.5400 - val_loss: 1.0015 - val_acc: 0.5188\n",
      "Epoch 80/100\n",
      "21/21 [==============================] - 253s 12s/step - loss: 1.0261 - acc: 0.5300 - val_loss: 1.0722 - val_acc: 0.5188\n",
      "Epoch 81/100\n",
      "21/21 [==============================] - 226s 11s/step - loss: 1.0650 - acc: 0.5285 - val_loss: 1.0845 - val_acc: 0.4688\n",
      "Epoch 82/100\n",
      "21/21 [==============================] - 207s 10s/step - loss: 1.0670 - acc: 0.5507 - val_loss: 1.0915 - val_acc: 0.5563\n",
      "Epoch 83/100\n",
      "21/21 [==============================] - 216s 10s/step - loss: 1.0899 - acc: 0.5168 - val_loss: 1.0379 - val_acc: 0.5500\n",
      "Epoch 84/100\n",
      "21/21 [==============================] - 213s 10s/step - loss: 1.0930 - acc: 0.5251 - val_loss: 1.0644 - val_acc: 0.5125\n",
      "Epoch 85/100\n",
      "21/21 [==============================] - 211s 10s/step - loss: 1.0894 - acc: 0.5373 - val_loss: 1.0772 - val_acc: 0.5062\n",
      "Epoch 86/100\n",
      "21/21 [==============================] - 227s 11s/step - loss: 1.0815 - acc: 0.5224 - val_loss: 1.1172 - val_acc: 0.4938\n",
      "Epoch 87/100\n",
      "21/21 [==============================] - 240s 11s/step - loss: 1.0696 - acc: 0.5266 - val_loss: 1.0801 - val_acc: 0.5312\n",
      "Epoch 88/100\n",
      "21/21 [==============================] - 225s 11s/step - loss: 1.0835 - acc: 0.5402 - val_loss: 1.1116 - val_acc: 0.4813\n",
      "Epoch 89/100\n",
      "21/21 [==============================] - 199s 9s/step - loss: 1.0844 - acc: 0.5447 - val_loss: 1.2310 - val_acc: 0.3937\n",
      "Epoch 90/100\n",
      "21/21 [==============================] - 202s 10s/step - loss: 1.0388 - acc: 0.5119 - val_loss: 1.0160 - val_acc: 0.5437\n",
      "Epoch 91/100\n",
      "21/21 [==============================] - 200s 10s/step - loss: 1.0723 - acc: 0.5328 - val_loss: 1.0490 - val_acc: 0.5437\n",
      "Epoch 92/100\n",
      "21/21 [==============================] - 200s 10s/step - loss: 1.0824 - acc: 0.5479 - val_loss: 1.0922 - val_acc: 0.5500\n",
      "Epoch 93/100\n",
      "21/21 [==============================] - 201s 10s/step - loss: 1.1023 - acc: 0.5121 - val_loss: 1.2698 - val_acc: 0.4125\n",
      "Epoch 94/100\n",
      "21/21 [==============================] - 200s 10s/step - loss: 1.0871 - acc: 0.4844 - val_loss: 1.0868 - val_acc: 0.4938\n",
      "Epoch 95/100\n",
      "21/21 [==============================] - 201s 10s/step - loss: 1.0881 - acc: 0.5409 - val_loss: 1.0487 - val_acc: 0.5687\n",
      "Epoch 96/100\n",
      "21/21 [==============================] - 201s 10s/step - loss: 1.0447 - acc: 0.5436 - val_loss: 1.1233 - val_acc: 0.4625\n",
      "Epoch 97/100\n",
      "21/21 [==============================] - 201s 10s/step - loss: 1.0078 - acc: 0.5390 - val_loss: 1.0058 - val_acc: 0.5750\n",
      "Epoch 98/100\n",
      "21/21 [==============================] - 224s 11s/step - loss: 1.0492 - acc: 0.5388 - val_loss: 1.0923 - val_acc: 0.5312\n",
      "Epoch 99/100\n",
      "21/21 [==============================] - 228s 11s/step - loss: 1.0991 - acc: 0.5786 - val_loss: 1.0113 - val_acc: 0.5687\n",
      "Epoch 100/100\n",
      "21/21 [==============================] - 203s 10s/step - loss: 1.0261 - acc: 0.5658 - val_loss: 1.1397 - val_acc: 0.4625\n"
     ]
    },
    {
     "data": {
      "text/plain": [
       "<keras.callbacks.History at 0x21f07033198>"
      ]
     },
     "execution_count": 54,
     "metadata": {},
     "output_type": "execute_result"
    }
   ],
   "source": [
    "model.fit_generator(train_generator, epochs=num_epoch, validation_data=test_generator)"
   ]
  },
  {
   "cell_type": "markdown",
   "metadata": {},
   "source": [
    "#### Evaluate the model \n",
    "\n",
    "Use evaluate_generator"
   ]
  },
  {
   "cell_type": "code",
   "execution_count": 55,
   "metadata": {},
   "outputs": [
    {
     "name": "stdout",
     "output_type": "stream",
     "text": [
      "5/5 [==============================] - 23s 5s/step\n"
     ]
    }
   ],
   "source": [
    "fd_model_evaluate = model.evaluate_generator(test_generator, verbose=1)"
   ]
  },
  {
   "cell_type": "code",
   "execution_count": 56,
   "metadata": {},
   "outputs": [
    {
     "name": "stdout",
     "output_type": "stream",
     "text": [
      "Loss:  1.0803300380706786 Accuracy:  0.525\n"
     ]
    }
   ],
   "source": [
    "print(\"Loss: \", fd_model_evaluate[0], \"Accuracy: \", fd_model_evaluate[1])"
   ]
  },
  {
   "cell_type": "markdown",
   "metadata": {},
   "source": [
    "##### Predict \n",
    "\n",
    "Using predict_generator:\n",
    "    \n",
    "    Generates predictions for the input samples from a data generator."
   ]
  },
  {
   "cell_type": "code",
   "execution_count": 57,
   "metadata": {},
   "outputs": [
    {
     "name": "stdout",
     "output_type": "stream",
     "text": [
      "5/5 [==============================] - 21s 4s/step\n"
     ]
    }
   ],
   "source": [
    "fd_model_predict = model.predict_generator(test_generator, verbose=1)"
   ]
  },
  {
   "cell_type": "code",
   "execution_count": 58,
   "metadata": {},
   "outputs": [
    {
     "data": {
      "text/plain": [
       "array([1, 3, 0, 3, 0, 0, 3, 2, 0, 0, 0, 3, 1, 0, 2, 0, 3, 0, 0, 1, 3, 0,\n",
       "       2, 2, 2, 0, 0, 1, 0, 1, 0, 1, 2, 1, 1, 0, 0, 1, 3, 0, 3, 1, 3, 0,\n",
       "       0, 0, 1, 1, 0, 0, 0, 2, 0, 1, 0, 0, 1, 0, 3, 1, 1, 0, 0, 3, 3, 1,\n",
       "       1, 0, 0, 1, 0, 3, 2, 2, 0, 3, 3, 0, 0, 3, 1, 0, 1, 0, 2, 0, 3, 0,\n",
       "       3, 0, 1, 1, 0, 1, 0, 3, 0, 3, 0, 0, 3, 0, 0, 1, 0, 2, 0, 0, 2, 0,\n",
       "       1, 0, 2, 0, 0, 0, 1, 0, 3, 0, 0, 0, 3, 0, 2, 1, 2, 0, 1, 0, 0, 0,\n",
       "       3, 0, 1, 1, 1, 1, 3, 1, 2, 1, 2, 1, 0, 0, 3, 2, 0, 0, 2, 0, 0, 0,\n",
       "       0, 1, 1, 1, 1, 1], dtype=int64)"
      ]
     },
     "execution_count": 58,
     "metadata": {},
     "output_type": "execute_result"
    }
   ],
   "source": [
    "#Predict the classes of Validation data\n",
    "\n",
    "fd_model_predict.argmax(axis=-1)"
   ]
  },
  {
   "cell_type": "code",
   "execution_count": null,
   "metadata": {},
   "outputs": [],
   "source": []
  },
  {
   "cell_type": "code",
   "execution_count": null,
   "metadata": {},
   "outputs": [],
   "source": []
  },
  {
   "cell_type": "markdown",
   "metadata": {},
   "source": [
    "# Transfer Learning "
   ]
  },
  {
   "cell_type": "markdown",
   "metadata": {},
   "source": [
    "##### VGG Architecture"
   ]
  },
  {
   "cell_type": "code",
   "execution_count": 59,
   "metadata": {},
   "outputs": [
    {
     "data": {
      "image/png": "[encoded data removed]",
      "text/plain": [
       "<IPython.core.display.Image object>"
      ]
     },
     "execution_count": 59,
     "metadata": {},
     "output_type": "execute_result"
    }
   ],
   "source": [
    "from IPython.display import Image\n",
    "Image(filename='vgg16.png')"
   ]
  },
  {
   "cell_type": "code",
   "execution_count": 60,
   "metadata": {},
   "outputs": [],
   "source": [
    "from keras.layers import Input, Dense"
   ]
  },
  {
   "cell_type": "code",
   "execution_count": 61,
   "metadata": {},
   "outputs": [],
   "source": [
    "# Custom_vgg_model_1\n",
    "#Training the classifier alone\n",
    "image_input = Input(shape=(img_rows, img_cols, num_channel))"
   ]
  },
  {
   "cell_type": "code",
   "execution_count": 62,
   "metadata": {},
   "outputs": [],
   "source": [
    "from keras.applications.vgg16 import VGG16\n",
    "\n",
    "model = VGG16(input_tensor=image_input, include_top=True, weights='imagenet')"
   ]
  },
  {
   "cell_type": "raw",
   "metadata": {},
   "source": [
    "\n",
    "include_top: whether to include the 3 fully-connected layers at the top of the network.\n",
    "\n",
    "weights: one of None (random initialization) or 'imagenet' (pre-training on ImageNet).\n",
    "\n",
    "input_tensor: optional Keras tensor (i.e. output of layers.Input()) to use as image input for the model.\n",
    "\n",
    "classes: optional number of classes to classify images into, only to be specified if include_top is True, and if no weights argument is specified.\n"
   ]
  },
  {
   "cell_type": "code",
   "execution_count": 63,
   "metadata": {},
   "outputs": [
    {
     "name": "stdout",
     "output_type": "stream",
     "text": [
      "_________________________________________________________________\n",
      "Layer (type)                 Output Shape              Param #   \n",
      "=================================================================\n",
      "input_1 (InputLayer)         (None, 224, 224, 3)       0         \n",
      "_________________________________________________________________\n",
      "block1_conv1 (Conv2D)        (None, 224, 224, 64)      1792      \n",
      "_________________________________________________________________\n",
      "block1_conv2 (Conv2D)        (None, 224, 224, 64)      36928     \n",
      "_________________________________________________________________\n",
      "block1_pool (MaxPooling2D)   (None, 112, 112, 64)      0         \n",
      "_________________________________________________________________\n",
      "block2_conv1 (Conv2D)        (None, 112, 112, 128)     73856     \n",
      "_________________________________________________________________\n",
      "block2_conv2 (Conv2D)        (None, 112, 112, 128)     147584    \n",
      "_________________________________________________________________\n",
      "block2_pool (MaxPooling2D)   (None, 56, 56, 128)       0         \n",
      "_________________________________________________________________\n",
      "block3_conv1 (Conv2D)        (None, 56, 56, 256)       295168    \n",
      "_________________________________________________________________\n",
      "block3_conv2 (Conv2D)        (None, 56, 56, 256)       590080    \n",
      "_________________________________________________________________\n",
      "block3_conv3 (Conv2D)        (None, 56, 56, 256)       590080    \n",
      "_________________________________________________________________\n",
      "block3_pool (MaxPooling2D)   (None, 28, 28, 256)       0         \n",
      "_________________________________________________________________\n",
      "block4_conv1 (Conv2D)        (None, 28, 28, 512)       1180160   \n",
      "_________________________________________________________________\n",
      "block4_conv2 (Conv2D)        (None, 28, 28, 512)       2359808   \n",
      "_________________________________________________________________\n",
      "block4_conv3 (Conv2D)        (None, 28, 28, 512)       2359808   \n",
      "_________________________________________________________________\n",
      "block4_pool (MaxPooling2D)   (None, 14, 14, 512)       0         \n",
      "_________________________________________________________________\n",
      "block5_conv1 (Conv2D)        (None, 14, 14, 512)       2359808   \n",
      "_________________________________________________________________\n",
      "block5_conv2 (Conv2D)        (None, 14, 14, 512)       2359808   \n",
      "_________________________________________________________________\n",
      "block5_conv3 (Conv2D)        (None, 14, 14, 512)       2359808   \n",
      "_________________________________________________________________\n",
      "block5_pool (MaxPooling2D)   (None, 7, 7, 512)         0         \n",
      "_________________________________________________________________\n",
      "flatten (Flatten)            (None, 25088)             0         \n",
      "_________________________________________________________________\n",
      "fc1 (Dense)                  (None, 4096)              102764544 \n",
      "_________________________________________________________________\n",
      "fc2 (Dense)                  (None, 4096)              16781312  \n",
      "_________________________________________________________________\n",
      "predictions (Dense)          (None, 1000)              4097000   \n",
      "=================================================================\n",
      "Total params: 138,357,544\n",
      "Trainable params: 138,357,544\n",
      "Non-trainable params: 0\n",
      "_________________________________________________________________\n"
     ]
    }
   ],
   "source": [
    "model.summary()"
   ]
  },
  {
   "cell_type": "code",
   "execution_count": 64,
   "metadata": {},
   "outputs": [],
   "source": [
    "last_layer = model.get_layer('fc2').output\n",
    "out = Dense(num_classes, activation='softmax', name='output')(last_layer)"
   ]
  },
  {
   "cell_type": "code",
   "execution_count": 65,
   "metadata": {},
   "outputs": [
    {
     "name": "stdout",
     "output_type": "stream",
     "text": [
      "_________________________________________________________________\n",
      "Layer (type)                 Output Shape              Param #   \n",
      "=================================================================\n",
      "input_1 (InputLayer)         (None, 224, 224, 3)       0         \n",
      "_________________________________________________________________\n",
      "block1_conv1 (Conv2D)        (None, 224, 224, 64)      1792      \n",
      "_________________________________________________________________\n",
      "block1_conv2 (Conv2D)        (None, 224, 224, 64)      36928     \n",
      "_________________________________________________________________\n",
      "block1_pool (MaxPooling2D)   (None, 112, 112, 64)      0         \n",
      "_________________________________________________________________\n",
      "block2_conv1 (Conv2D)        (None, 112, 112, 128)     73856     \n",
      "_________________________________________________________________\n",
      "block2_conv2 (Conv2D)        (None, 112, 112, 128)     147584    \n",
      "_________________________________________________________________\n",
      "block2_pool (MaxPooling2D)   (None, 56, 56, 128)       0         \n",
      "_________________________________________________________________\n",
      "block3_conv1 (Conv2D)        (None, 56, 56, 256)       295168    \n",
      "_________________________________________________________________\n",
      "block3_conv2 (Conv2D)        (None, 56, 56, 256)       590080    \n",
      "_________________________________________________________________\n",
      "block3_conv3 (Conv2D)        (None, 56, 56, 256)       590080    \n",
      "_________________________________________________________________\n",
      "block3_pool (MaxPooling2D)   (None, 28, 28, 256)       0         \n",
      "_________________________________________________________________\n",
      "block4_conv1 (Conv2D)        (None, 28, 28, 512)       1180160   \n",
      "_________________________________________________________________\n",
      "block4_conv2 (Conv2D)        (None, 28, 28, 512)       2359808   \n",
      "_________________________________________________________________\n",
      "block4_conv3 (Conv2D)        (None, 28, 28, 512)       2359808   \n",
      "_________________________________________________________________\n",
      "block4_pool (MaxPooling2D)   (None, 14, 14, 512)       0         \n",
      "_________________________________________________________________\n",
      "block5_conv1 (Conv2D)        (None, 14, 14, 512)       2359808   \n",
      "_________________________________________________________________\n",
      "block5_conv2 (Conv2D)        (None, 14, 14, 512)       2359808   \n",
      "_________________________________________________________________\n",
      "block5_conv3 (Conv2D)        (None, 14, 14, 512)       2359808   \n",
      "_________________________________________________________________\n",
      "block5_pool (MaxPooling2D)   (None, 7, 7, 512)         0         \n",
      "_________________________________________________________________\n",
      "flatten (Flatten)            (None, 25088)             0         \n",
      "_________________________________________________________________\n",
      "fc1 (Dense)                  (None, 4096)              102764544 \n",
      "_________________________________________________________________\n",
      "fc2 (Dense)                  (None, 4096)              16781312  \n",
      "_________________________________________________________________\n",
      "output (Dense)               (None, 4)                 16388     \n",
      "=================================================================\n",
      "Total params: 134,276,932\n",
      "Trainable params: 134,276,932\n",
      "Non-trainable params: 0\n",
      "_________________________________________________________________\n"
     ]
    }
   ],
   "source": [
    "from keras.models import Model\n",
    "\n",
    "custom_vgg_model = Model(image_input, out)\n",
    "custom_vgg_model.summary()"
   ]
  },
  {
   "cell_type": "code",
   "execution_count": 66,
   "metadata": {},
   "outputs": [],
   "source": [
    "for layer in custom_vgg_model.layers[:-1]:\n",
    "    layer.trainable = False"
   ]
  },
  {
   "cell_type": "markdown",
   "metadata": {},
   "source": [
    "###### custom_vgg_model.compile(loss='categorical_crossentropy', optimizer='rmsprop', metrics=['accuracy'])"
   ]
  },
  {
   "cell_type": "code",
   "execution_count": 68,
   "metadata": {
    "scrolled": true
   },
   "outputs": [
    {
     "name": "stdout",
     "output_type": "stream",
     "text": [
      "Train on 646 samples, validate on 162 samples\n",
      "Epoch 1/100\n",
      "646/646 [==============================] - 567s 877ms/step - loss: 1.8201 - acc: 0.4350 - val_loss: 1.3455 - val_acc: 0.4259\n",
      "Epoch 2/100\n",
      "646/646 [==============================] - 548s 849ms/step - loss: 1.0222 - acc: 0.5913 - val_loss: 2.4292 - val_acc: 0.4074\n",
      "Epoch 3/100\n",
      "646/646 [==============================] - 515s 798ms/step - loss: 0.8533 - acc: 0.6920 - val_loss: 0.7690 - val_acc: 0.7099\n",
      "Epoch 4/100\n",
      "646/646 [==============================] - 524s 811ms/step - loss: 0.7093 - acc: 0.7214 - val_loss: 0.6552 - val_acc: 0.7346\n",
      "Epoch 5/100\n",
      "646/646 [==============================] - 537s 831ms/step - loss: 0.6877 - acc: 0.7291 - val_loss: 0.5189 - val_acc: 0.7716\n",
      "Epoch 6/100\n",
      "646/646 [==============================] - 513s 795ms/step - loss: 0.6142 - acc: 0.7570 - val_loss: 1.2857 - val_acc: 0.5247\n",
      "Epoch 7/100\n",
      "646/646 [==============================] - 514s 796ms/step - loss: 0.5897 - acc: 0.7678 - val_loss: 0.4307 - val_acc: 0.8333\n",
      "Epoch 8/100\n",
      "646/646 [==============================] - 548s 848ms/step - loss: 0.4982 - acc: 0.8313 - val_loss: 0.4213 - val_acc: 0.8395\n",
      "Epoch 9/100\n",
      "646/646 [==============================] - 538s 833ms/step - loss: 0.4331 - acc: 0.8421 - val_loss: 0.8360 - val_acc: 0.6914\n",
      "Epoch 10/100\n",
      "646/646 [==============================] - 562s 869ms/step - loss: 0.5428 - acc: 0.7972 - val_loss: 0.9683 - val_acc: 0.7160\n",
      "Epoch 11/100\n",
      "646/646 [==============================] - 555s 859ms/step - loss: 0.4502 - acc: 0.8313 - val_loss: 1.1660 - val_acc: 0.6358\n",
      "Epoch 12/100\n",
      "646/646 [==============================] - 556s 860ms/step - loss: 0.4499 - acc: 0.8204 - val_loss: 1.2329 - val_acc: 0.5802\n",
      "Epoch 13/100\n",
      "646/646 [==============================] - 563s 872ms/step - loss: 0.3767 - acc: 0.8467 - val_loss: 0.9101 - val_acc: 0.7160\n",
      "Epoch 14/100\n",
      "646/646 [==============================] - 543s 840ms/step - loss: 0.4291 - acc: 0.8483 - val_loss: 0.3348 - val_acc: 0.9136\n",
      "Epoch 15/100\n",
      "646/646 [==============================] - 565s 875ms/step - loss: 0.4119 - acc: 0.8313 - val_loss: 0.9768 - val_acc: 0.6481\n",
      "Epoch 16/100\n",
      "646/646 [==============================] - 561s 869ms/step - loss: 0.4339 - acc: 0.8344 - val_loss: 0.4696 - val_acc: 0.8210\n",
      "Epoch 17/100\n",
      "646/646 [==============================] - 535s 828ms/step - loss: 0.3479 - acc: 0.8638 - val_loss: 1.0667 - val_acc: 0.6914\n",
      "Epoch 18/100\n",
      "646/646 [==============================] - 580s 897ms/step - loss: 0.3585 - acc: 0.8731 - val_loss: 0.4805 - val_acc: 0.8272\n",
      "Epoch 19/100\n",
      "646/646 [==============================] - 561s 868ms/step - loss: 0.3450 - acc: 0.8700 - val_loss: 0.8239 - val_acc: 0.7160\n",
      "Epoch 20/100\n",
      "646/646 [==============================] - 528s 817ms/step - loss: 0.3422 - acc: 0.8529 - val_loss: 0.3057 - val_acc: 0.9074\n",
      "Epoch 21/100\n",
      "646/646 [==============================] - 516s 799ms/step - loss: 0.3599 - acc: 0.8498 - val_loss: 0.4570 - val_acc: 0.8272\n",
      "Epoch 22/100\n",
      "646/646 [==============================] - 515s 797ms/step - loss: 0.2732 - acc: 0.8870 - val_loss: 0.7729 - val_acc: 0.7346\n",
      "Epoch 23/100\n",
      "646/646 [==============================] - 579s 896ms/step - loss: 0.3416 - acc: 0.8607 - val_loss: 0.2960 - val_acc: 0.9012\n",
      "Epoch 24/100\n",
      "646/646 [==============================] - 544s 841ms/step - loss: 0.2857 - acc: 0.8916 - val_loss: 0.2998 - val_acc: 0.9012\n",
      "Epoch 25/100\n",
      "646/646 [==============================] - 570s 883ms/step - loss: 0.2914 - acc: 0.8885 - val_loss: 0.5231 - val_acc: 0.8086\n",
      "Epoch 26/100\n",
      "646/646 [==============================] - 530s 821ms/step - loss: 0.2403 - acc: 0.9118 - val_loss: 1.1639 - val_acc: 0.6420\n",
      "Epoch 27/100\n",
      "646/646 [==============================] - 557s 863ms/step - loss: 0.2784 - acc: 0.8901 - val_loss: 0.5156 - val_acc: 0.8148\n",
      "Epoch 28/100\n",
      "646/646 [==============================] - 540s 835ms/step - loss: 0.2511 - acc: 0.8870 - val_loss: 0.5466 - val_acc: 0.8210\n",
      "Epoch 29/100\n",
      "646/646 [==============================] - 592s 916ms/step - loss: 0.2871 - acc: 0.8839 - val_loss: 0.3230 - val_acc: 0.8765\n",
      "Epoch 30/100\n",
      "646/646 [==============================] - 511s 792ms/step - loss: 0.2496 - acc: 0.9009 - val_loss: 0.4081 - val_acc: 0.8580\n",
      "Epoch 31/100\n",
      "646/646 [==============================] - 555s 859ms/step - loss: 0.2474 - acc: 0.9040 - val_loss: 0.9448 - val_acc: 0.7160\n",
      "Epoch 32/100\n",
      "646/646 [==============================] - 549s 851ms/step - loss: 0.2658 - acc: 0.8994 - val_loss: 0.3421 - val_acc: 0.8765\n",
      "Epoch 33/100\n",
      "646/646 [==============================] - 562s 870ms/step - loss: 0.2382 - acc: 0.8978 - val_loss: 0.8414 - val_acc: 0.7593\n",
      "Epoch 34/100\n",
      "646/646 [==============================] - 559s 866ms/step - loss: 0.2264 - acc: 0.9272 - val_loss: 1.2105 - val_acc: 0.6543\n",
      "Epoch 35/100\n",
      "646/646 [==============================] - 553s 855ms/step - loss: 0.2365 - acc: 0.9071 - val_loss: 0.4731 - val_acc: 0.8457\n",
      "Epoch 36/100\n",
      "646/646 [==============================] - 577s 893ms/step - loss: 0.2394 - acc: 0.9009 - val_loss: 0.2860 - val_acc: 0.9136\n",
      "Epoch 37/100\n",
      "646/646 [==============================] - 585s 905ms/step - loss: 0.2526 - acc: 0.9102 - val_loss: 0.2728 - val_acc: 0.9198\n",
      "Epoch 38/100\n",
      "646/646 [==============================] - 606s 937ms/step - loss: 0.2013 - acc: 0.9272 - val_loss: 0.2644 - val_acc: 0.9259\n",
      "Epoch 39/100\n",
      "646/646 [==============================] - 680s 1s/step - loss: 0.2396 - acc: 0.9040 - val_loss: 0.7879 - val_acc: 0.7346\n",
      "Epoch 40/100\n",
      "646/646 [==============================] - 600s 929ms/step - loss: 0.2202 - acc: 0.9180 - val_loss: 0.5423 - val_acc: 0.8210\n",
      "Epoch 41/100\n",
      "646/646 [==============================] - 526s 814ms/step - loss: 0.1499 - acc: 0.9396 - val_loss: 0.2738 - val_acc: 0.9136\n",
      "Epoch 42/100\n",
      "646/646 [==============================] - 527s 815ms/step - loss: 0.2166 - acc: 0.9180 - val_loss: 0.2606 - val_acc: 0.9259\n",
      "Epoch 43/100\n",
      "646/646 [==============================] - 532s 824ms/step - loss: 0.1948 - acc: 0.9272 - val_loss: 0.2440 - val_acc: 0.9074\n",
      "Epoch 44/100\n",
      "646/646 [==============================] - 525s 812ms/step - loss: 0.2253 - acc: 0.9257 - val_loss: 0.6614 - val_acc: 0.8025\n",
      "Epoch 45/100\n",
      "646/646 [==============================] - 527s 816ms/step - loss: 0.2157 - acc: 0.9149 - val_loss: 0.4401 - val_acc: 0.8333\n",
      "Epoch 46/100\n",
      "646/646 [==============================] - 524s 810ms/step - loss: 0.2220 - acc: 0.9164 - val_loss: 0.5846 - val_acc: 0.8210\n",
      "Epoch 47/100\n",
      "646/646 [==============================] - 523s 810ms/step - loss: 0.1457 - acc: 0.9474 - val_loss: 0.5693 - val_acc: 0.8086\n",
      "Epoch 48/100\n",
      "646/646 [==============================] - 524s 811ms/step - loss: 0.1814 - acc: 0.9133 - val_loss: 0.7813 - val_acc: 0.7901\n",
      "Epoch 49/100\n",
      "646/646 [==============================] - 526s 814ms/step - loss: 0.2107 - acc: 0.9211 - val_loss: 0.2776 - val_acc: 0.9012\n",
      "Epoch 50/100\n",
      "646/646 [==============================] - 525s 813ms/step - loss: 0.1681 - acc: 0.9303 - val_loss: 0.9278 - val_acc: 0.7407\n",
      "Epoch 51/100\n",
      "646/646 [==============================] - 524s 812ms/step - loss: 0.2037 - acc: 0.9195 - val_loss: 0.2465 - val_acc: 0.9012\n",
      "Epoch 52/100\n",
      "646/646 [==============================] - 527s 815ms/step - loss: 0.1429 - acc: 0.9489 - val_loss: 0.3629 - val_acc: 0.8642\n",
      "Epoch 53/100\n",
      "646/646 [==============================] - 524s 812ms/step - loss: 0.1701 - acc: 0.9241 - val_loss: 0.3283 - val_acc: 0.8765\n",
      "Epoch 54/100\n",
      "646/646 [==============================] - 524s 811ms/step - loss: 0.1667 - acc: 0.9334 - val_loss: 0.3101 - val_acc: 0.8889\n",
      "Epoch 55/100\n",
      "646/646 [==============================] - 525s 813ms/step - loss: 0.1600 - acc: 0.9288 - val_loss: 0.3720 - val_acc: 0.8519\n",
      "Epoch 56/100\n",
      "646/646 [==============================] - 524s 811ms/step - loss: 0.1585 - acc: 0.9365 - val_loss: 0.2494 - val_acc: 0.9012\n",
      "Epoch 57/100\n",
      "646/646 [==============================] - 524s 812ms/step - loss: 0.1609 - acc: 0.9396 - val_loss: 0.2779 - val_acc: 0.8951\n",
      "Epoch 58/100\n",
      "646/646 [==============================] - 525s 812ms/step - loss: 0.1799 - acc: 0.9350 - val_loss: 1.0276 - val_acc: 0.7099\n",
      "Epoch 59/100\n",
      "646/646 [==============================] - 526s 815ms/step - loss: 0.1398 - acc: 0.9567 - val_loss: 0.2806 - val_acc: 0.8951\n",
      "Epoch 60/100\n",
      "646/646 [==============================] - 524s 811ms/step - loss: 0.1633 - acc: 0.9319 - val_loss: 0.5181 - val_acc: 0.8272\n",
      "Epoch 61/100\n",
      "646/646 [==============================] - 523s 810ms/step - loss: 0.1514 - acc: 0.9443 - val_loss: 0.3350 - val_acc: 0.8889\n",
      "Epoch 62/100\n",
      "646/646 [==============================] - 525s 813ms/step - loss: 0.1567 - acc: 0.9427 - val_loss: 0.3601 - val_acc: 0.8704\n",
      "Epoch 63/100\n",
      "646/646 [==============================] - 524s 811ms/step - loss: 0.1451 - acc: 0.9412 - val_loss: 0.3469 - val_acc: 0.8951\n",
      "Epoch 64/100\n",
      "646/646 [==============================] - 525s 812ms/step - loss: 0.1691 - acc: 0.9458 - val_loss: 0.2572 - val_acc: 0.9198\n",
      "Epoch 65/100\n",
      "646/646 [==============================] - 525s 813ms/step - loss: 0.1357 - acc: 0.9520 - val_loss: 0.3746 - val_acc: 0.8765\n",
      "Epoch 66/100\n",
      "646/646 [==============================] - 525s 812ms/step - loss: 0.1594 - acc: 0.9412 - val_loss: 0.2665 - val_acc: 0.8951\n",
      "Epoch 67/100\n",
      "646/646 [==============================] - 523s 809ms/step - loss: 0.1279 - acc: 0.9567 - val_loss: 0.2778 - val_acc: 0.9321\n",
      "Epoch 68/100\n",
      "646/646 [==============================] - 523s 809ms/step - loss: 0.1399 - acc: 0.9365 - val_loss: 0.2446 - val_acc: 0.9383\n",
      "Epoch 69/100\n",
      "646/646 [==============================] - 525s 813ms/step - loss: 0.1135 - acc: 0.9520 - val_loss: 0.4132 - val_acc: 0.8519\n",
      "Epoch 70/100\n",
      "646/646 [==============================] - 526s 814ms/step - loss: 0.1305 - acc: 0.9458 - val_loss: 0.3961 - val_acc: 0.8951\n",
      "Epoch 71/100\n",
      "646/646 [==============================] - 526s 815ms/step - loss: 0.1133 - acc: 0.9551 - val_loss: 0.3689 - val_acc: 0.8827\n",
      "Epoch 72/100\n",
      "646/646 [==============================] - 526s 814ms/step - loss: 0.2014 - acc: 0.9241 - val_loss: 0.3864 - val_acc: 0.8827\n",
      "Epoch 73/100\n",
      "646/646 [==============================] - 527s 816ms/step - loss: 0.1026 - acc: 0.9551 - val_loss: 0.8373 - val_acc: 0.7531\n",
      "Epoch 74/100\n",
      "646/646 [==============================] - 525s 813ms/step - loss: 0.1253 - acc: 0.9474 - val_loss: 0.5216 - val_acc: 0.8580\n",
      "Epoch 75/100\n",
      "646/646 [==============================] - 527s 815ms/step - loss: 0.1632 - acc: 0.9350 - val_loss: 0.2500 - val_acc: 0.9198\n",
      "Epoch 76/100\n",
      "646/646 [==============================] - 525s 813ms/step - loss: 0.1146 - acc: 0.9628 - val_loss: 0.2775 - val_acc: 0.9136\n",
      "Epoch 77/100\n",
      "646/646 [==============================] - 525s 813ms/step - loss: 0.0900 - acc: 0.9706 - val_loss: 0.2650 - val_acc: 0.9136\n",
      "Epoch 78/100\n",
      "646/646 [==============================] - 524s 811ms/step - loss: 0.1251 - acc: 0.9536 - val_loss: 0.5290 - val_acc: 0.8519\n",
      "Epoch 79/100\n",
      "646/646 [==============================] - 525s 812ms/step - loss: 0.1351 - acc: 0.9505 - val_loss: 0.3351 - val_acc: 0.8951\n",
      "Epoch 80/100\n",
      "646/646 [==============================] - 525s 813ms/step - loss: 0.1470 - acc: 0.9536 - val_loss: 0.4762 - val_acc: 0.8642\n",
      "Epoch 81/100\n",
      "646/646 [==============================] - 524s 811ms/step - loss: 0.0917 - acc: 0.9690 - val_loss: 0.9671 - val_acc: 0.7531\n",
      "Epoch 82/100\n",
      "646/646 [==============================] - 523s 810ms/step - loss: 0.1212 - acc: 0.9536 - val_loss: 0.2602 - val_acc: 0.9198\n",
      "Epoch 83/100\n",
      "646/646 [==============================] - 526s 815ms/step - loss: 0.1283 - acc: 0.9458 - val_loss: 0.3099 - val_acc: 0.9259\n",
      "Epoch 84/100\n",
      "646/646 [==============================] - 526s 814ms/step - loss: 0.0977 - acc: 0.9598 - val_loss: 0.4176 - val_acc: 0.8765\n",
      "Epoch 85/100\n",
      "646/646 [==============================] - 525s 812ms/step - loss: 0.1237 - acc: 0.9536 - val_loss: 0.2287 - val_acc: 0.9383\n",
      "Epoch 86/100\n",
      "646/646 [==============================] - 527s 816ms/step - loss: 0.0970 - acc: 0.9582 - val_loss: 0.3116 - val_acc: 0.9259\n",
      "Epoch 87/100\n",
      "646/646 [==============================] - 527s 816ms/step - loss: 0.1415 - acc: 0.9582 - val_loss: 0.7828 - val_acc: 0.7901\n",
      "Epoch 88/100\n",
      "646/646 [==============================] - 525s 813ms/step - loss: 0.1087 - acc: 0.9628 - val_loss: 0.4220 - val_acc: 0.8580\n",
      "Epoch 89/100\n",
      "646/646 [==============================] - 528s 817ms/step - loss: 0.1079 - acc: 0.9613 - val_loss: 0.6884 - val_acc: 0.8025\n",
      "Epoch 90/100\n",
      "646/646 [==============================] - 527s 816ms/step - loss: 0.1156 - acc: 0.9536 - val_loss: 0.2333 - val_acc: 0.9383\n",
      "Epoch 91/100\n",
      "646/646 [==============================] - 527s 816ms/step - loss: 0.0974 - acc: 0.9690 - val_loss: 0.4679 - val_acc: 0.8889\n",
      "Epoch 92/100\n",
      "646/646 [==============================] - 525s 813ms/step - loss: 0.1083 - acc: 0.9613 - val_loss: 0.2683 - val_acc: 0.9012\n",
      "Epoch 93/100\n",
      "646/646 [==============================] - 526s 815ms/step - loss: 0.1041 - acc: 0.9644 - val_loss: 0.2862 - val_acc: 0.8951\n",
      "Epoch 94/100\n",
      "646/646 [==============================] - 525s 813ms/step - loss: 0.1229 - acc: 0.9458 - val_loss: 0.2801 - val_acc: 0.9198\n",
      "Epoch 95/100\n",
      "646/646 [==============================] - 620s 960ms/step - loss: 0.0705 - acc: 0.9752 - val_loss: 0.4352 - val_acc: 0.8704\n",
      "Epoch 96/100\n",
      "646/646 [==============================] - 614s 951ms/step - loss: 0.1065 - acc: 0.9582 - val_loss: 1.0623 - val_acc: 0.7407\n",
      "Epoch 97/100\n",
      "646/646 [==============================] - 518s 802ms/step - loss: 0.0924 - acc: 0.9737 - val_loss: 0.2354 - val_acc: 0.9506\n",
      "Epoch 98/100\n",
      "646/646 [==============================] - 509s 788ms/step - loss: 0.1153 - acc: 0.9598 - val_loss: 0.2446 - val_acc: 0.9444\n",
      "Epoch 99/100\n",
      "646/646 [==============================] - 507s 785ms/step - loss: 0.0999 - acc: 0.9721 - val_loss: 0.2361 - val_acc: 0.9444\n",
      "Epoch 100/100\n",
      "646/646 [==============================] - 511s 791ms/step - loss: 0.0608 - acc: 0.9830 - val_loss: 0.2429 - val_acc: 0.9444\n"
     ]
    },
    {
     "data": {
      "text/plain": [
       "<keras.callbacks.History at 0x21f1f9940b8>"
      ]
     },
     "execution_count": 68,
     "metadata": {},
     "output_type": "execute_result"
    }
   ],
   "source": [
    "custom_vgg_model.fit(X_train, y_train, batch_size=batch_size, epochs=num_epoch, verbose=1, validation_data=(X_test, y_test))"
   ]
  },
  {
   "cell_type": "code",
   "execution_count": 69,
   "metadata": {},
   "outputs": [
    {
     "name": "stdout",
     "output_type": "stream",
     "text": [
      "162/162 [==============================] - 103s 633ms/step\n",
      "[INFO] loss=0.2429, accuracy: 94.4444%\n"
     ]
    }
   ],
   "source": [
    "(loss, accuracy) = custom_vgg_model.evaluate(X_test, y_test, batch_size=batch_size, verbose=1)\n",
    "\n",
    "print(\"[INFO] loss={:.4f}, accuracy: {:.4f}%\".format(loss, accuracy * 100))"
   ]
  },
  {
   "cell_type": "code",
   "execution_count": 70,
   "metadata": {},
   "outputs": [],
   "source": [
    "Y_train_pred = custom_vgg_model.predict(X_test)"
   ]
  },
  {
   "cell_type": "code",
   "execution_count": 71,
   "metadata": {},
   "outputs": [
    {
     "name": "stdout",
     "output_type": "stream",
     "text": [
      "[2 2 0 0 3 2 3 3 1 3 1 3 2 3 3 2 0 3 3 2 1 3 0 0 0 1 3 3 0 3 2 1 2 2 0 3 1\n",
      " 1 3 2 1 0 1 0 1 1 1 0 2 0 2 0 1 1 2 2 0 2 3 0 3 0 0 3 1 1 1 2 3 2 0 0 3 0\n",
      " 3 0 1 3 0 2 1 1 1 2 2 1 1 3 0 0 2 1 0 0 3 0 2 2 2 3 0 3 0 1 1 3 0 3 3 2 2\n",
      " 3 1 0 2 1 3 2 3 3 1 0 3 0 2 2 1 2 1 0 2 3 0 1 3 0 1 2 1 3 1 0 3 3 3 0 0 3\n",
      " 3 1 0 1 0 3 3 3 3 1 1 2 1 0]\n"
     ]
    }
   ],
   "source": [
    "y_train_pred = np.argmax(Y_train_pred, axis=1)\n",
    "print(y_train_pred)"
   ]
  },
  {
   "cell_type": "code",
   "execution_count": 72,
   "metadata": {},
   "outputs": [
    {
     "name": "stdout",
     "output_type": "stream",
     "text": [
      "[[38  3  0  0]\n",
      " [ 2 37  1  0]\n",
      " [ 1  0 32  0]\n",
      " [ 1  0  1 46]]\n"
     ]
    }
   ],
   "source": [
    "print(confusion_matrix(np.argmax(y_test, axis=1), y_train_pred))"
   ]
  },
  {
   "cell_type": "code",
   "execution_count": null,
   "metadata": {},
   "outputs": [],
   "source": []
  },
  {
   "cell_type": "code",
   "execution_count": null,
   "metadata": {},
   "outputs": [],
   "source": []
  },
  {
   "cell_type": "markdown",
   "metadata": {},
   "source": [
    "###### Transfer Learning - 2"
   ]
  },
  {
   "cell_type": "code",
   "execution_count": 73,
   "metadata": {},
   "outputs": [
    {
     "name": "stdout",
     "output_type": "stream",
     "text": [
      "_________________________________________________________________\n",
      "Layer (type)                 Output Shape              Param #   \n",
      "=================================================================\n",
      "input_1 (InputLayer)         (None, 224, 224, 3)       0         \n",
      "_________________________________________________________________\n",
      "block1_conv1 (Conv2D)        (None, 224, 224, 64)      1792      \n",
      "_________________________________________________________________\n",
      "block1_conv2 (Conv2D)        (None, 224, 224, 64)      36928     \n",
      "_________________________________________________________________\n",
      "block1_pool (MaxPooling2D)   (None, 112, 112, 64)      0         \n",
      "_________________________________________________________________\n",
      "block2_conv1 (Conv2D)        (None, 112, 112, 128)     73856     \n",
      "_________________________________________________________________\n",
      "block2_conv2 (Conv2D)        (None, 112, 112, 128)     147584    \n",
      "_________________________________________________________________\n",
      "block2_pool (MaxPooling2D)   (None, 56, 56, 128)       0         \n",
      "_________________________________________________________________\n",
      "block3_conv1 (Conv2D)        (None, 56, 56, 256)       295168    \n",
      "_________________________________________________________________\n",
      "block3_conv2 (Conv2D)        (None, 56, 56, 256)       590080    \n",
      "_________________________________________________________________\n",
      "block3_conv3 (Conv2D)        (None, 56, 56, 256)       590080    \n",
      "_________________________________________________________________\n",
      "block3_pool (MaxPooling2D)   (None, 28, 28, 256)       0         \n",
      "_________________________________________________________________\n",
      "block4_conv1 (Conv2D)        (None, 28, 28, 512)       1180160   \n",
      "_________________________________________________________________\n",
      "block4_conv2 (Conv2D)        (None, 28, 28, 512)       2359808   \n",
      "_________________________________________________________________\n",
      "block4_conv3 (Conv2D)        (None, 28, 28, 512)       2359808   \n",
      "_________________________________________________________________\n",
      "block4_pool (MaxPooling2D)   (None, 14, 14, 512)       0         \n",
      "_________________________________________________________________\n",
      "block5_conv1 (Conv2D)        (None, 14, 14, 512)       2359808   \n",
      "_________________________________________________________________\n",
      "block5_conv2 (Conv2D)        (None, 14, 14, 512)       2359808   \n",
      "_________________________________________________________________\n",
      "block5_conv3 (Conv2D)        (None, 14, 14, 512)       2359808   \n",
      "_________________________________________________________________\n",
      "block5_pool (MaxPooling2D)   (None, 7, 7, 512)         0         \n",
      "_________________________________________________________________\n",
      "flatten (Flatten)            (None, 25088)             0         \n",
      "_________________________________________________________________\n",
      "fc1 (Dense)                  (None, 4096)              102764544 \n",
      "_________________________________________________________________\n",
      "fc2 (Dense)                  (None, 4096)              16781312  \n",
      "_________________________________________________________________\n",
      "predictions (Dense)          (None, 1000)              4097000   \n",
      "=================================================================\n",
      "Total params: 138,357,544\n",
      "Trainable params: 138,357,544\n",
      "Non-trainable params: 0\n",
      "_________________________________________________________________\n"
     ]
    }
   ],
   "source": [
    "# Training the feature extraction also\n",
    "model = VGG16(input_tensor=image_input, include_top=True, weights='imagenet')\n",
    "\n",
    "model.summary()"
   ]
  },
  {
   "cell_type": "code",
   "execution_count": 74,
   "metadata": {},
   "outputs": [],
   "source": [
    "last_layer = model.get_layer('block5_pool').output\n",
    "x = Flatten(name='flatten')(last_layer)\n",
    "x = Dense(128, activation='relu', name='fc1')(x)\n",
    "x = Dense(128, activation='relu', name='fc2')(x)\n",
    "out = Dense(num_classes, activation='softmax', name='output')(x)\n",
    "custom_vgg_model2 = Model(image_input, out)"
   ]
  },
  {
   "cell_type": "code",
   "execution_count": 75,
   "metadata": {},
   "outputs": [
    {
     "name": "stdout",
     "output_type": "stream",
     "text": [
      "_________________________________________________________________\n",
      "Layer (type)                 Output Shape              Param #   \n",
      "=================================================================\n",
      "input_1 (InputLayer)         (None, 224, 224, 3)       0         \n",
      "_________________________________________________________________\n",
      "block1_conv1 (Conv2D)        (None, 224, 224, 64)      1792      \n",
      "_________________________________________________________________\n",
      "block1_conv2 (Conv2D)        (None, 224, 224, 64)      36928     \n",
      "_________________________________________________________________\n",
      "block1_pool (MaxPooling2D)   (None, 112, 112, 64)      0         \n",
      "_________________________________________________________________\n",
      "block2_conv1 (Conv2D)        (None, 112, 112, 128)     73856     \n",
      "_________________________________________________________________\n",
      "block2_conv2 (Conv2D)        (None, 112, 112, 128)     147584    \n",
      "_________________________________________________________________\n",
      "block2_pool (MaxPooling2D)   (None, 56, 56, 128)       0         \n",
      "_________________________________________________________________\n",
      "block3_conv1 (Conv2D)        (None, 56, 56, 256)       295168    \n",
      "_________________________________________________________________\n",
      "block3_conv2 (Conv2D)        (None, 56, 56, 256)       590080    \n",
      "_________________________________________________________________\n",
      "block3_conv3 (Conv2D)        (None, 56, 56, 256)       590080    \n",
      "_________________________________________________________________\n",
      "block3_pool (MaxPooling2D)   (None, 28, 28, 256)       0         \n",
      "_________________________________________________________________\n",
      "block4_conv1 (Conv2D)        (None, 28, 28, 512)       1180160   \n",
      "_________________________________________________________________\n",
      "block4_conv2 (Conv2D)        (None, 28, 28, 512)       2359808   \n",
      "_________________________________________________________________\n",
      "block4_conv3 (Conv2D)        (None, 28, 28, 512)       2359808   \n",
      "_________________________________________________________________\n",
      "block4_pool (MaxPooling2D)   (None, 14, 14, 512)       0         \n",
      "_________________________________________________________________\n",
      "block5_conv1 (Conv2D)        (None, 14, 14, 512)       2359808   \n",
      "_________________________________________________________________\n",
      "block5_conv2 (Conv2D)        (None, 14, 14, 512)       2359808   \n",
      "_________________________________________________________________\n",
      "block5_conv3 (Conv2D)        (None, 14, 14, 512)       2359808   \n",
      "_________________________________________________________________\n",
      "block5_pool (MaxPooling2D)   (None, 7, 7, 512)         0         \n",
      "_________________________________________________________________\n",
      "flatten (Flatten)            (None, 25088)             0         \n",
      "_________________________________________________________________\n",
      "fc1 (Dense)                  (None, 128)               3211392   \n",
      "_________________________________________________________________\n",
      "fc2 (Dense)                  (None, 128)               16512     \n",
      "_________________________________________________________________\n",
      "output (Dense)               (None, 4)                 516       \n",
      "=================================================================\n",
      "Total params: 17,943,108\n",
      "Trainable params: 17,943,108\n",
      "Non-trainable params: 0\n",
      "_________________________________________________________________\n"
     ]
    }
   ],
   "source": [
    "custom_vgg_model2.summary()"
   ]
  },
  {
   "cell_type": "code",
   "execution_count": 76,
   "metadata": {},
   "outputs": [],
   "source": [
    "# freeze all the layers except the dense layers\n",
    "for layer in custom_vgg_model2.layers[:-3]:\n",
    "    layer.trainable = False"
   ]
  },
  {
   "cell_type": "code",
   "execution_count": 77,
   "metadata": {},
   "outputs": [
    {
     "name": "stdout",
     "output_type": "stream",
     "text": [
      "_________________________________________________________________\n",
      "Layer (type)                 Output Shape              Param #   \n",
      "=================================================================\n",
      "input_1 (InputLayer)         (None, 224, 224, 3)       0         \n",
      "_________________________________________________________________\n",
      "block1_conv1 (Conv2D)        (None, 224, 224, 64)      1792      \n",
      "_________________________________________________________________\n",
      "block1_conv2 (Conv2D)        (None, 224, 224, 64)      36928     \n",
      "_________________________________________________________________\n",
      "block1_pool (MaxPooling2D)   (None, 112, 112, 64)      0         \n",
      "_________________________________________________________________\n",
      "block2_conv1 (Conv2D)        (None, 112, 112, 128)     73856     \n",
      "_________________________________________________________________\n",
      "block2_conv2 (Conv2D)        (None, 112, 112, 128)     147584    \n",
      "_________________________________________________________________\n",
      "block2_pool (MaxPooling2D)   (None, 56, 56, 128)       0         \n",
      "_________________________________________________________________\n",
      "block3_conv1 (Conv2D)        (None, 56, 56, 256)       295168    \n",
      "_________________________________________________________________\n",
      "block3_conv2 (Conv2D)        (None, 56, 56, 256)       590080    \n",
      "_________________________________________________________________\n",
      "block3_conv3 (Conv2D)        (None, 56, 56, 256)       590080    \n",
      "_________________________________________________________________\n",
      "block3_pool (MaxPooling2D)   (None, 28, 28, 256)       0         \n",
      "_________________________________________________________________\n",
      "block4_conv1 (Conv2D)        (None, 28, 28, 512)       1180160   \n",
      "_________________________________________________________________\n",
      "block4_conv2 (Conv2D)        (None, 28, 28, 512)       2359808   \n",
      "_________________________________________________________________\n",
      "block4_conv3 (Conv2D)        (None, 28, 28, 512)       2359808   \n",
      "_________________________________________________________________\n",
      "block4_pool (MaxPooling2D)   (None, 14, 14, 512)       0         \n",
      "_________________________________________________________________\n",
      "block5_conv1 (Conv2D)        (None, 14, 14, 512)       2359808   \n",
      "_________________________________________________________________\n",
      "block5_conv2 (Conv2D)        (None, 14, 14, 512)       2359808   \n",
      "_________________________________________________________________\n",
      "block5_conv3 (Conv2D)        (None, 14, 14, 512)       2359808   \n",
      "_________________________________________________________________\n",
      "block5_pool (MaxPooling2D)   (None, 7, 7, 512)         0         \n",
      "_________________________________________________________________\n",
      "flatten (Flatten)            (None, 25088)             0         \n",
      "_________________________________________________________________\n",
      "fc1 (Dense)                  (None, 128)               3211392   \n",
      "_________________________________________________________________\n",
      "fc2 (Dense)                  (None, 128)               16512     \n",
      "_________________________________________________________________\n",
      "output (Dense)               (None, 4)                 516       \n",
      "=================================================================\n",
      "Total params: 17,943,108\n",
      "Trainable params: 3,228,420\n",
      "Non-trainable params: 14,714,688\n",
      "_________________________________________________________________\n"
     ]
    }
   ],
   "source": [
    "custom_vgg_model2.summary()"
   ]
  },
  {
   "cell_type": "code",
   "execution_count": 78,
   "metadata": {},
   "outputs": [],
   "source": [
    "custom_vgg_model2.compile(loss='categorical_crossentropy', optimizer='adadelta', metrics=['accuracy'])"
   ]
  },
  {
   "cell_type": "code",
   "execution_count": 79,
   "metadata": {},
   "outputs": [
    {
     "name": "stdout",
     "output_type": "stream",
     "text": [
      "Train on 646 samples, validate on 162 samples\n",
      "Epoch 1/100\n",
      "646/646 [==============================] - 1545s 2s/step - loss: 1.8321 - acc: 0.4056 - val_loss: 1.1205 - val_acc: 0.4198\n",
      "Epoch 2/100\n",
      "646/646 [==============================] - 526s 814ms/step - loss: 0.5560 - acc: 0.8096 - val_loss: 1.4286 - val_acc: 0.4691\n",
      "Epoch 3/100\n",
      "646/646 [==============================] - 501s 775ms/step - loss: 0.3159 - acc: 0.8916 - val_loss: 0.3535 - val_acc: 0.8889\n",
      "Epoch 4/100\n",
      "646/646 [==============================] - 499s 773ms/step - loss: 0.1382 - acc: 0.9582 - val_loss: 0.5090 - val_acc: 0.7963\n",
      "Epoch 5/100\n",
      "646/646 [==============================] - 502s 777ms/step - loss: 0.1945 - acc: 0.9412 - val_loss: 0.2250 - val_acc: 0.9198\n",
      "Epoch 6/100\n",
      "646/646 [==============================] - 499s 772ms/step - loss: 0.0459 - acc: 0.9969 - val_loss: 0.2618 - val_acc: 0.8889\n",
      "Epoch 7/100\n",
      "646/646 [==============================] - 501s 776ms/step - loss: 0.0244 - acc: 0.9985 - val_loss: 0.4899 - val_acc: 0.8457\n",
      "Epoch 8/100\n",
      "646/646 [==============================] - 501s 776ms/step - loss: 0.1195 - acc: 0.9690 - val_loss: 0.2169 - val_acc: 0.9198\n",
      "Epoch 9/100\n",
      "646/646 [==============================] - 500s 775ms/step - loss: 0.0095 - acc: 1.0000 - val_loss: 0.1865 - val_acc: 0.9136\n",
      "Epoch 10/100\n",
      "646/646 [==============================] - 513s 794ms/step - loss: 0.0063 - acc: 1.0000 - val_loss: 0.2319 - val_acc: 0.9136\n",
      "Epoch 11/100\n",
      "646/646 [==============================] - 507s 785ms/step - loss: 0.0049 - acc: 1.0000 - val_loss: 0.1843 - val_acc: 0.9444\n",
      "Epoch 12/100\n",
      "646/646 [==============================] - 505s 782ms/step - loss: 0.0030 - acc: 1.0000 - val_loss: 0.2739 - val_acc: 0.9136\n",
      "Epoch 13/100\n",
      "646/646 [==============================] - 518s 802ms/step - loss: 0.1699 - acc: 0.9474 - val_loss: 0.1792 - val_acc: 0.9198\n",
      "Epoch 14/100\n",
      "646/646 [==============================] - 502s 777ms/step - loss: 0.0040 - acc: 1.0000 - val_loss: 0.1855 - val_acc: 0.9321\n",
      "Epoch 15/100\n",
      "646/646 [==============================] - 511s 791ms/step - loss: 0.0026 - acc: 1.0000 - val_loss: 0.1889 - val_acc: 0.9259\n",
      "Epoch 16/100\n",
      "646/646 [==============================] - 507s 786ms/step - loss: 0.0020 - acc: 1.0000 - val_loss: 0.1913 - val_acc: 0.9259\n",
      "Epoch 17/100\n",
      "646/646 [==============================] - 501s 776ms/step - loss: 0.0015 - acc: 1.0000 - val_loss: 0.1980 - val_acc: 0.9321\n",
      "Epoch 18/100\n",
      "646/646 [==============================] - 502s 778ms/step - loss: 0.0011 - acc: 1.0000 - val_loss: 0.2173 - val_acc: 0.9074\n",
      "Epoch 19/100\n",
      "646/646 [==============================] - 501s 776ms/step - loss: 8.1475e-04 - acc: 1.0000 - val_loss: 0.2075 - val_acc: 0.9136\n",
      "Epoch 20/100\n",
      "646/646 [==============================] - 500s 774ms/step - loss: 5.8221e-04 - acc: 1.0000 - val_loss: 0.2221 - val_acc: 0.9321\n",
      "Epoch 21/100\n",
      "646/646 [==============================] - 499s 773ms/step - loss: 4.3534e-04 - acc: 1.0000 - val_loss: 0.2130 - val_acc: 0.9259\n",
      "Epoch 22/100\n",
      "646/646 [==============================] - 498s 771ms/step - loss: 3.3280e-04 - acc: 1.0000 - val_loss: 0.2327 - val_acc: 0.9259\n",
      "Epoch 23/100\n",
      "646/646 [==============================] - 501s 776ms/step - loss: 2.3907e-04 - acc: 1.0000 - val_loss: 0.2250 - val_acc: 0.9198\n",
      "Epoch 24/100\n",
      "646/646 [==============================] - 499s 772ms/step - loss: 1.8923e-04 - acc: 1.0000 - val_loss: 0.2204 - val_acc: 0.9259\n",
      "Epoch 25/100\n",
      "646/646 [==============================] - 502s 776ms/step - loss: 1.3506e-04 - acc: 1.0000 - val_loss: 0.2293 - val_acc: 0.9136\n",
      "Epoch 26/100\n",
      "646/646 [==============================] - 502s 776ms/step - loss: 1.1288e-04 - acc: 1.0000 - val_loss: 0.2443 - val_acc: 0.9259\n",
      "Epoch 27/100\n",
      "646/646 [==============================] - 507s 784ms/step - loss: 8.4037e-05 - acc: 1.0000 - val_loss: 0.2312 - val_acc: 0.9198\n",
      "Epoch 28/100\n",
      "646/646 [==============================] - 500s 775ms/step - loss: 7.3011e-05 - acc: 1.0000 - val_loss: 0.2339 - val_acc: 0.9321\n",
      "Epoch 29/100\n",
      "646/646 [==============================] - 500s 774ms/step - loss: 6.3144e-05 - acc: 1.0000 - val_loss: 0.2403 - val_acc: 0.9259\n",
      "Epoch 30/100\n",
      "646/646 [==============================] - 500s 774ms/step - loss: 5.4097e-05 - acc: 1.0000 - val_loss: 0.2382 - val_acc: 0.9259\n",
      "Epoch 31/100\n",
      "646/646 [==============================] - 502s 777ms/step - loss: 4.9717e-05 - acc: 1.0000 - val_loss: 0.2397 - val_acc: 0.9321\n",
      "Epoch 32/100\n",
      "646/646 [==============================] - 509s 788ms/step - loss: 4.3167e-05 - acc: 1.0000 - val_loss: 0.2388 - val_acc: 0.9321\n",
      "Epoch 33/100\n",
      "646/646 [==============================] - 506s 784ms/step - loss: 3.9700e-05 - acc: 1.0000 - val_loss: 0.2441 - val_acc: 0.9259\n",
      "Epoch 34/100\n",
      "646/646 [==============================] - 501s 775ms/step - loss: 3.6073e-05 - acc: 1.0000 - val_loss: 0.2454 - val_acc: 0.9259\n",
      "Epoch 35/100\n",
      "646/646 [==============================] - 496s 767ms/step - loss: 3.2728e-05 - acc: 1.0000 - val_loss: 0.2466 - val_acc: 0.9259\n",
      "Epoch 36/100\n",
      "646/646 [==============================] - 2218s 3s/step - loss: 3.0906e-05 - acc: 1.0000 - val_loss: 0.2497 - val_acc: 0.9259\n",
      "Epoch 37/100\n",
      "646/646 [==============================] - 502s 777ms/step - loss: 2.8747e-05 - acc: 1.0000 - val_loss: 0.2506 - val_acc: 0.9198\n",
      "Epoch 38/100\n",
      "646/646 [==============================] - 499s 773ms/step - loss: 2.6788e-05 - acc: 1.0000 - val_loss: 0.2515 - val_acc: 0.9259\n",
      "Epoch 39/100\n",
      "646/646 [==============================] - 496s 768ms/step - loss: 2.5129e-05 - acc: 1.0000 - val_loss: 0.2586 - val_acc: 0.9198\n",
      "Epoch 40/100\n",
      "646/646 [==============================] - 498s 770ms/step - loss: 2.4467e-05 - acc: 1.0000 - val_loss: 0.2567 - val_acc: 0.9259\n",
      "Epoch 41/100\n",
      "646/646 [==============================] - 496s 768ms/step - loss: 2.2400e-05 - acc: 1.0000 - val_loss: 0.2608 - val_acc: 0.9136\n",
      "Epoch 42/100\n",
      "646/646 [==============================] - 498s 771ms/step - loss: 2.1808e-05 - acc: 1.0000 - val_loss: 0.2569 - val_acc: 0.9198\n",
      "Epoch 43/100\n",
      "646/646 [==============================] - 498s 771ms/step - loss: 2.0354e-05 - acc: 1.0000 - val_loss: 0.2546 - val_acc: 0.9259\n",
      "Epoch 44/100\n",
      "646/646 [==============================] - 497s 770ms/step - loss: 1.9888e-05 - acc: 1.0000 - val_loss: 0.2565 - val_acc: 0.9136\n",
      "Epoch 45/100\n",
      "646/646 [==============================] - 499s 772ms/step - loss: 1.8561e-05 - acc: 1.0000 - val_loss: 0.2593 - val_acc: 0.9198\n",
      "Epoch 46/100\n",
      "646/646 [==============================] - 497s 769ms/step - loss: 1.7731e-05 - acc: 1.0000 - val_loss: 0.2589 - val_acc: 0.9198\n",
      "Epoch 47/100\n",
      "646/646 [==============================] - 497s 770ms/step - loss: 1.7346e-05 - acc: 1.0000 - val_loss: 0.2601 - val_acc: 0.9198\n",
      "Epoch 48/100\n",
      "646/646 [==============================] - 497s 770ms/step - loss: 1.6347e-05 - acc: 1.0000 - val_loss: 0.2607 - val_acc: 0.9198\n",
      "Epoch 49/100\n",
      "646/646 [==============================] - 498s 771ms/step - loss: 1.5683e-05 - acc: 1.0000 - val_loss: 0.2615 - val_acc: 0.9198\n",
      "Epoch 50/100\n",
      "646/646 [==============================] - 500s 774ms/step - loss: 1.5234e-05 - acc: 1.0000 - val_loss: 0.2623 - val_acc: 0.9198\n",
      "Epoch 51/100\n",
      "646/646 [==============================] - 498s 771ms/step - loss: 1.4668e-05 - acc: 1.0000 - val_loss: 0.2666 - val_acc: 0.9198\n",
      "Epoch 52/100\n",
      "646/646 [==============================] - 500s 774ms/step - loss: 1.4123e-05 - acc: 1.0000 - val_loss: 0.2616 - val_acc: 0.9259\n",
      "Epoch 53/100\n",
      "646/646 [==============================] - 498s 772ms/step - loss: 1.3609e-05 - acc: 1.0000 - val_loss: 0.2653 - val_acc: 0.9198\n",
      "Epoch 54/100\n",
      "646/646 [==============================] - 499s 772ms/step - loss: 1.3335e-05 - acc: 1.0000 - val_loss: 0.2610 - val_acc: 0.9259\n",
      "Epoch 55/100\n",
      "646/646 [==============================] - 497s 770ms/step - loss: 1.2983e-05 - acc: 1.0000 - val_loss: 0.2643 - val_acc: 0.9198\n",
      "Epoch 56/100\n",
      "646/646 [==============================] - 499s 773ms/step - loss: 1.2596e-05 - acc: 1.0000 - val_loss: 0.2655 - val_acc: 0.9259\n",
      "Epoch 57/100\n",
      "646/646 [==============================] - 498s 771ms/step - loss: 1.2158e-05 - acc: 1.0000 - val_loss: 0.2712 - val_acc: 0.9198\n",
      "Epoch 58/100\n",
      "646/646 [==============================] - 501s 776ms/step - loss: 1.2126e-05 - acc: 1.0000 - val_loss: 0.2675 - val_acc: 0.9198\n"
     ]
    },
    {
     "name": "stdout",
     "output_type": "stream",
     "text": [
      "Epoch 59/100\n",
      "646/646 [==============================] - 501s 776ms/step - loss: 1.1467e-05 - acc: 1.0000 - val_loss: 0.2654 - val_acc: 0.9259\n",
      "Epoch 60/100\n",
      "646/646 [==============================] - 538s 833ms/step - loss: 1.1313e-05 - acc: 1.0000 - val_loss: 0.2667 - val_acc: 0.9259\n",
      "Epoch 61/100\n",
      "646/646 [==============================] - 612s 947ms/step - loss: 1.0885e-05 - acc: 1.0000 - val_loss: 0.2665 - val_acc: 0.9198\n",
      "Epoch 62/100\n",
      "646/646 [==============================] - 560s 867ms/step - loss: 1.0661e-05 - acc: 1.0000 - val_loss: 0.2669 - val_acc: 0.9198\n",
      "Epoch 63/100\n",
      "646/646 [==============================] - 587s 908ms/step - loss: 1.0381e-05 - acc: 1.0000 - val_loss: 0.2676 - val_acc: 0.9259\n",
      "Epoch 64/100\n",
      "646/646 [==============================] - 571s 885ms/step - loss: 1.0128e-05 - acc: 1.0000 - val_loss: 0.2694 - val_acc: 0.9198\n",
      "Epoch 65/100\n",
      "646/646 [==============================] - 595s 922ms/step - loss: 9.8605e-06 - acc: 1.0000 - val_loss: 0.2681 - val_acc: 0.9259\n",
      "Epoch 66/100\n",
      "646/646 [==============================] - 607s 939ms/step - loss: 9.7122e-06 - acc: 1.0000 - val_loss: 0.2694 - val_acc: 0.9198\n",
      "Epoch 67/100\n",
      "646/646 [==============================] - 569s 880ms/step - loss: 9.4342e-06 - acc: 1.0000 - val_loss: 0.2686 - val_acc: 0.9259\n",
      "Epoch 68/100\n",
      "646/646 [==============================] - 522s 807ms/step - loss: 9.2209e-06 - acc: 1.0000 - val_loss: 0.2718 - val_acc: 0.9198\n",
      "Epoch 69/100\n",
      "646/646 [==============================] - 503s 778ms/step - loss: 9.0014e-06 - acc: 1.0000 - val_loss: 0.2727 - val_acc: 0.9198\n",
      "Epoch 70/100\n",
      "646/646 [==============================] - 502s 777ms/step - loss: 8.8534e-06 - acc: 1.0000 - val_loss: 0.2717 - val_acc: 0.9259\n",
      "Epoch 71/100\n",
      "646/646 [==============================] - 501s 776ms/step - loss: 8.7150e-06 - acc: 1.0000 - val_loss: 0.2720 - val_acc: 0.9198\n",
      "Epoch 72/100\n",
      "646/646 [==============================] - 501s 776ms/step - loss: 8.4822e-06 - acc: 1.0000 - val_loss: 0.2722 - val_acc: 0.9198\n",
      "Epoch 73/100\n",
      "646/646 [==============================] - 504s 780ms/step - loss: 8.3245e-06 - acc: 1.0000 - val_loss: 0.2720 - val_acc: 0.9259\n",
      "Epoch 74/100\n",
      "646/646 [==============================] - 500s 774ms/step - loss: 8.1717e-06 - acc: 1.0000 - val_loss: 0.2726 - val_acc: 0.9198\n",
      "Epoch 75/100\n",
      "646/646 [==============================] - 501s 775ms/step - loss: 8.0602e-06 - acc: 1.0000 - val_loss: 0.2747 - val_acc: 0.9198\n",
      "Epoch 76/100\n",
      "646/646 [==============================] - 501s 776ms/step - loss: 7.8823e-06 - acc: 1.0000 - val_loss: 0.2728 - val_acc: 0.9198\n",
      "Epoch 77/100\n",
      "646/646 [==============================] - 500s 773ms/step - loss: 7.7138e-06 - acc: 1.0000 - val_loss: 0.2739 - val_acc: 0.9198\n",
      "Epoch 78/100\n",
      "646/646 [==============================] - 504s 781ms/step - loss: 7.6143e-06 - acc: 1.0000 - val_loss: 0.2746 - val_acc: 0.9198\n",
      "Epoch 79/100\n",
      "646/646 [==============================] - 550s 851ms/step - loss: 7.4338e-06 - acc: 1.0000 - val_loss: 0.2737 - val_acc: 0.9259\n",
      "Epoch 80/100\n",
      "646/646 [==============================] - 587s 908ms/step - loss: 7.3241e-06 - acc: 1.0000 - val_loss: 0.2745 - val_acc: 0.9198\n",
      "Epoch 81/100\n",
      "646/646 [==============================] - 579s 896ms/step - loss: 7.2137e-06 - acc: 1.0000 - val_loss: 0.2753 - val_acc: 0.9198\n",
      "Epoch 82/100\n",
      "646/646 [==============================] - 527s 816ms/step - loss: 7.0817e-06 - acc: 1.0000 - val_loss: 0.2771 - val_acc: 0.9198\n",
      "Epoch 83/100\n",
      "646/646 [==============================] - 567s 877ms/step - loss: 6.9281e-06 - acc: 1.0000 - val_loss: 0.2758 - val_acc: 0.9198\n",
      "Epoch 84/100\n",
      "646/646 [==============================] - 573s 887ms/step - loss: 6.8337e-06 - acc: 1.0000 - val_loss: 0.2756 - val_acc: 0.9198\n",
      "Epoch 85/100\n",
      "646/646 [==============================] - 604s 935ms/step - loss: 6.7281e-06 - acc: 1.0000 - val_loss: 0.2764 - val_acc: 0.9198\n",
      "Epoch 86/100\n",
      "646/646 [==============================] - 506s 783ms/step - loss: 6.6465e-06 - acc: 1.0000 - val_loss: 0.2765 - val_acc: 0.9198\n",
      "Epoch 87/100\n",
      "646/646 [==============================] - 502s 778ms/step - loss: 6.5444e-06 - acc: 1.0000 - val_loss: 0.2782 - val_acc: 0.9198\n",
      "Epoch 88/100\n",
      "646/646 [==============================] - 545s 844ms/step - loss: 6.4236e-06 - acc: 1.0000 - val_loss: 0.2772 - val_acc: 0.9259\n",
      "Epoch 89/100\n",
      "646/646 [==============================] - 570s 883ms/step - loss: 6.3320e-06 - acc: 1.0000 - val_loss: 0.2798 - val_acc: 0.9198\n",
      "Epoch 90/100\n",
      "646/646 [==============================] - 559s 866ms/step - loss: 6.2968e-06 - acc: 1.0000 - val_loss: 0.2788 - val_acc: 0.9198\n",
      "Epoch 91/100\n",
      "646/646 [==============================] - 633s 981ms/step - loss: 6.1492e-06 - acc: 1.0000 - val_loss: 0.2802 - val_acc: 0.9198\n",
      "Epoch 92/100\n",
      "646/646 [==============================] - 505s 782ms/step - loss: 6.0478e-06 - acc: 1.0000 - val_loss: 0.2800 - val_acc: 0.9198\n",
      "Epoch 93/100\n",
      "646/646 [==============================] - 502s 777ms/step - loss: 5.9997e-06 - acc: 1.0000 - val_loss: 0.2793 - val_acc: 0.9198\n",
      "Epoch 94/100\n",
      "646/646 [==============================] - 534s 826ms/step - loss: 5.8711e-06 - acc: 1.0000 - val_loss: 0.2788 - val_acc: 0.9198\n",
      "Epoch 95/100\n",
      "646/646 [==============================] - 578s 895ms/step - loss: 5.7872e-06 - acc: 1.0000 - val_loss: 0.2772 - val_acc: 0.9259\n",
      "Epoch 96/100\n",
      "646/646 [==============================] - 542s 840ms/step - loss: 5.7161e-06 - acc: 1.0000 - val_loss: 0.2801 - val_acc: 0.9198\n",
      "Epoch 97/100\n",
      "646/646 [==============================] - 633s 980ms/step - loss: 5.6474e-06 - acc: 1.0000 - val_loss: 0.2806 - val_acc: 0.9198\n",
      "Epoch 98/100\n",
      "646/646 [==============================] - 578s 895ms/step - loss: 5.5609e-06 - acc: 1.0000 - val_loss: 0.2803 - val_acc: 0.9198\n",
      "Epoch 99/100\n",
      "646/646 [==============================] - 583s 902ms/step - loss: 5.4865e-06 - acc: 1.0000 - val_loss: 0.2816 - val_acc: 0.9198\n",
      "Epoch 100/100\n",
      "646/646 [==============================] - 587s 908ms/step - loss: 5.4105e-06 - acc: 1.0000 - val_loss: 0.2808 - val_acc: 0.9198\n"
     ]
    }
   ],
   "source": [
    "hist = custom_vgg_model2.fit(X_train, y_train, batch_size=batch_size, epochs=num_epoch, verbose=1, validation_data=(X_test, y_test))"
   ]
  },
  {
   "cell_type": "code",
   "execution_count": 80,
   "metadata": {},
   "outputs": [
    {
     "name": "stdout",
     "output_type": "stream",
     "text": [
      "162/162 [==============================] - 121s 744ms/step\n",
      "[INFO] loss=0.2808, accuracy: 91.9753%\n"
     ]
    }
   ],
   "source": [
    "(loss, accuracy) = custom_vgg_model2.evaluate(X_test, y_test, batch_size=batch_size, verbose=1)\n",
    "\n",
    "print(\"[INFO] loss={:.4f}, accuracy: {:.4f}%\".format(loss,accuracy * 100))"
   ]
  },
  {
   "cell_type": "code",
   "execution_count": 81,
   "metadata": {},
   "outputs": [],
   "source": [
    "Y_train_pred = custom_vgg_model2.predict(X_test)"
   ]
  },
  {
   "cell_type": "code",
   "execution_count": 82,
   "metadata": {},
   "outputs": [
    {
     "name": "stdout",
     "output_type": "stream",
     "text": [
      "[2 2 1 0 1 2 3 3 1 3 1 3 2 3 3 2 0 3 3 2 1 3 0 0 0 1 3 3 0 3 2 1 2 2 0 3 1\n",
      " 1 3 2 1 0 1 0 1 1 1 0 2 0 2 3 1 1 2 2 0 2 3 0 3 0 0 3 1 1 1 2 3 2 0 0 2 0\n",
      " 3 0 1 3 1 2 1 1 1 2 2 1 1 3 1 0 2 1 0 0 3 0 2 2 2 3 0 3 0 1 3 3 0 3 3 2 2\n",
      " 3 1 0 2 1 3 2 3 3 1 0 3 0 2 2 1 2 1 0 2 3 0 1 3 0 1 2 0 3 1 0 3 3 3 0 0 3\n",
      " 3 0 1 1 0 3 3 3 3 1 1 2 1 0]\n"
     ]
    }
   ],
   "source": [
    "y_train_pred = np.argmax(Y_train_pred, axis=1)\n",
    "print(y_train_pred)"
   ]
  },
  {
   "cell_type": "code",
   "execution_count": 83,
   "metadata": {},
   "outputs": [
    {
     "name": "stdout",
     "output_type": "stream",
     "text": [
      "[[36  5  0  0]\n",
      " [ 2 36  1  1]\n",
      " [ 1  0 32  0]\n",
      " [ 0  1  2 45]]\n"
     ]
    }
   ],
   "source": [
    "print(confusion_matrix(np.argmax(y_test, axis=1), y_train_pred))"
   ]
  },
  {
   "cell_type": "code",
   "execution_count": null,
   "metadata": {},
   "outputs": [],
   "source": []
  },
  {
   "cell_type": "code",
   "execution_count": null,
   "metadata": {},
   "outputs": [],
   "source": []
  }
 ],
 "metadata": {
  "kernelspec": {
   "display_name": "Python 3",
   "language": "python",
   "name": "python3"
  },
  "language_info": {
   "codemirror_mode": {
    "name": "ipython",
    "version": 3
   },
   "file_extension": ".py",
   "mimetype": "text/x-python",
   "name": "python",
   "nbconvert_exporter": "python",
   "pygments_lexer": "ipython3",
   "version": "3.6.5"
  }
 },
 "nbformat": 4,
 "nbformat_minor": 2
}
